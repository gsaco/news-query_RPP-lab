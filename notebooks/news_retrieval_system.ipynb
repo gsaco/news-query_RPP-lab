{
 "cells": [
  {
   "cell_type": "markdown",
   "metadata": {},
   "source": [
    "# 📰 RPP News Retrieval System with ChromaDB & LangChain\n",
    "\n",
    "## Objective\n",
    "Ingest the latest news from RPP Perú (https://rpp.pe/rss) embed them using SentenceTransformers and build a retrieval system using ChromaDB orchestrated with LangChain.\n",
    "\n",
    "## Pipeline Overview\n",
    "0. **Setup & Imports** - Load all required libraries and modules\n",
    "1. **Load Data** - Extract 50 latest news from RPP RSS feed\n",
    "2. **Tokenization** - Tokenize with tiktoken and analyze token counts\n",
    "3. **Embedding** - Generate embeddings with sentence-transformers/all-MiniLM-L6-v2\n",
    "4. **ChromaDB Storage** - Store documents with metadata in ChromaDB (chroma_db/)\n",
    "5. **Query Results** - Semantic similarity search with DataFrame output\n",
    "6. **LangChain Orchestration** - End-to-end modular pipeline\n",
    "\n",
    "---"
   ]
  },
  {
   "cell_type": "code",
   "execution_count": 1,
   "metadata": {},
   "outputs": [],
   "source": [
    "import sys\n",
    "sys.path.append('../src')\n",
    "\n",
    "import pandas as pd\n",
    "import numpy as np\n",
    "from datetime import datetime\n",
    "\n",
    "# Import custom modules\n",
    "from rss_loader import load_rss_feed, format_news_for_embedding\n",
    "from tokenizer import tokenize_text, count_tokens, should_chunk\n",
    "from embeddings import EmbeddingGenerator\n",
    "from vector_store import ChromaDBStore\n",
    "from langchain_pipeline import NewsRetrievalPipeline\n",
    "from utils import create_results_dataframe, display_results"
   ]
  },
  {
   "cell_type": "markdown",
   "metadata": {},
   "source": [
    "## 1. Load Data from RPP RSS Feed\n",
    "\n",
    "Load the latest 50 news items from RPP Perú RSS feed (https://rpp.pe/rss).\n",
    "\n",
    "**Requirements:**\n",
    "- Use `feedparser` to extract news items\n",
    "- Each record includes: `title`, `description`, `link`, `published` (date)"
   ]
  },
  {
   "cell_type": "code",
   "execution_count": 19,
   "metadata": {},
   "outputs": [
    {
     "name": "stdout",
     "output_type": "stream",
     "text": [
      "📡 Loading RSS feed from RPP Perú...\n",
      "✅ Loaded 50 news items\n",
      "\n",
      "First 3 news items:\n",
      "\n",
      "1. Flamengo vs. Racing Club EN VIVO: ¿a qué hora juegan y dónde ver hoy por la semifinal de Copa Libertadores?\n",
      "   Published: Wed, 22 Oct 2025 17:30:11 -0500\n",
      "   Link: https://rpp.pe/futbol/copa-libertadores/flamengo-vs-racing-club-en-vivo-ver-espn-transmision-gratis-desde-maracana-ida-semifinal-copa-libertadores-2025-link-stream-partidos-de-hoy-noticia-1660341\n",
      "   Description: En el Maracaná, Flamengo y Racing chocarán en un partido imperdible por la semifinal ida de la Copa ...\n",
      "\n",
      "2. JNJ determina que Delia Espinoza no retornará como Fiscal de la Nación\n",
      "   Published: Wed, 22 Oct 2025 16:58:30 -0500\n",
      "   Link: https://rpp.pe/politica/judiciales/delia-espinoza-ya-no-sera-fiscal-de-la-nacion-jnj-noticia-1660534\n",
      "   Description: La JNJ enfatizó se mantiene vigente la medida cautelar de suspensión preventiva en el cargo a Espino...\n",
      "\n",
      "3. Ala Este de la Casa Blanca será demolida totalmente para construir salón de baile de Trump\n",
      "   Published: Wed, 22 Oct 2025 17:15:10 -0500\n",
      "   Link: https://rpp.pe/mundo/estados-unidos/ala-este-de-la-casa-blanca-sera-demolida-totalmente-para-construir-salon-de-baile-de-trump-noticia-1660537\n",
      "   Description: De acuerdo con el diario The New York Times, el trabajo de demolición debería ser concretado este fi...\n"
     ]
    }
   ],
   "source": [
    "# Load RSS feed\n",
    "print(\"📡 Loading RSS feed from RPP Perú...\")\n",
    "news_items = load_rss_feed(url=\"https://rpp.pe/rss\", max_items=50)\n",
    "\n",
    "print(f\"✅ Loaded {len(news_items)} news items\")\n",
    "print(\"\\nFirst 3 news items:\")\n",
    "for i, item in enumerate(news_items[:3], 1):\n",
    "    print(f\"\\n{i}. {item['title']}\")\n",
    "    print(f\"   Published: {item['published']}\")\n",
    "    print(f\"   Link: {item['link']}\")\n",
    "    print(f\"   Description: {item['description'][:100]}...\")"
   ]
  },
  {
   "cell_type": "code",
   "execution_count": 20,
   "metadata": {},
   "outputs": [
    {
     "name": "stdout",
     "output_type": "stream",
     "text": [
      "\n",
      "📊 News DataFrame:\n",
      "                                               title  \\\n",
      "0  Flamengo vs. Racing Club EN VIVO: ¿a qué hora ...   \n",
      "1  JNJ determina que Delia Espinoza no retornará ...   \n",
      "2  Ala Este de la Casa Blanca será demolida total...   \n",
      "3  Moquegua: pobladores piden nuevo tamizaje para...   \n",
      "4  Myriam Hernández en Lima: setlist de canciones...   \n",
      "\n",
      "                                         description  \\\n",
      "0  En el Maracaná, Flamengo y Racing chocarán en ...   \n",
      "1  La JNJ enfatizó se mantiene vigente la medida ...   \n",
      "2  De acuerdo con el diario The New York Times, e...   \n",
      "3  Rotafono de RPP | En el 2023, la Dirección Reg...   \n",
      "4  La 'Baladista de América' llega a Lima para do...   \n",
      "\n",
      "                                                link  \\\n",
      "0  https://rpp.pe/futbol/copa-libertadores/flamen...   \n",
      "1  https://rpp.pe/politica/judiciales/delia-espin...   \n",
      "2  https://rpp.pe/mundo/estados-unidos/ala-este-d...   \n",
      "3  https://rpp.pe/rotafono/servicios-publicos/moq...   \n",
      "4  https://rpp.pe/musica/conciertos/myriam-hernan...   \n",
      "\n",
      "                         published  \n",
      "0  Wed, 22 Oct 2025 17:30:11 -0500  \n",
      "1  Wed, 22 Oct 2025 16:58:30 -0500  \n",
      "2  Wed, 22 Oct 2025 17:15:10 -0500  \n",
      "3  Wed, 22 Oct 2025 09:35:30 -0500  \n",
      "4  Wed, 22 Oct 2025 17:00:29 -0500  \n",
      "\n",
      "Shape: (50, 4)\n"
     ]
    }
   ],
   "source": [
    "# Create DataFrame for visualization\n",
    "df_news = pd.DataFrame(news_items)\n",
    "print(\"\\n📊 News DataFrame:\")\n",
    "print(df_news.head())\n",
    "print(f\"\\nShape: {df_news.shape}\")"
   ]
  },
  {
   "cell_type": "code",
   "execution_count": null,
   "metadata": {},
   "outputs": [
    {
     "name": "stdout",
     "output_type": "stream",
     "text": [
      "\n",
      "📰 Complete List of 50 News Items from RPP:\n",
      "\n",
      "========================================================================================================================\n",
      "\n",
      "1. Flamengo vs. Racing Club EN VIVO: ¿a qué hora juegan y dónde ver hoy por la semifinal de Copa Libertadores?\n",
      "   📅 Wed, 22 Oct 2025 17:30:11 -0500\n",
      "   📝 En el Maracaná, Flamengo y Racing chocarán en un partido imperdible por la semifinal ida de la Copa Libertadores 2025.\n",
      "   🔗 https://rpp.pe/futbol/copa-libertadores/flamengo-vs-racing-club-en-vivo-ver-espn-transmision-gratis-desde-maracana-ida-semifinal-copa-libertadores-2025-link-stream-partidos-de-hoy-noticia-1660341\n",
      "------------------------------------------------------------------------------------------------------------------------\n",
      "\n",
      "2. JNJ determina que Delia Espinoza no retornará como Fiscal de la Nación\n",
      "   📅 Wed, 22 Oct 2025 16:58:30 -0500\n",
      "   📝 La JNJ enfatizó se mantiene vigente la medida cautelar de suspensión preventiva en el cargo a Espinoza Valenzuela por una resolución emitida en setiembre.\n",
      "   🔗 https://rpp.pe/politica/judiciales/delia-espinoza-ya-no-sera-fiscal-de-la-nacion-jnj-noticia-1660534\n",
      "------------------------------------------------------------------------------------------------------------------------\n",
      "\n",
      "3. Ala Este de la Casa Blanca será demolida totalmente para construir salón de baile de Trump\n",
      "   📅 Wed, 22 Oct 2025 17:15:10 -0500\n",
      "   📝 De acuerdo con el diario The New York Times, el trabajo de demolición debería ser concretado este fin de semana, para dar paso a la construcción del salón de baile, anunciado por Donald Trump, que tiene un costo estimado de 200 millones de dólares.\n",
      "   🔗 https://rpp.pe/mundo/estados-unidos/ala-este-de-la-casa-blanca-sera-demolida-totalmente-para-construir-salon-de-baile-de-trump-noticia-1660537\n",
      "------------------------------------------------------------------------------------------------------------------------\n",
      "\n",
      "4. Moquegua: pobladores piden nuevo tamizaje para descartar arsénico en escolares\n",
      "   📅 Wed, 22 Oct 2025 09:35:30 -0500\n",
      "   📝 Rotafono de RPP | En el 2023, la Dirección Regional de Salud de Moquegua detectó la presencia del metal pesado en un grupo de alumnos de inicial y primaria en el anexo de Ronjadero, en el distrito Coalaque.\n",
      "   🔗 https://rpp.pe/rotafono/servicios-publicos/moquegua-pobladores-piden-nuevo-tamizaje-para-descartar-arsenico-en-escolares-noticia-1660444\n",
      "------------------------------------------------------------------------------------------------------------------------\n",
      "\n",
      "5. Myriam Hernández en Lima: setlist de canciones, horarios y todo sobre sus conciertos en el Parque de la Exposición\n",
      "   📅 Wed, 22 Oct 2025 17:00:29 -0500\n",
      "   📝 La 'Baladista de América' llega a Lima para dos presentaciones este 22 y 23 de octubre. Conoce todos los detalles de los conciertos de Myriam Hernández auspiciado por radio Felicidad.\n",
      "   🔗 https://rpp.pe/musica/conciertos/myriam-hernandez-en-lima-2025-setlist-con-canciones-horarios-accesos-y-todo-sobre-concierto-de-baladista-en-parque-de-la-exposicion-noticia-1660310\n",
      "------------------------------------------------------------------------------------------------------------------------\n",
      "\n",
      "6. Temblor en Chile hoy 22 de octubre: Epicentro del sismo según CSN\n",
      "   📅 Wed, 22 Oct 2025 02:09:45 -0500\n",
      "   📝 ¿Cuál fue el último Temblor en Chile hoy 22 de octubre y registrado por el servicio Sismológico Nacional de Chile (CSN)? Consulta los últimos sismos: magnitud y epicentro del movimiento sísmico.\n",
      "   🔗 https://rpp.pe/mundo/chile/temblor-en-chile-hoy-22-de-octubre-epicentro-del-sismo-segun-csn-live-3011\n",
      "------------------------------------------------------------------------------------------------------------------------\n",
      "\n",
      "7. Isabel Preysler publica íntimas cartas de amor de Mario Vargas Llosa y afirma: \"Él era feliz conmigo\"\n",
      "   📅 Wed, 22 Oct 2025 08:47:59 -0500\n",
      "   📝 Isabel Preysler publicó su libro 'Mi verdadera historia' donde aparecen cartas de amor que le envío Mario Vargas Llosa durante su relación entre el 2015 y 2022.\n",
      "   🔗 https://rpp.pe/famosos/celebridades/isabel-preysler-publica-intimas-cartas-de-amor-de-mario-vargas-llosa-en-su-libro-mi-verdadera-historia-noticia-1660424\n",
      "------------------------------------------------------------------------------------------------------------------------\n",
      "\n",
      "8. \"Seguimos persiguiendo sueños\": Grupo 5 brilla en los Billboard Latin Music Week en Miami\n",
      "   📅 Wed, 22 Oct 2025 17:06:57 -0500\n",
      "   📝 Por primera vez, la orquesta de Monsefú participó en el encuentro musical más importante de la industria latina en Miami, compartiendo escenario con Olga Tañón, Guaynaa y otros artistas.\n",
      "   🔗 https://rpp.pe/musica/nacional/grupo-5-brilla-en-los-billboard-latin-music-week-en-miami-seguimos-persiguiendo-suenos-noticia-1660482\n",
      "------------------------------------------------------------------------------------------------------------------------\n",
      "\n",
      "9. Soda Stereo en Lima: precios y cómo comprar entradas para su concierto en Arena 1\n",
      "   📅 Wed, 22 Oct 2025 17:00:37 -0500\n",
      "   📝 El trío argentino regresa en 2026, seis años después de su última visita al país. Conoce todos los detalles: precios, zonas y cómo adquirir tus entradas en Joinnus.\n",
      "   🔗 https://rpp.pe/musica/conciertos/soda-stereo-en-lima-2026-precios-y-como-comprar-entradas-en-joinnus-para-concierto-con-gustavo-cerati-virtual-en-arena-1-noticia-1660451\n",
      "------------------------------------------------------------------------------------------------------------------------\n",
      "\n",
      "10. Argentina: dólar blue hoy a cuánto cotiza este miércoles 22 de octubre\n",
      "   📅 Wed, 22 Oct 2025 05:59:39 -0500\n",
      "   📝 La cotización del dólar blue, hoy miércoles 22 de octubre en el país de Argentina es de $1530 compra y $1550 la venta.\n",
      "   🔗 https://rpp.pe/mundo/argentina/argentina-dolar-blue-hoy-a-cuanto-cotiza-este-miercoles-22-de-octubre-noticia-1660393\n",
      "------------------------------------------------------------------------------------------------------------------------\n",
      "\n",
      "11. México confirma arresto en Cuba de Zhi Dong Zhang, el capo chino del tráfico de fentanilo a EE.UU.\n",
      "   📅 Wed, 22 Oct 2025 16:45:36 -0500\n",
      "   📝 Zhi Dong Zhang, alias 'Brother Wang', había escapado en julio de 2025 de un arresto domiciliario en la Ciudad de México, donde se encontraba bajo custodia de la Guardia Nacional.\n",
      "   🔗 https://rpp.pe/mundo/actualidad/mexico-confirma-arresto-en-cuba-de-zhi-dong-zhang-el-capo-chino-del-trafico-de-fentanilo-a-eeuu-noticia-1660533\n",
      "------------------------------------------------------------------------------------------------------------------------\n",
      "\n",
      "12. [GUÍA] Retiro de AFP 2025: todos los pasos para registrar tu solicitud y acceder a tu fondo de pensiones\n",
      "   📅 Wed, 22 Oct 2025 16:45:36 -0500\n",
      "   📝 Ya se encuentra activo el registro del octavo retiro facultativo de AFP para aquellas personas cuyo DNI acaba en 0. Conoce los detalles sobre los pasos para acceder al dinero ahorrado en tu fondo de pensiones.\n",
      "   🔗 https://rpp.pe/economia/economia/retiro-afp-2025-estos-son-los-pasos-para-registrar-tu-solicitud-por-el-desembolso-de-tus-fondos-noticia-1660521\n",
      "------------------------------------------------------------------------------------------------------------------------\n",
      "\n",
      "13. Apple, hija de Chris Martin y Gwyneth Paltrow debutó como cantante\n",
      "   📅 Wed, 22 Oct 2025 16:46:13 -0500\n",
      "   📝 La joven, que cursa estudios de derecho en Vanderbilt University, ya tiene créditos como compositora en canciones de Coldplay.\n",
      "   🔗 https://rpp.pe/famosos/celebridades/apple-martin-debuta-como-cantante-frente-a-su-padre-chris-martin-de-coldplay-video-noticia-1660529\n",
      "------------------------------------------------------------------------------------------------------------------------\n",
      "\n",
      "14. Cúal fue el último temblor en México hoy 22 de octubre según SSN\n",
      "   📅 Wed, 22 Oct 2025 06:42:35 -0500\n",
      "   📝 Cuál es el ultimo temblor en México y CDMX registrado segun el Servicio Sismológico Nacional (SSN) hoy 22 de octubre del 2025. Consulta los últimos sismos EN VIVO para México aquí.\n",
      "   🔗 https://rpp.pe/mundo/mexico/cual-fue-el-ultimo-temblor-en-mexico-hoy-22-de-octubre-segun-ssn-live-3013\n",
      "------------------------------------------------------------------------------------------------------------------------\n",
      "\n",
      "15. Bad Bunny reprograma sus conciertos en Perú por su participación en el medio tiempo del Super Bowl 2026\n",
      "   📅 Wed, 22 Oct 2025 16:43:20 -0500\n",
      "   📝 El cantante puertorriqueño había programado una segunda fecha en Lima luego de agotar las entradas de su primer concierto en pocas horas. Regresará al país tres años después de su última presentación.\n",
      "   🔗 https://rpp.pe/musica/conciertos/bad-bunny-en-lima-2026-anuncian-que-los-conciertos-en-peru-seran-reprogramados-por-su-participacion-en-show-de-medio-tiempo-super-bowl-cuando-sera-noticia-1660524\n",
      "------------------------------------------------------------------------------------------------------------------------\n",
      "\n",
      "16. Partidos de hoy, miércoles 22 de octubre del 2025: horarios y canales TV para ver EN VIVO Champions League y Libertadores\n",
      "   📅 Wed, 22 Oct 2025 16:40:34 -0500\n",
      "   📝 Fútbol EN VIVO | Horarios y canales de TV para ver EN DIRECTO los partidos de hoy, miércoles 22 de octubre del 2025.\n",
      "   🔗 https://rpp.pe/futbol/futbol-mundial/partidos-de-hoy-peru-miercoles-22-de-octubre-del-2025-horarios-y-canales-tv-ver-futbol-en-vivo-noticia-1660277\n",
      "------------------------------------------------------------------------------------------------------------------------\n",
      "\n",
      "17. Cronograma del octavo retiro de AFP 2025 HOY: cuándo podrás presentar tu solicitud según tu DNI\n",
      "   📅 Wed, 22 Oct 2025 16:30:03 -0500\n",
      "   📝 El desembolso se efectuará hasta en cuatro armadas mensuales de 1 UIT cada una (S/5 350), después de 30 días de ingresada la solicitud, y cada 30 días hasta completar el total solicitado.\n",
      "   🔗 https://rpp.pe/economia/economia/octavo-retiro-de-afp-2025-conoce-el-cronograma-oficial-segun-el-numero-de-dni-noticia-1657530\n",
      "------------------------------------------------------------------------------------------------------------------------\n",
      "\n",
      "18. Estados Unidos anunciará un \"aumento sustancial\" en sus sanciones a Rusia en las próximas horas\n",
      "   📅 Wed, 22 Oct 2025 16:33:24 -0500\n",
      "   📝 \"Vamos a anunciar después del cierre (de los mercados) de esta tarde o a primera hora de mañana un aumento sustancial de las sanciones a Rusia\", adelantó el secretario del Tesoro, Scott Bessent, sin ofrecer más detalles sobre la magnitud de las acciones.\n",
      "   🔗 https://rpp.pe/mundo/estados-unidos/estados-unidos-anunciara-un-aumento-sustancial-en-sus-sanciones-a-rusia-en-las-proximas-horas-noticia-1660531\n",
      "------------------------------------------------------------------------------------------------------------------------\n",
      "\n",
      "19. 'Emily in Paris' llega a Italia: Lily Collins conquistará Roma en la temporada 5 de la serie de Netflix\n",
      "   📅 Wed, 22 Oct 2025 16:31:14 -0500\n",
      "   📝 La protagonista inicia una nueva etapa profesional y amorosa en Italia en una temporada que promete más drama, glamour y giros inesperados.\n",
      "   🔗 https://rpp.pe/tv/netflix/emily-in-paris-llega-a-italia-lily-collins-conquistara-roma-en-la-temporada-5-de-la-serie-de-netflix-noticia-1660522\n",
      "------------------------------------------------------------------------------------------------------------------------\n",
      "\n",
      "20. Champions League: Athletic Bilbao se impone con remontada 3-1 sobre Qarabag\n",
      "   📅 Wed, 22 Oct 2025 16:15:04 -0500\n",
      "   📝 Athletic Bilbao vs Qarabag se enfrentaron por la UEFA Champions League. Aquí todos los detalles y resumen del encuentro.\n",
      "   🔗 https://rpp.pe/futbol/ligas-internacionales/champions-league-athletic-bilbao-se-enfrentara-ante-qarabag-por-la-fecha-3-noticia-1660237\n",
      "------------------------------------------------------------------------------------------------------------------------\n",
      "\n",
      "21. Champions League: Sporting Lisboa voltea el marcador y triunfa 2 a 1 ante Olympique de Marsella con gol agónico\n",
      "   📅 Wed, 22 Oct 2025 16:10:04 -0500\n",
      "   📝 Sporting Lisboa vs Olympique de Marsella se enfrentaron por la UEFA Champions League. Aquí todos los detalles y resumen del encuentro.\n",
      "   🔗 https://rpp.pe/futbol/ligas-internacionales/champions-league-sporting-lisboa-y-olympique-de-marsella-se-encuentran-en-la-fecha-3-noticia-1660262\n",
      "------------------------------------------------------------------------------------------------------------------------\n",
      "\n",
      "22. Champions League: Victor Osimhen ayudó con doblete a Galatasaray en victoria 3-1 frente a FK Bodo/Glimt\n",
      "   📅 Wed, 22 Oct 2025 16:10:06 -0500\n",
      "   📝 Galatasaray vs FK Bodo/Glimt se enfrentaron por la UEFA Champions League. Aquí todos los detalles y resumen del encuentro.\n",
      "   🔗 https://rpp.pe/futbol/ligas-internacionales/champions-league-fk-bodo-glimt-se-enfrentara-a-galatasaray-por-la-fecha-3-noticia-1660238\n",
      "------------------------------------------------------------------------------------------------------------------------\n",
      "\n",
      "23. Champions League: Goleada de Bayern Múnich 4 a 0 sobre Club Brugge\n",
      "   📅 Wed, 22 Oct 2025 16:10:04 -0500\n",
      "   📝 Bayern Múnich vs Club Brugge se enfrentaron por la UEFA Champions League. Aquí todos los detalles y resumen del encuentro.\n",
      "   🔗 https://rpp.pe/futbol/ligas-internacionales/champions-league-bayern-munich-recibira-a-club-brugge-por-la-fecha-3-noticia-1660259\n",
      "------------------------------------------------------------------------------------------------------------------------\n",
      "\n",
      "24. Champions League: Atalanta y Slavia Praga no se hicieron daño y empataron sin goles\n",
      "   📅 Wed, 22 Oct 2025 16:10:05 -0500\n",
      "   📝 Atalanta vs Slavia Praga se enfrentaron por la UEFA Champions League. Aquí todos los detalles y resumen del encuentro.\n",
      "   🔗 https://rpp.pe/futbol/ligas-internacionales/champions-league-atalanta-se-enfrenta-ante-la-visita-slavia-praga-por-la-fecha-3-noticia-1660258\n",
      "------------------------------------------------------------------------------------------------------------------------\n",
      "\n",
      "25. Champions League: Chelsea golea 5-1 a Ajax\n",
      "   📅 Wed, 22 Oct 2025 16:05:10 -0500\n",
      "   📝 Chelsea vs Ajax se enfrentaron por la UEFA Champions League. Aquí todos los detalles y resumen del encuentro.\n",
      "   🔗 https://rpp.pe/futbol/ligas-internacionales/champions-league-por-la-fecha-3-se-enfrentaran-chelsea-y-ajax-noticia-1660260\n",
      "------------------------------------------------------------------------------------------------------------------------\n",
      "\n",
      "26. Champions League: Real Madrid le ganó 1-0 a Juventus\n",
      "   📅 Wed, 22 Oct 2025 16:05:09 -0500\n",
      "   📝 Real Madrid vs Juventus se enfrentaron por la UEFA Champions League. Aquí todos los detalles y resumen del encuentro.\n",
      "   🔗 https://rpp.pe/futbol/ligas-internacionales/champions-league-real-madrid-y-juventus-se-miden-por-la-fecha-3-noticia-1660263\n",
      "------------------------------------------------------------------------------------------------------------------------\n",
      "\n",
      "27. Champions League: Sin goles, Mónaco y Tottenham igualaron el partido\n",
      "   📅 Wed, 22 Oct 2025 16:05:08 -0500\n",
      "   📝 Mónaco vs Tottenham se enfrentaron por la UEFA Champions League. Aquí todos los detalles y resumen del encuentro.\n",
      "   🔗 https://rpp.pe/futbol/ligas-internacionales/champions-league-se-enfrentan-monaco-y-tottenham-por-la-fecha-3-noticia-1660265\n",
      "------------------------------------------------------------------------------------------------------------------------\n",
      "\n",
      "28. Policía en presunto estado de ebriedad es detenido por agredir a dos colegas que intentaron intervenirlo en Huancayo [VIDEO]\n",
      "   📅 Wed, 22 Oct 2025 16:05:27 -0500\n",
      "   📝 El agente es de la Unidad de Servicios Especiales (USE) y atacó a los efectivos que intentaron intervenirlo por estacionar su auto en plena vía pública.\n",
      "   🔗 https://rpp.pe/peru/junin/huancayo-detienen-a-policia-tras-agredir-a-sus-colegas-en-presunto-estado-de-ebriedad-noticia-1660515\n",
      "------------------------------------------------------------------------------------------------------------------------\n",
      "\n",
      "29. Sigue con paso perfecto: Real Madrid venció 1-0 a Juventus en la fecha 3 de la Champions League (VIDEO)\n",
      "   📅 Wed, 22 Oct 2025 16:02:46 -0500\n",
      "   📝 Jude Bellingham le dio una nueva victoria en la Champions League al Real Madrid, que llega con el ánimo a tope para enfrentar al Barcelona por el Clásico.\n",
      "   🔗 https://rpp.pe/futbol/champions-league/real-madrid-vs-juventus-en-vivo-ver-espn-transmision-gratis-desde-tu-celular-fase-liga-champions-league-2025-con-mbappe-link-online-partidos-de-hoy-noticia-1660257\n",
      "------------------------------------------------------------------------------------------------------------------------\n",
      "\n",
      "30. Champions League: Liverpool arrasó con una remontada y goleó 5-1 a Eintracht Frankfurt\n",
      "   📅 Wed, 22 Oct 2025 16:00:09 -0500\n",
      "   📝 Eintracht Frankfurt vs Liverpool se enfrentaron por la UEFA Champions League. Aquí todos los detalles y resumen del encuentro.\n",
      "   🔗 https://rpp.pe/futbol/ligas-internacionales/champions-league-liverpool-visita-a-eintracht-frankfurt-por-la-fecha-3-noticia-1660261\n",
      "------------------------------------------------------------------------------------------------------------------------\n",
      "\n",
      "31. Revisa el LINK oficial del retiro AFP 2025 para registrar tu solicitud de desembolso\n",
      "   📅 Wed, 22 Oct 2025 16:00:08 -0500\n",
      "   📝 La solicitud para el octavo retiro de AFP es gratuita y 100% digital a través de los portales oficiales de cada administradora. Revisa los links oficiales.\n",
      "   🔗 https://rpp.pe/economia/economia/retiro-afp-2025-link-oficial-para-registrar-tu-solicitud-y-pasos-para-solicitar-desembolso-4-uit-de-fondos-noticia-1660126\n",
      "------------------------------------------------------------------------------------------------------------------------\n",
      "\n",
      "32. Estrenos de Películas hoy 22 de octubre del 2025\n",
      "   📅 Tue, 21 Oct 2025 07:02:04 -0500\n",
      "   📝 Estas son las películas que se estrenan hoy en Perú en las plataformas online de streaming. Revisa aquí la sinopsis, puntaje y trailer de los títulos de Netflix, Amazon Prime, Disney y Max.\n",
      "   🔗 https://rpp.pe/cine/cartelera/estrenos-de-peliculas-hoy-21-de-octubre-del-2025-noticia-1660241\n",
      "------------------------------------------------------------------------------------------------------------------------\n",
      "\n",
      "33. Corte de agua en Lima hoy 22 de octubre: Distritos y horarios afectados\n",
      "   📅 Wed, 22 Oct 2025 05:00:38 -0500\n",
      "   📝 EN VIVO Consulta aquí los distritos de Lima y horarios afectados por el corte de agua programado por el Servicio de Agua Potable y Alcantarillado de Lima (Sedapal) para hoy.\n",
      "   🔗 https://rpp.pe/lima/obras/corte-de-agua-en-lima-hoy-22-de-octubre-distritos-y-horarios-afectados-noticia-1660389\n",
      "------------------------------------------------------------------------------------------------------------------------\n",
      "\n",
      "34. Ate: Policía detiene a un hombre por presuntamente realizar propuestas sexuales a una niña de 11 años\n",
      "   📅 Wed, 22 Oct 2025 15:39:21 -0500\n",
      "   📝 El hombre de 29 años fue arrestado en su propia su casa esta madrugada. Según el coronel Johnny Huaman, jefe de Divincri, se investiga que esta persona supuestamente tenga en su poder material de pornografía infantil.\n",
      "   🔗 https://rpp.pe/peru/la-libertad/ate-policia-detiene-a-un-hombre-por-presuntamente-realizar-propuestas-sexuales-a-una-nina-de-11-anos-noticia-1660509\n",
      "------------------------------------------------------------------------------------------------------------------------\n",
      "\n",
      "35. Gabinete de Ernesto Álvarez se presenta ante el Pleno del Congreso para solicitar el voto de confianza\n",
      "   📅 Wed, 22 Oct 2025 15:37:36 -0500\n",
      "   📝 El premier Ernesto Álvarez se presenta a fin de exponer las políticas del&nbsp;Gobierno y plantear la cuestión de confianza al Gabinete.\n",
      "   🔗 https://rpp.pe/politica/gobierno/gabinete-de-ernesto-alvarez-se-presenta-ante-el-pleno-del-congreso-esta-tarde-para-solicitar-el-voto-de-confianza-live-3014\n",
      "------------------------------------------------------------------------------------------------------------------------\n",
      "\n",
      "36. LDU Quito vs. Palmeiras: ¿a qué hora juegan y dónde ver el partido por ida semifinales de la Copa Libertadores?\n",
      "   📅 Wed, 22 Oct 2025 15:33:45 -0500\n",
      "   📝 Consulta todos los detalles de lo que será el duelo de LDU Quito ante Palmeiras en territorio ecuatoriano.\n",
      "   🔗 https://rpp.pe/futbol/copa-libertadores/ldu-quito-vs-palmeiras-en-vivo-a-que-hora-juegan-en-ecuador-y-donde-ver-semifinal-copa-libertadores-2025-via-espn-partidos-de-hoy-noticia-1660512\n",
      "------------------------------------------------------------------------------------------------------------------------\n",
      "\n",
      "37. Voto digital: desde este 29 de octubre inicia el registro, según la ONPE\n",
      "   📅 Wed, 22 Oct 2025 08:45:05 -0500\n",
      "   📝 El registro para el voto digital inicia el 29 de octubre. ¿Tienes DNI electrónico? ¿Sabes si puedes votar digitalmente? En esta nota te contamos todo lo que debes saber para inscribirte.\n",
      "   🔗 https://rpp.pe/politica/elecciones/voto-digital-desde-este-29-de-octubre-inicia-el-registro-segun-la-onpe-noticia-1660448\n",
      "------------------------------------------------------------------------------------------------------------------------\n",
      "\n",
      "38. Agua Marina se retira temporalmente los escenarios, según integrante: “Es triste porque la música es nuestra vida”\n",
      "   📅 Wed, 22 Oct 2025 11:59:24 -0500\n",
      "   📝 El cantante Lucho Granda señaló que la decisión busca proteger su salud emocional luego del ataque sufrido por la agrupación en medio de un concierto.\n",
      "   🔗 https://rpp.pe/musica/nacional/agua-marina-se-retira-temporalmente-los-escenarios-segun-integrante-noticia-1660461\n",
      "------------------------------------------------------------------------------------------------------------------------\n",
      "\n",
      "39. Latin Billboard 2025: fecha, hora y dónde ver los Premios Billboard de la Música Latina en vivo\n",
      "   📅 Wed, 22 Oct 2025 15:21:44 -0500\n",
      "   📝 Bad Bunny lidera las nominaciones en 27 categorías, seguido por Fuerza Regida y Rauw Alejandro. Te contamos cuándo, dónde y cómo ver la premiación más esperada de la música latina.\n",
      "   🔗 https://rpp.pe/musica/internacional/latin-billboard-2025-en-vivo-a-que-hora-inicia-lista-de-nominados-y-donde-ver-premios-billboard-de-la-musica-latina-via-telemundo-bad-bunny-noticia-1660507\n",
      "------------------------------------------------------------------------------------------------------------------------\n",
      "\n",
      "40. Precio del dólar Perú y tipo de cambio hoy 22 de octubre del 2025\n",
      "   📅 Wed, 22 Oct 2025 06:05:39 -0500\n",
      "   📝 En Perú, el tipo de cambio para hoy miércoles 22 de octubre es de  S/3.41 según el Banco Central de Reserva Del Perú.\n",
      "   🔗 https://rpp.pe/economia/economia/precio-del-dolar-peru-y-tipo-de-cambio-hoy-22-de-octubre-del-2025-noticia-1660395\n",
      "------------------------------------------------------------------------------------------------------------------------\n",
      "\n",
      "41. Temblor en Perú, hoy 22 de octubre: magnitud y epicentro del sismo según IGP\n",
      "   📅 Wed, 22 Oct 2025 02:18:58 -0500\n",
      "   📝 Actualización EN VIVO del último sismo en Perú hoy, miércoles 22 de octubre según las últimas actualizaciones del Instituto Geofísico del Perú IGP\n",
      "   🔗 https://rpp.pe/lima/desastres-naturales/temblor-en-peru-hoy-22-de-octubre-magnitud-y-epicentro-del-sismo-segun-igp-live-3012\n",
      "------------------------------------------------------------------------------------------------------------------------\n",
      "\n",
      "42. Alcalde de La Victoria respalda estado de emergencia en Lima y Callao: “Era impostergable”\n",
      "   📅 Wed, 22 Oct 2025 14:55:42 -0500\n",
      "   📝 En Ampliación de Noticias, Rubén Cano consideró que la declaratoria de estado de emergencia en Lima y Callao era \"impostergable\" ante los altos índices de criminalidad.\n",
      "   🔗 https://rpp.pe/videos/ampliacion-de-noticias/alcalde-de-la-victoria-respalda-estado-de-emergencia-en-lima-y-callao-era-impostergable-noticia-1660511\n",
      "------------------------------------------------------------------------------------------------------------------------\n",
      "\n",
      "43. ¿Será necesario prorrogar el estado de emergencia? Esto opina el alcalde de La Victoria\n",
      "   📅 Wed, 22 Oct 2025 13:34:50 -0500\n",
      "   📝 En Ampliación de Noticias, Rubén Cano consideró que la declaratoria de estado de emergencia en Lima y Callao era \"impostergable\" ante los altos índices de criminalidad.\n",
      "   🔗 https://rpp.pe/lima/seguridad/estado-de-emergencia-esto-opina-el-alcalde-de-la-victoria-noticia-1660457\n",
      "------------------------------------------------------------------------------------------------------------------------\n",
      "\n",
      "44. Sentencian a 21 años de prisión a sicario venezolano que asesinó a un obrero en Comas\n",
      "   📅 Wed, 22 Oct 2025 14:50:19 -0500\n",
      "   📝 El asesino pudo ser identificado, en parte, gracias a la participación de un testigo protegido durante el proceso, informó el Ministerio Público.\n",
      "   🔗 https://rpp.pe/lima/policiales/comas-sentencian-a-21-anos-a-sicario-venezolano-que-asesino-a-obrero-noticia-1660510\n",
      "------------------------------------------------------------------------------------------------------------------------\n",
      "\n",
      "45. Consejo Fiscal pide que el TC revise las más de 200 leyes aprobadas por el Congreso que comprometen la estabilidad fiscal\n",
      "   📅 Wed, 22 Oct 2025 10:15:26 -0500\n",
      "   📝 Alonso Segura alerta sobre la \"avalancha enorme\" de gasto, cifrada en S/ 36,000 millones, y advierte que el país podría perder el grado de inversión si no se detiene la trayectoria actual.\n",
      "   🔗 https://rpp.pe/economia/economia/consejo-fiscal-pide-que-el-tc-revise-las-mas-de-200-leyes-aprobadas-por-el-congreso-que-comprometen-la-estabilidad-fiscal-noticia-1660497\n",
      "------------------------------------------------------------------------------------------------------------------------\n",
      "\n",
      "46. Shakira en Lima: Francisca Aronsson será parte de 'Camina con la loba' junto a la streamer Zully\n",
      "   📅 Wed, 22 Oct 2025 14:46:11 -0500\n",
      "   📝 \"Agradecida por esta oportunidad\", dijo Francisca Aronsson al anunciar que acompañará a Shakira en su concierto en el estadio Nacional. Zully y Susy Díaz también estará en el evento.\n",
      "   🔗 https://rpp.pe/famosos/farandula/shakira-en-lima-francisca-aronsson-sera-parte-de-camina-con-la-loba-con-streamer-zully-y-susy-diaz-noticia-1660505\n",
      "------------------------------------------------------------------------------------------------------------------------\n",
      "\n",
      "47. Sporting Cristal va por el golpe: la alineación que alista Autuori para recibir a Universitario\n",
      "   📅 Wed, 22 Oct 2025 14:45:13 -0500\n",
      "   📝 Sporting Cristal no se guarda nada para jugar contra Universitario en el Nacional por el Torneo Clausura 2025.\n",
      "   🔗 https://rpp.pe/futbol/descentralizado/sporting-cristal-vs-universitario-alineacion-rimense-con-luis-abram-en-estadio-nacional-por-torneo-clausura-2025-fotos-noticia-1660506\n",
      "------------------------------------------------------------------------------------------------------------------------\n",
      "\n",
      "48. Eric del Castillo llama \"traidor\" a Sean Penn por el escándalo que involucró a su hija Kate y a 'El Chapo' Guzmán\n",
      "   📅 Wed, 22 Oct 2025 14:42:03 -0500\n",
      "   📝 Casi una década después del escándalo, el padre de la protagonista de La reina del sur aseguró que Sean Penn \"puso en peligro\" a su hija por la entrevista que tuvo con el narcotraficante.\n",
      "   🔗 https://rpp.pe/famosos/celebridades/eric-del-castillo-arremete-contra-sean-penn-por-traicionar-a-su-hija-kate-del-castillo-tras-reunion-con-el-chapo-guzman-noticia-1660499\n",
      "------------------------------------------------------------------------------------------------------------------------\n",
      "\n",
      "49. Copa Libertadores: Liga de Quito y Palmeiras se ven las caras por la primera semifinal\n",
      "   📅 Wed, 22 Oct 2025 14:39:40 -0500\n",
      "   📝 Palmeiras se mide ante Liga de Quito en el estadio la Casa Blanca mañana a las 19:30 horas. El partido será supervisado por Facundo Tello Figueroa.\n",
      "   🔗 https://rpp.pe/futbol/ligas-internacionales/copa-libertadores-liga-de-quito-y-palmeiras-se-ven-las-caras-por-la-primera-semifinal-noticia-1660508\n",
      "------------------------------------------------------------------------------------------------------------------------\n",
      "\n",
      "50. Universitario vs. Sporting Cristal EN VIVO: partidazo en el Nacional por la fecha 14 del Torneo Clausura 2025\n",
      "   📅 Wed, 22 Oct 2025 14:24:08 -0500\n",
      "   📝 Sporting Cristal recibe a Universitario en un partido vital para ambos por una jornada pendiente de la Liga1 Te Apuesto.\n",
      "   🔗 https://rpp.pe/futbol/descentralizado/universitario-vs-sporting-cristal-ver-l1-max-transmision-gratis-desde-tu-celular-fecha-14-torneo-clausura-2025-link-stream-partidos-de-hoy-noticia-1660460\n",
      "------------------------------------------------------------------------------------------------------------------------\n",
      "\n",
      "✅ All 50 news items saved to: ../outputs/rpp_news_50.csv\n",
      "📊 Total news downloaded: 50\n"
     ]
    }
   ],
   "source": [
    "# Save to CSV file\n",
    "output_file = \"../outputs/rpp_news_50.csv\"\n",
    "df_news.to_csv(output_file, index=False, encoding='utf-8')\n",
    "print(f\"\\n✅ All 50 news items saved to: {output_file}\")\n",
    "print(f\"📊 Total news downloaded: {len(news_items)}\")"
   ]
  },
  {
   "cell_type": "markdown",
   "metadata": {},
   "source": [
    "## 2. Tokenization with tiktoken\n",
    "\n",
    "Tokenize articles to understand token counts and determine if chunking is needed.\n",
    "\n",
    "**Requirements:**\n",
    "- Use `tiktoken` for tokenization\n",
    "- Compute `num_tokens` for sample articles\n",
    "- Decide if chunking is needed based on model context limits (8192 tokens)"
   ]
  },
  {
   "cell_type": "code",
   "execution_count": 4,
   "metadata": {},
   "outputs": [
    {
     "name": "stdout",
     "output_type": "stream",
     "text": [
      "📝 Sample Article:\n",
      "Flamengo vs. Racing Club EN VIVO: ¿a qué hora juegan y dónde ver hoy por la semifinal de Copa Libertadores?. En el Maracaná, Flamengo y Racing chocarán en un partido imperdible por la semifinal ida de la Copa Libertadores 2025.\n"
     ]
    }
   ],
   "source": [
    "# Select a sample article\n",
    "sample_article = format_news_for_embedding(news_items[0])\n",
    "\n",
    "print(\"📝 Sample Article:\")\n",
    "print(sample_article)"
   ]
  },
  {
   "cell_type": "code",
   "execution_count": 5,
   "metadata": {},
   "outputs": [
    {
     "name": "stdout",
     "output_type": "stream",
     "text": [
      "\n",
      "🔢 Token Analysis:\n",
      "   Number of tokens: 67\n",
      "   First 10 token IDs: [3968, 309, 65753, 6296, 13, 33382, 10349, 5301, 650, 68321]\n",
      "\n",
      "   Chunking needed (>8192 tokens): False\n"
     ]
    }
   ],
   "source": [
    "# Tokenize and count tokens\n",
    "tokens = tokenize_text(sample_article)\n",
    "num_tokens = count_tokens(sample_article)\n",
    "\n",
    "print(f\"\\n🔢 Token Analysis:\")\n",
    "print(f\"   Number of tokens: {num_tokens}\")\n",
    "print(f\"   First 10 token IDs: {tokens[:10]}\")\n",
    "\n",
    "# Check if chunking is needed\n",
    "needs_chunking = should_chunk(sample_article, max_tokens=8192)\n",
    "print(f\"\\n   Chunking needed (>8192 tokens): {needs_chunking}\")"
   ]
  },
  {
   "cell_type": "code",
   "execution_count": 6,
   "metadata": {},
   "outputs": [
    {
     "name": "stdout",
     "output_type": "stream",
     "text": [
      "\n",
      "📊 Token Statistics Across All Articles:\n",
      "   Average tokens: 68.70\n",
      "   Min tokens: 38\n",
      "   Max tokens: 97\n",
      "   Median tokens: 68.00\n"
     ]
    }
   ],
   "source": [
    "# Analyze token counts for all articles\n",
    "token_counts = [count_tokens(format_news_for_embedding(item)) for item in news_items]\n",
    "\n",
    "print(\"\\n📊 Token Statistics Across All Articles:\")\n",
    "print(f\"   Average tokens: {np.mean(token_counts):.2f}\")\n",
    "print(f\"   Min tokens: {np.min(token_counts)}\")\n",
    "print(f\"   Max tokens: {np.max(token_counts)}\")\n",
    "print(f\"   Median tokens: {np.median(token_counts):.2f}\")"
   ]
  },
  {
   "cell_type": "markdown",
   "metadata": {},
   "source": [
    "## 3. Generate Embeddings with SentenceTransformers\n",
    "\n",
    "Use the `sentence-transformers/all-MiniLM-L6-v2` model to generate embeddings.\n",
    "\n",
    "**Requirements:**\n",
    "- Model: `sentence-transformers/all-MiniLM-L6-v2`\n",
    "- Generate 384-dimensional embeddings\n",
    "- Store embeddings alongside text and metadata"
   ]
  },
  {
   "cell_type": "code",
   "execution_count": 7,
   "metadata": {},
   "outputs": [
    {
     "name": "stdout",
     "output_type": "stream",
     "text": [
      "🤖 Initializing SentenceTransformer model...\n"
     ]
    },
    {
     "name": "stderr",
     "output_type": "stream",
     "text": [
      "/Users/gabrielsaco/anaconda3/envs/rpp/lib/python3.11/site-packages/huggingface_hub/file_download.py:945: FutureWarning: `resume_download` is deprecated and will be removed in version 1.0.0. Downloads always resume when possible. If you want to force a new download, use `force_download=True`.\n",
      "  warnings.warn(\n"
     ]
    },
    {
     "name": "stdout",
     "output_type": "stream",
     "text": [
      "✅ Model loaded!\n"
     ]
    }
   ],
   "source": [
    "# Initialize embedding generator\n",
    "print(\"🤖 Initializing SentenceTransformer model...\")\n",
    "embedding_generator = EmbeddingGenerator(model_name=\"sentence-transformers/all-MiniLM-L6-v2\")\n",
    "print(\"✅ Model loaded!\")"
   ]
  },
  {
   "cell_type": "code",
   "execution_count": 8,
   "metadata": {},
   "outputs": [
    {
     "name": "stdout",
     "output_type": "stream",
     "text": [
      "\n",
      "🔄 Generating embeddings for all news items...\n",
      "✅ Generated 50 embeddings\n",
      "   Embedding dimension: 384\n",
      "   Sample embedding (first 10 values): [-0.01191772  0.06891479  0.00700469 -0.04329996 -0.00070988  0.01612812\n",
      " -0.01539836 -0.01328336  0.02911671  0.00764781]\n",
      "✅ Generated 50 embeddings\n",
      "   Embedding dimension: 384\n",
      "   Sample embedding (first 10 values): [-0.01191772  0.06891479  0.00700469 -0.04329996 -0.00070988  0.01612812\n",
      " -0.01539836 -0.01328336  0.02911671  0.00764781]\n"
     ]
    }
   ],
   "source": [
    "# Generate embeddings for all news items\n",
    "print(\"\\n🔄 Generating embeddings for all news items...\")\n",
    "texts = [format_news_for_embedding(item) for item in news_items]\n",
    "embeddings = embedding_generator.embed_texts(texts)\n",
    "\n",
    "print(f\"✅ Generated {len(embeddings)} embeddings\")\n",
    "print(f\"   Embedding dimension: {embeddings[0].shape[0]}\")\n",
    "print(f\"   Sample embedding (first 10 values): {embeddings[0][:10]}\")"
   ]
  },
  {
   "cell_type": "markdown",
   "metadata": {},
   "source": [
    "## 4. ChromaDB Storage (chroma_db/)\n",
    "\n",
    "Store documents, metadata, and embeddings in ChromaDB.\n",
    "\n",
    "**Requirements:**\n",
    "- Use ChromaDB to store documents, metadata, and embeddings\n",
    "- Persist to `../chroma_db` directory only\n",
    "- Implement upsert operation for updates\n",
    "- Support similarity search by keyword or description"
   ]
  },
  {
   "cell_type": "code",
   "execution_count": 9,
   "metadata": {},
   "outputs": [
    {
     "name": "stderr",
     "output_type": "stream",
     "text": [
      "Failed to send telemetry event ClientStartEvent: capture() takes 1 positional argument but 3 were given\n",
      "Failed to send telemetry event ClientCreateCollectionEvent: capture() takes 1 positional argument but 3 were given\n",
      "Failed to send telemetry event ClientCreateCollectionEvent: capture() takes 1 positional argument but 3 were given\n"
     ]
    },
    {
     "name": "stdout",
     "output_type": "stream",
     "text": [
      "💾 Initializing ChromaDB store...\n",
      "✅ ChromaDB store initialized!\n"
     ]
    }
   ],
   "source": [
    "# Initialize ChromaDB store\n",
    "print(\"💾 Initializing ChromaDB store...\")\n",
    "chroma_store = ChromaDBStore(\n",
    "    collection_name=\"rpp_news\",\n",
    "    persist_directory=\"../chroma_db\"\n",
    ")\n",
    "print(\"✅ ChromaDB store initialized!\")"
   ]
  },
  {
   "cell_type": "code",
   "execution_count": 10,
   "metadata": {},
   "outputs": [
    {
     "name": "stdout",
     "output_type": "stream",
     "text": [
      "📝 Prepared 50 metadata entries\n"
     ]
    }
   ],
   "source": [
    "# Prepare metadata\n",
    "metadatas = [\n",
    "    {\n",
    "        'title': item['title'],\n",
    "        'description': item['description'],\n",
    "        'link': item['link'],\n",
    "        'published': item['published']\n",
    "    }\n",
    "    for item in news_items\n",
    "]\n",
    "\n",
    "# Generate unique IDs\n",
    "ids = [f\"news_{i}\" for i in range(len(news_items))]\n",
    "\n",
    "print(f\"📝 Prepared {len(metadatas)} metadata entries\")"
   ]
  },
  {
   "cell_type": "code",
   "execution_count": 11,
   "metadata": {},
   "outputs": [
    {
     "name": "stdout",
     "output_type": "stream",
     "text": [
      "\n",
      "⬆️  Upserting documents to ChromaDB...\n",
      "✅ Collection now contains 50 documents\n",
      "✅ Collection now contains 50 documents\n"
     ]
    }
   ],
   "source": [
    "# Upsert documents to ChromaDB\n",
    "print(\"\\n⬆️  Upserting documents to ChromaDB...\")\n",
    "chroma_store.upsert_documents(\n",
    "    documents=texts,\n",
    "    metadatas=metadatas,\n",
    "    embeddings=embeddings.tolist(),\n",
    "    ids=ids\n",
    ")\n",
    "\n",
    "collection_count = chroma_store.get_collection_count()\n",
    "print(f\"✅ Collection now contains {collection_count} documents\")"
   ]
  },
  {
   "cell_type": "markdown",
   "metadata": {},
   "source": [
    "## 5. Query and Retrieve Results\n",
    "\n",
    "Query the system with various topics and display results in a DataFrame.\n",
    "\n",
    "**Requirements:**\n",
    "- Query with prompts like \"Últimas noticias de economía\"\n",
    "- Display results in pandas DataFrame\n",
    "- Columns: `title | description | link | date_published`\n",
    "- Show top 10 most relevant results"
   ]
  },
  {
   "cell_type": "code",
   "execution_count": 12,
   "metadata": {},
   "outputs": [
    {
     "name": "stderr",
     "output_type": "stream",
     "text": [
      "2025-10-22 17:18:45.027 python[25621:1482628] 2025-10-22 17:18:45.027101 [W:onnxruntime:, coreml_execution_provider.cc:113 GetCapability] CoreMLExecutionProvider::GetCapability, number of partitions supported by CoreML: 49 number of nodes in the graph: 323 number of nodes supported by CoreML: 232\n"
     ]
    },
    {
     "name": "stdout",
     "output_type": "stream",
     "text": [
      "🔍 Querying: 'Últimas noticias de economía'\n"
     ]
    },
    {
     "name": "stderr",
     "output_type": "stream",
     "text": [
      "Failed to send telemetry event CollectionQueryEvent: capture() takes 1 positional argument but 3 were given\n"
     ]
    },
    {
     "name": "stdout",
     "output_type": "stream",
     "text": [
      "✅ Found 10 results\n"
     ]
    }
   ],
   "source": [
    "# Query the collection\n",
    "query_text = \"Últimas noticias de economía\"\n",
    "print(f\"🔍 Querying: '{query_text}'\")\n",
    "\n",
    "results = chroma_store.query(\n",
    "    query_texts=[query_text],\n",
    "    n_results=10\n",
    ")\n",
    "\n",
    "print(f\"✅ Found {len(results['metadatas'][0])} results\")"
   ]
  },
  {
   "cell_type": "code",
   "execution_count": 13,
   "metadata": {},
   "outputs": [
    {
     "name": "stdout",
     "output_type": "stream",
     "text": [
      "\n",
      "📊 Query Results:\n",
      "   Found 10 relevant articles\n"
     ]
    },
    {
     "data": {
      "application/vnd.microsoft.datawrangler.viewer.v0+json": {
       "columns": [
        {
         "name": "index",
         "rawType": "int64",
         "type": "integer"
        },
        {
         "name": "title",
         "rawType": "object",
         "type": "string"
        },
        {
         "name": "description",
         "rawType": "object",
         "type": "string"
        },
        {
         "name": "link",
         "rawType": "object",
         "type": "string"
        },
        {
         "name": "date_published",
         "rawType": "object",
         "type": "string"
        }
       ],
       "ref": "a53262d5-8b09-424b-bf8d-f560085a01b6",
       "rows": [
        [
         "0",
         "Consejo Fiscal pide que el TC revise las más de 200 leyes aprobadas por el Congreso que comprometen la estabilidad fiscal",
         "Alonso Segura alerta sobre la \"avalancha enorme\" de gasto, cifrada en S/ 36,000 millones, y advierte que el país podría perder el grado de inversión si no se detiene la trayectoria actual.",
         "https://rpp.pe/economia/economia/consejo-fiscal-pide-que-el-tc-revise-las-mas-de-200-leyes-aprobadas-por-el-congreso-que-comprometen-la-estabilidad-fiscal-noticia-1660497",
         "Wed, 22 Oct 2025 10:15:26 -0500"
        ],
        [
         "1",
         "Estados Unidos anunciará un \"aumento sustancial\" en sus sanciones a Rusia en las próximas horas",
         "\"Vamos a anunciar después del cierre (de los mercados) de esta tarde o a primera hora de mañana un aumento sustancial de las sanciones a Rusia\", adelantó el secretario del Tesoro, Scott Bessent, sin ofrecer más detalles sobre la magnitud de las acciones.",
         "https://rpp.pe/mundo/estados-unidos/estados-unidos-anunciara-un-aumento-sustancial-en-sus-sanciones-a-rusia-en-las-proximas-horas-noticia-1660531",
         "Wed, 22 Oct 2025 16:33:24 -0500"
        ],
        [
         "2",
         "JNJ determina que Delia Espinoza no retornará como Fiscal de la Nación",
         "La JNJ enfatizó se mantiene vigente la medida cautelar de suspensión preventiva en el cargo a Espinoza Valenzuela por una resolución emitida en setiembre.",
         "https://rpp.pe/politica/judiciales/delia-espinoza-ya-no-sera-fiscal-de-la-nacion-jnj-noticia-1660534",
         "Wed, 22 Oct 2025 16:58:30 -0500"
        ],
        [
         "3",
         "Policía en presunto estado de ebriedad es detenido por agredir a dos colegas que intentaron intervenirlo en Huancayo [VIDEO]",
         "El agente es de la Unidad de Servicios Especiales (USE) y atacó a los efectivos que intentaron intervenirlo por estacionar su auto en plena vía pública.",
         "https://rpp.pe/peru/junin/huancayo-detienen-a-policia-tras-agredir-a-sus-colegas-en-presunto-estado-de-ebriedad-noticia-1660515",
         "Wed, 22 Oct 2025 16:05:27 -0500"
        ],
        [
         "4",
         "Agua Marina se retira temporalmente los escenarios, según integrante: “Es triste porque la música es nuestra vida”",
         "El cantante Lucho Granda señaló que la decisión busca proteger su salud emocional luego del ataque sufrido por la agrupación en medio de un concierto.",
         "https://rpp.pe/musica/nacional/agua-marina-se-retira-temporalmente-los-escenarios-segun-integrante-noticia-1660461",
         "Wed, 22 Oct 2025 11:59:24 -0500"
        ],
        [
         "5",
         "Isabel Preysler publica íntimas cartas de amor de Mario Vargas Llosa y afirma: \"Él era feliz conmigo\"",
         "Isabel Preysler publicó su libro 'Mi verdadera historia' donde aparecen cartas de amor que le envío Mario Vargas Llosa durante su relación entre el 2015 y 2022.",
         "https://rpp.pe/famosos/celebridades/isabel-preysler-publica-intimas-cartas-de-amor-de-mario-vargas-llosa-en-su-libro-mi-verdadera-historia-noticia-1660424",
         "Wed, 22 Oct 2025 08:47:59 -0500"
        ],
        [
         "6",
         "¿Será necesario prorrogar el estado de emergencia? Esto opina el alcalde de La Victoria",
         "En Ampliación de Noticias, Rubén Cano consideró que la declaratoria de estado de emergencia en Lima y Callao era \"impostergable\" ante los altos índices de criminalidad.",
         "https://rpp.pe/lima/seguridad/estado-de-emergencia-esto-opina-el-alcalde-de-la-victoria-noticia-1660457",
         "Wed, 22 Oct 2025 13:34:50 -0500"
        ],
        [
         "7",
         "Ala Este de la Casa Blanca será demolida totalmente para construir salón de baile de Trump",
         "De acuerdo con el diario The New York Times, el trabajo de demolición debería ser concretado este fin de semana, para dar paso a la construcción del salón de baile, anunciado por Donald Trump, que tiene un costo estimado de 200 millones de dólares.",
         "https://rpp.pe/mundo/estados-unidos/ala-este-de-la-casa-blanca-sera-demolida-totalmente-para-construir-salon-de-baile-de-trump-noticia-1660537",
         "Wed, 22 Oct 2025 17:15:10 -0500"
        ],
        [
         "8",
         "Soda Stereo en Lima: precios y cómo comprar entradas para su concierto en Arena 1",
         "El trío argentino regresa en 2026, seis años después de su última visita al país. Conoce todos los detalles: precios, zonas y cómo adquirir tus entradas en Joinnus.",
         "https://rpp.pe/musica/conciertos/soda-stereo-en-lima-2026-precios-y-como-comprar-entradas-en-joinnus-para-concierto-con-gustavo-cerati-virtual-en-arena-1-noticia-1660451",
         "Wed, 22 Oct 2025 17:00:37 -0500"
        ],
        [
         "9",
         "Cronograma del octavo retiro de AFP 2025 HOY: cuándo podrás presentar tu solicitud según tu DNI",
         "El desembolso se efectuará hasta en cuatro armadas mensuales de 1 UIT cada una (S/5 350), después de 30 días de ingresada la solicitud, y cada 30 días hasta completar el total solicitado.",
         "https://rpp.pe/economia/economia/octavo-retiro-de-afp-2025-conoce-el-cronograma-oficial-segun-el-numero-de-dni-noticia-1657530",
         "Wed, 22 Oct 2025 16:30:03 -0500"
        ]
       ],
       "shape": {
        "columns": 4,
        "rows": 10
       }
      },
      "text/html": [
       "<div>\n",
       "<style scoped>\n",
       "    .dataframe tbody tr th:only-of-type {\n",
       "        vertical-align: middle;\n",
       "    }\n",
       "\n",
       "    .dataframe tbody tr th {\n",
       "        vertical-align: top;\n",
       "    }\n",
       "\n",
       "    .dataframe thead th {\n",
       "        text-align: right;\n",
       "    }\n",
       "</style>\n",
       "<table border=\"1\" class=\"dataframe\">\n",
       "  <thead>\n",
       "    <tr style=\"text-align: right;\">\n",
       "      <th></th>\n",
       "      <th>title</th>\n",
       "      <th>description</th>\n",
       "      <th>link</th>\n",
       "      <th>date_published</th>\n",
       "    </tr>\n",
       "  </thead>\n",
       "  <tbody>\n",
       "    <tr>\n",
       "      <th>0</th>\n",
       "      <td>Consejo Fiscal pide que el TC revise las más d...</td>\n",
       "      <td>Alonso Segura alerta sobre la \"avalancha enorm...</td>\n",
       "      <td>https://rpp.pe/economia/economia/consejo-fisca...</td>\n",
       "      <td>Wed, 22 Oct 2025 10:15:26 -0500</td>\n",
       "    </tr>\n",
       "    <tr>\n",
       "      <th>1</th>\n",
       "      <td>Estados Unidos anunciará un \"aumento sustancia...</td>\n",
       "      <td>\"Vamos a anunciar después del cierre (de los m...</td>\n",
       "      <td>https://rpp.pe/mundo/estados-unidos/estados-un...</td>\n",
       "      <td>Wed, 22 Oct 2025 16:33:24 -0500</td>\n",
       "    </tr>\n",
       "    <tr>\n",
       "      <th>2</th>\n",
       "      <td>JNJ determina que Delia Espinoza no retornará ...</td>\n",
       "      <td>La JNJ enfatizó se mantiene vigente la medida ...</td>\n",
       "      <td>https://rpp.pe/politica/judiciales/delia-espin...</td>\n",
       "      <td>Wed, 22 Oct 2025 16:58:30 -0500</td>\n",
       "    </tr>\n",
       "    <tr>\n",
       "      <th>3</th>\n",
       "      <td>Policía en presunto estado de ebriedad es dete...</td>\n",
       "      <td>El agente es de la Unidad de Servicios Especia...</td>\n",
       "      <td>https://rpp.pe/peru/junin/huancayo-detienen-a-...</td>\n",
       "      <td>Wed, 22 Oct 2025 16:05:27 -0500</td>\n",
       "    </tr>\n",
       "    <tr>\n",
       "      <th>4</th>\n",
       "      <td>Agua Marina se retira temporalmente los escena...</td>\n",
       "      <td>El cantante Lucho Granda señaló que la decisió...</td>\n",
       "      <td>https://rpp.pe/musica/nacional/agua-marina-se-...</td>\n",
       "      <td>Wed, 22 Oct 2025 11:59:24 -0500</td>\n",
       "    </tr>\n",
       "    <tr>\n",
       "      <th>5</th>\n",
       "      <td>Isabel Preysler publica íntimas cartas de amor...</td>\n",
       "      <td>Isabel Preysler publicó su libro 'Mi verdadera...</td>\n",
       "      <td>https://rpp.pe/famosos/celebridades/isabel-pre...</td>\n",
       "      <td>Wed, 22 Oct 2025 08:47:59 -0500</td>\n",
       "    </tr>\n",
       "    <tr>\n",
       "      <th>6</th>\n",
       "      <td>¿Será necesario prorrogar el estado de emergen...</td>\n",
       "      <td>En Ampliación de Noticias, Rubén Cano consider...</td>\n",
       "      <td>https://rpp.pe/lima/seguridad/estado-de-emerge...</td>\n",
       "      <td>Wed, 22 Oct 2025 13:34:50 -0500</td>\n",
       "    </tr>\n",
       "    <tr>\n",
       "      <th>7</th>\n",
       "      <td>Ala Este de la Casa Blanca será demolida total...</td>\n",
       "      <td>De acuerdo con el diario The New York Times, e...</td>\n",
       "      <td>https://rpp.pe/mundo/estados-unidos/ala-este-d...</td>\n",
       "      <td>Wed, 22 Oct 2025 17:15:10 -0500</td>\n",
       "    </tr>\n",
       "    <tr>\n",
       "      <th>8</th>\n",
       "      <td>Soda Stereo en Lima: precios y cómo comprar en...</td>\n",
       "      <td>El trío argentino regresa en 2026, seis años d...</td>\n",
       "      <td>https://rpp.pe/musica/conciertos/soda-stereo-e...</td>\n",
       "      <td>Wed, 22 Oct 2025 17:00:37 -0500</td>\n",
       "    </tr>\n",
       "    <tr>\n",
       "      <th>9</th>\n",
       "      <td>Cronograma del octavo retiro de AFP 2025 HOY: ...</td>\n",
       "      <td>El desembolso se efectuará hasta en cuatro arm...</td>\n",
       "      <td>https://rpp.pe/economia/economia/octavo-retiro...</td>\n",
       "      <td>Wed, 22 Oct 2025 16:30:03 -0500</td>\n",
       "    </tr>\n",
       "  </tbody>\n",
       "</table>\n",
       "</div>"
      ],
      "text/plain": [
       "                                               title  \\\n",
       "0  Consejo Fiscal pide que el TC revise las más d...   \n",
       "1  Estados Unidos anunciará un \"aumento sustancia...   \n",
       "2  JNJ determina que Delia Espinoza no retornará ...   \n",
       "3  Policía en presunto estado de ebriedad es dete...   \n",
       "4  Agua Marina se retira temporalmente los escena...   \n",
       "5  Isabel Preysler publica íntimas cartas de amor...   \n",
       "6  ¿Será necesario prorrogar el estado de emergen...   \n",
       "7  Ala Este de la Casa Blanca será demolida total...   \n",
       "8  Soda Stereo en Lima: precios y cómo comprar en...   \n",
       "9  Cronograma del octavo retiro de AFP 2025 HOY: ...   \n",
       "\n",
       "                                         description  \\\n",
       "0  Alonso Segura alerta sobre la \"avalancha enorm...   \n",
       "1  \"Vamos a anunciar después del cierre (de los m...   \n",
       "2  La JNJ enfatizó se mantiene vigente la medida ...   \n",
       "3  El agente es de la Unidad de Servicios Especia...   \n",
       "4  El cantante Lucho Granda señaló que la decisió...   \n",
       "5  Isabel Preysler publicó su libro 'Mi verdadera...   \n",
       "6  En Ampliación de Noticias, Rubén Cano consider...   \n",
       "7  De acuerdo con el diario The New York Times, e...   \n",
       "8  El trío argentino regresa en 2026, seis años d...   \n",
       "9  El desembolso se efectuará hasta en cuatro arm...   \n",
       "\n",
       "                                                link  \\\n",
       "0  https://rpp.pe/economia/economia/consejo-fisca...   \n",
       "1  https://rpp.pe/mundo/estados-unidos/estados-un...   \n",
       "2  https://rpp.pe/politica/judiciales/delia-espin...   \n",
       "3  https://rpp.pe/peru/junin/huancayo-detienen-a-...   \n",
       "4  https://rpp.pe/musica/nacional/agua-marina-se-...   \n",
       "5  https://rpp.pe/famosos/celebridades/isabel-pre...   \n",
       "6  https://rpp.pe/lima/seguridad/estado-de-emerge...   \n",
       "7  https://rpp.pe/mundo/estados-unidos/ala-este-d...   \n",
       "8  https://rpp.pe/musica/conciertos/soda-stereo-e...   \n",
       "9  https://rpp.pe/economia/economia/octavo-retiro...   \n",
       "\n",
       "                    date_published  \n",
       "0  Wed, 22 Oct 2025 10:15:26 -0500  \n",
       "1  Wed, 22 Oct 2025 16:33:24 -0500  \n",
       "2  Wed, 22 Oct 2025 16:58:30 -0500  \n",
       "3  Wed, 22 Oct 2025 16:05:27 -0500  \n",
       "4  Wed, 22 Oct 2025 11:59:24 -0500  \n",
       "5  Wed, 22 Oct 2025 08:47:59 -0500  \n",
       "6  Wed, 22 Oct 2025 13:34:50 -0500  \n",
       "7  Wed, 22 Oct 2025 17:15:10 -0500  \n",
       "8  Wed, 22 Oct 2025 17:00:37 -0500  \n",
       "9  Wed, 22 Oct 2025 16:30:03 -0500  "
      ]
     },
     "metadata": {},
     "output_type": "display_data"
    },
    {
     "name": "stdout",
     "output_type": "stream",
     "text": [
      "\n",
      "💾 Results saved to: ../outputs/query_results_economia.csv\n"
     ]
    }
   ],
   "source": [
    "# Create and display results DataFrame\n",
    "df_results = create_results_dataframe(results)\n",
    "\n",
    "print(\"\\n📊 Query Results:\")\n",
    "print(f\"   Found {len(df_results)} relevant articles\")\n",
    "display(df_results)\n",
    "\n",
    "# Save to CSV\n",
    "output_path = \"../outputs/query_results_economia.csv\"\n",
    "df_results.to_csv(output_path, index=False)\n",
    "print(f\"\\n💾 Results saved to: {output_path}\")"
   ]
  },
  {
   "cell_type": "markdown",
   "metadata": {},
   "source": [
    "## 6. LangChain Orchestration Pipeline\n",
    "\n",
    "Implement the complete end-to-end pipeline using LangChain.\n",
    "\n",
    "**Requirements:**\n",
    "- End-to-end pipeline: Load RSS → Tokenize → Embed → Store → Retrieve\n",
    "- Each step should be modular (functions or LangChain chains)\n",
    "- Use same `chroma_db/` directory for consistency\n",
    "- Demonstrate complete pipeline execution with query results"
   ]
  },
  {
   "cell_type": "code",
   "execution_count": 14,
   "metadata": {},
   "outputs": [
    {
     "name": "stdout",
     "output_type": "stream",
     "text": [
      "🔗 Initializing LangChain Pipeline...\n"
     ]
    },
    {
     "name": "stderr",
     "output_type": "stream",
     "text": [
      "/Users/gabrielsaco/anaconda3/envs/rpp/lib/python3.11/site-packages/huggingface_hub/file_download.py:945: FutureWarning: `resume_download` is deprecated and will be removed in version 1.0.0. Downloads always resume when possible. If you want to force a new download, use `force_download=True`.\n",
      "  warnings.warn(\n"
     ]
    },
    {
     "name": "stdout",
     "output_type": "stream",
     "text": [
      "✅ LangChain pipeline initialized!\n"
     ]
    }
   ],
   "source": [
    "# Initialize LangChain pipeline\n",
    "print(\"🔗 Initializing LangChain Pipeline...\")\n",
    "langchain_pipeline = NewsRetrievalPipeline(\n",
    "    model_name=\"sentence-transformers/all-MiniLM-L6-v2\",\n",
    "    persist_directory=\"../chroma_db\"\n",
    ")\n",
    "print(\"✅ LangChain pipeline initialized!\")"
   ]
  },
  {
   "cell_type": "code",
   "execution_count": 15,
   "metadata": {},
   "outputs": [
    {
     "name": "stdout",
     "output_type": "stream",
     "text": [
      "\n",
      "📡 Loading fresh RSS feed...\n",
      "✅ Loaded 50 fresh news items\n",
      "✅ Loaded 50 fresh news items\n"
     ]
    }
   ],
   "source": [
    "# Load fresh RSS feed for LangChain demo\n",
    "print(\"\\n📡 Loading fresh RSS feed...\")\n",
    "fresh_news = load_rss_feed(url=\"https://rpp.pe/rss\", max_items=50)\n",
    "print(f\"✅ Loaded {len(fresh_news)} fresh news items\")"
   ]
  },
  {
   "cell_type": "code",
   "execution_count": 16,
   "metadata": {},
   "outputs": [
    {
     "name": "stdout",
     "output_type": "stream",
     "text": [
      "\n",
      "🔄 Step 1: Loading and processing documents...\n",
      "✅ Created 50 LangChain documents\n",
      "   Sample document content: Flamengo vs. Racing Club EN VIVO: ¿a qué hora juegan y dónde ver hoy por la semifinal de Copa Libert...\n",
      "   Sample metadata: {'title': 'Flamengo vs. Racing Club EN VIVO: ¿a qué hora juegan y dónde ver hoy por la semifinal de Copa Libertadores?', 'link': 'https://rpp.pe/futbol/copa-libertadores/flamengo-vs-racing-club-en-vivo-ver-espn-transmision-gratis-desde-maracana-ida-semifinal-copa-libertadores-2025-link-stream-partidos-de-hoy-noticia-1660341', 'published': 'Wed, 22 Oct 2025 17:30:11 -0500', 'description': 'En el Maracaná, Flamengo y Racing chocarán en un partido imperdible por la semifinal ida de la Copa Libertadores 2025.'}\n"
     ]
    }
   ],
   "source": [
    "# Step 1: Load and Process with LangChain\n",
    "print(\"\\n🔄 Step 1: Loading and processing documents...\")\n",
    "documents = langchain_pipeline.load_and_process(fresh_news)\n",
    "print(f\"✅ Created {len(documents)} LangChain documents\")\n",
    "print(f\"   Sample document content: {documents[0].page_content[:100]}...\")\n",
    "print(f\"   Sample metadata: {documents[0].metadata}\")"
   ]
  },
  {
   "cell_type": "code",
   "execution_count": 17,
   "metadata": {},
   "outputs": [
    {
     "name": "stderr",
     "output_type": "stream",
     "text": [
      "Failed to send telemetry event ClientStartEvent: capture() takes 1 positional argument but 3 were given\n",
      "Failed to send telemetry event ClientCreateCollectionEvent: capture() takes 1 positional argument but 3 were given\n",
      "Failed to send telemetry event ClientCreateCollectionEvent: capture() takes 1 positional argument but 3 were given\n"
     ]
    },
    {
     "name": "stdout",
     "output_type": "stream",
     "text": [
      "\n",
      "💾 Creating vector store in chroma_db/...\n",
      "✅ Vector store created and persisted to ../chroma_db/\n",
      "✅ Vector store created and persisted to ../chroma_db/\n"
     ]
    }
   ],
   "source": [
    "# Step 2: Create Vector Store\n",
    "print(\"\\n💾 Creating vector store in chroma_db/...\")\n",
    "langchain_pipeline.create_vectorstore(documents)\n",
    "print(\"✅ Vector store created and persisted to ../chroma_db/\")"
   ]
  },
  {
   "cell_type": "code",
   "execution_count": 18,
   "metadata": {},
   "outputs": [
    {
     "name": "stdout",
     "output_type": "stream",
     "text": [
      "\n",
      "🔄 Step 3: Querying vector store...\n"
     ]
    },
    {
     "name": "stderr",
     "output_type": "stream",
     "text": [
      "Failed to send telemetry event CollectionQueryEvent: capture() takes 1 positional argument but 3 were given\n"
     ]
    },
    {
     "name": "stdout",
     "output_type": "stream",
     "text": [
      "\n",
      "📊 LangChain Query Results for: 'Últimas noticias de economía'\n"
     ]
    },
    {
     "data": {
      "application/vnd.microsoft.datawrangler.viewer.v0+json": {
       "columns": [
        {
         "name": "index",
         "rawType": "int64",
         "type": "integer"
        },
        {
         "name": "title",
         "rawType": "object",
         "type": "string"
        },
        {
         "name": "description",
         "rawType": "object",
         "type": "string"
        },
        {
         "name": "link",
         "rawType": "object",
         "type": "string"
        },
        {
         "name": "date_published",
         "rawType": "object",
         "type": "string"
        }
       ],
       "ref": "8e132d3c-e868-4ad0-bf81-9fdd4fe276e9",
       "rows": [
        [
         "0",
         "Consejo Fiscal pide que el TC revise las más de 200 leyes aprobadas por el Congreso que comprometen la estabilidad fiscal",
         "Alonso Segura alerta sobre la \"avalancha enorme\" de gasto, cifrada en S/ 36,000 millones, y advierte que el país podría perder el grado de inversión si no se detiene la trayectoria actual.",
         "https://rpp.pe/economia/economia/consejo-fiscal-pide-que-el-tc-revise-las-mas-de-200-leyes-aprobadas-por-el-congreso-que-comprometen-la-estabilidad-fiscal-noticia-1660497",
         "Wed, 22 Oct 2025 10:15:26 -0500"
        ],
        [
         "1",
         "Estados Unidos anunciará un \"aumento sustancial\" en sus sanciones a Rusia en las próximas horas",
         "\"Vamos a anunciar después del cierre (de los mercados) de esta tarde o a primera hora de mañana un aumento sustancial de las sanciones a Rusia\", adelantó el secretario del Tesoro, Scott Bessent, sin ofrecer más detalles sobre la magnitud de las acciones.",
         "https://rpp.pe/mundo/estados-unidos/estados-unidos-anunciara-un-aumento-sustancial-en-sus-sanciones-a-rusia-en-las-proximas-horas-noticia-1660531",
         "Wed, 22 Oct 2025 16:33:24 -0500"
        ],
        [
         "2",
         "JNJ determina que Delia Espinoza no retornará como Fiscal de la Nación",
         "La JNJ enfatizó se mantiene vigente la medida cautelar de suspensión preventiva en el cargo a Espinoza Valenzuela por una resolución emitida en setiembre.",
         "https://rpp.pe/politica/judiciales/delia-espinoza-ya-no-sera-fiscal-de-la-nacion-jnj-noticia-1660534",
         "Wed, 22 Oct 2025 16:58:30 -0500"
        ],
        [
         "3",
         "Policía en presunto estado de ebriedad es detenido por agredir a dos colegas que intentaron intervenirlo en Huancayo [VIDEO]",
         "El agente es de la Unidad de Servicios Especiales (USE) y atacó a los efectivos que intentaron intervenirlo por estacionar su auto en plena vía pública.",
         "https://rpp.pe/peru/junin/huancayo-detienen-a-policia-tras-agredir-a-sus-colegas-en-presunto-estado-de-ebriedad-noticia-1660515",
         "Wed, 22 Oct 2025 16:05:27 -0500"
        ],
        [
         "4",
         "Agua Marina se retira temporalmente los escenarios, según integrante: “Es triste porque la música es nuestra vida”",
         "El cantante Lucho Granda señaló que la decisión busca proteger su salud emocional luego del ataque sufrido por la agrupación en medio de un concierto.",
         "https://rpp.pe/musica/nacional/agua-marina-se-retira-temporalmente-los-escenarios-segun-integrante-noticia-1660461",
         "Wed, 22 Oct 2025 11:59:24 -0500"
        ],
        [
         "5",
         "Isabel Preysler publica íntimas cartas de amor de Mario Vargas Llosa y afirma: \"Él era feliz conmigo\"",
         "Isabel Preysler publicó su libro 'Mi verdadera historia' donde aparecen cartas de amor que le envío Mario Vargas Llosa durante su relación entre el 2015 y 2022.",
         "https://rpp.pe/famosos/celebridades/isabel-preysler-publica-intimas-cartas-de-amor-de-mario-vargas-llosa-en-su-libro-mi-verdadera-historia-noticia-1660424",
         "Wed, 22 Oct 2025 08:47:59 -0500"
        ],
        [
         "6",
         "¿Será necesario prorrogar el estado de emergencia? Esto opina el alcalde de La Victoria",
         "En Ampliación de Noticias, Rubén Cano consideró que la declaratoria de estado de emergencia en Lima y Callao era \"impostergable\" ante los altos índices de criminalidad.",
         "https://rpp.pe/lima/seguridad/estado-de-emergencia-esto-opina-el-alcalde-de-la-victoria-noticia-1660457",
         "Wed, 22 Oct 2025 13:34:50 -0500"
        ],
        [
         "7",
         "Ala Este de la Casa Blanca será demolida totalmente para construir salón de baile de Trump",
         "De acuerdo con el diario The New York Times, el trabajo de demolición debería ser concretado este fin de semana, para dar paso a la construcción del salón de baile, anunciado por Donald Trump, que tiene un costo estimado de 200 millones de dólares.",
         "https://rpp.pe/mundo/estados-unidos/ala-este-de-la-casa-blanca-sera-demolida-totalmente-para-construir-salon-de-baile-de-trump-noticia-1660537",
         "Wed, 22 Oct 2025 17:15:10 -0500"
        ],
        [
         "8",
         "Soda Stereo en Lima: precios y cómo comprar entradas para su concierto en Arena 1",
         "El trío argentino regresa en 2026, seis años después de su última visita al país. Conoce todos los detalles: precios, zonas y cómo adquirir tus entradas en Joinnus.",
         "https://rpp.pe/musica/conciertos/soda-stereo-en-lima-2026-precios-y-como-comprar-entradas-en-joinnus-para-concierto-con-gustavo-cerati-virtual-en-arena-1-noticia-1660451",
         "Wed, 22 Oct 2025 17:00:37 -0500"
        ],
        [
         "9",
         "Cronograma del octavo retiro de AFP 2025 HOY: cuándo podrás presentar tu solicitud según tu DNI",
         "El desembolso se efectuará hasta en cuatro armadas mensuales de 1 UIT cada una (S/5 350), después de 30 días de ingresada la solicitud, y cada 30 días hasta completar el total solicitado.",
         "https://rpp.pe/economia/economia/octavo-retiro-de-afp-2025-conoce-el-cronograma-oficial-segun-el-numero-de-dni-noticia-1657530",
         "Wed, 22 Oct 2025 16:30:03 -0500"
        ]
       ],
       "shape": {
        "columns": 4,
        "rows": 10
       }
      },
      "text/html": [
       "<div>\n",
       "<style scoped>\n",
       "    .dataframe tbody tr th:only-of-type {\n",
       "        vertical-align: middle;\n",
       "    }\n",
       "\n",
       "    .dataframe tbody tr th {\n",
       "        vertical-align: top;\n",
       "    }\n",
       "\n",
       "    .dataframe thead th {\n",
       "        text-align: right;\n",
       "    }\n",
       "</style>\n",
       "<table border=\"1\" class=\"dataframe\">\n",
       "  <thead>\n",
       "    <tr style=\"text-align: right;\">\n",
       "      <th></th>\n",
       "      <th>title</th>\n",
       "      <th>description</th>\n",
       "      <th>link</th>\n",
       "      <th>date_published</th>\n",
       "    </tr>\n",
       "  </thead>\n",
       "  <tbody>\n",
       "    <tr>\n",
       "      <th>0</th>\n",
       "      <td>Consejo Fiscal pide que el TC revise las más d...</td>\n",
       "      <td>Alonso Segura alerta sobre la \"avalancha enorm...</td>\n",
       "      <td>https://rpp.pe/economia/economia/consejo-fisca...</td>\n",
       "      <td>Wed, 22 Oct 2025 10:15:26 -0500</td>\n",
       "    </tr>\n",
       "    <tr>\n",
       "      <th>1</th>\n",
       "      <td>Estados Unidos anunciará un \"aumento sustancia...</td>\n",
       "      <td>\"Vamos a anunciar después del cierre (de los m...</td>\n",
       "      <td>https://rpp.pe/mundo/estados-unidos/estados-un...</td>\n",
       "      <td>Wed, 22 Oct 2025 16:33:24 -0500</td>\n",
       "    </tr>\n",
       "    <tr>\n",
       "      <th>2</th>\n",
       "      <td>JNJ determina que Delia Espinoza no retornará ...</td>\n",
       "      <td>La JNJ enfatizó se mantiene vigente la medida ...</td>\n",
       "      <td>https://rpp.pe/politica/judiciales/delia-espin...</td>\n",
       "      <td>Wed, 22 Oct 2025 16:58:30 -0500</td>\n",
       "    </tr>\n",
       "    <tr>\n",
       "      <th>3</th>\n",
       "      <td>Policía en presunto estado de ebriedad es dete...</td>\n",
       "      <td>El agente es de la Unidad de Servicios Especia...</td>\n",
       "      <td>https://rpp.pe/peru/junin/huancayo-detienen-a-...</td>\n",
       "      <td>Wed, 22 Oct 2025 16:05:27 -0500</td>\n",
       "    </tr>\n",
       "    <tr>\n",
       "      <th>4</th>\n",
       "      <td>Agua Marina se retira temporalmente los escena...</td>\n",
       "      <td>El cantante Lucho Granda señaló que la decisió...</td>\n",
       "      <td>https://rpp.pe/musica/nacional/agua-marina-se-...</td>\n",
       "      <td>Wed, 22 Oct 2025 11:59:24 -0500</td>\n",
       "    </tr>\n",
       "    <tr>\n",
       "      <th>5</th>\n",
       "      <td>Isabel Preysler publica íntimas cartas de amor...</td>\n",
       "      <td>Isabel Preysler publicó su libro 'Mi verdadera...</td>\n",
       "      <td>https://rpp.pe/famosos/celebridades/isabel-pre...</td>\n",
       "      <td>Wed, 22 Oct 2025 08:47:59 -0500</td>\n",
       "    </tr>\n",
       "    <tr>\n",
       "      <th>6</th>\n",
       "      <td>¿Será necesario prorrogar el estado de emergen...</td>\n",
       "      <td>En Ampliación de Noticias, Rubén Cano consider...</td>\n",
       "      <td>https://rpp.pe/lima/seguridad/estado-de-emerge...</td>\n",
       "      <td>Wed, 22 Oct 2025 13:34:50 -0500</td>\n",
       "    </tr>\n",
       "    <tr>\n",
       "      <th>7</th>\n",
       "      <td>Ala Este de la Casa Blanca será demolida total...</td>\n",
       "      <td>De acuerdo con el diario The New York Times, e...</td>\n",
       "      <td>https://rpp.pe/mundo/estados-unidos/ala-este-d...</td>\n",
       "      <td>Wed, 22 Oct 2025 17:15:10 -0500</td>\n",
       "    </tr>\n",
       "    <tr>\n",
       "      <th>8</th>\n",
       "      <td>Soda Stereo en Lima: precios y cómo comprar en...</td>\n",
       "      <td>El trío argentino regresa en 2026, seis años d...</td>\n",
       "      <td>https://rpp.pe/musica/conciertos/soda-stereo-e...</td>\n",
       "      <td>Wed, 22 Oct 2025 17:00:37 -0500</td>\n",
       "    </tr>\n",
       "    <tr>\n",
       "      <th>9</th>\n",
       "      <td>Cronograma del octavo retiro de AFP 2025 HOY: ...</td>\n",
       "      <td>El desembolso se efectuará hasta en cuatro arm...</td>\n",
       "      <td>https://rpp.pe/economia/economia/octavo-retiro...</td>\n",
       "      <td>Wed, 22 Oct 2025 16:30:03 -0500</td>\n",
       "    </tr>\n",
       "  </tbody>\n",
       "</table>\n",
       "</div>"
      ],
      "text/plain": [
       "                                               title  \\\n",
       "0  Consejo Fiscal pide que el TC revise las más d...   \n",
       "1  Estados Unidos anunciará un \"aumento sustancia...   \n",
       "2  JNJ determina que Delia Espinoza no retornará ...   \n",
       "3  Policía en presunto estado de ebriedad es dete...   \n",
       "4  Agua Marina se retira temporalmente los escena...   \n",
       "5  Isabel Preysler publica íntimas cartas de amor...   \n",
       "6  ¿Será necesario prorrogar el estado de emergen...   \n",
       "7  Ala Este de la Casa Blanca será demolida total...   \n",
       "8  Soda Stereo en Lima: precios y cómo comprar en...   \n",
       "9  Cronograma del octavo retiro de AFP 2025 HOY: ...   \n",
       "\n",
       "                                         description  \\\n",
       "0  Alonso Segura alerta sobre la \"avalancha enorm...   \n",
       "1  \"Vamos a anunciar después del cierre (de los m...   \n",
       "2  La JNJ enfatizó se mantiene vigente la medida ...   \n",
       "3  El agente es de la Unidad de Servicios Especia...   \n",
       "4  El cantante Lucho Granda señaló que la decisió...   \n",
       "5  Isabel Preysler publicó su libro 'Mi verdadera...   \n",
       "6  En Ampliación de Noticias, Rubén Cano consider...   \n",
       "7  De acuerdo con el diario The New York Times, e...   \n",
       "8  El trío argentino regresa en 2026, seis años d...   \n",
       "9  El desembolso se efectuará hasta en cuatro arm...   \n",
       "\n",
       "                                                link  \\\n",
       "0  https://rpp.pe/economia/economia/consejo-fisca...   \n",
       "1  https://rpp.pe/mundo/estados-unidos/estados-un...   \n",
       "2  https://rpp.pe/politica/judiciales/delia-espin...   \n",
       "3  https://rpp.pe/peru/junin/huancayo-detienen-a-...   \n",
       "4  https://rpp.pe/musica/nacional/agua-marina-se-...   \n",
       "5  https://rpp.pe/famosos/celebridades/isabel-pre...   \n",
       "6  https://rpp.pe/lima/seguridad/estado-de-emerge...   \n",
       "7  https://rpp.pe/mundo/estados-unidos/ala-este-d...   \n",
       "8  https://rpp.pe/musica/conciertos/soda-stereo-e...   \n",
       "9  https://rpp.pe/economia/economia/octavo-retiro...   \n",
       "\n",
       "                    date_published  \n",
       "0  Wed, 22 Oct 2025 10:15:26 -0500  \n",
       "1  Wed, 22 Oct 2025 16:33:24 -0500  \n",
       "2  Wed, 22 Oct 2025 16:58:30 -0500  \n",
       "3  Wed, 22 Oct 2025 16:05:27 -0500  \n",
       "4  Wed, 22 Oct 2025 11:59:24 -0500  \n",
       "5  Wed, 22 Oct 2025 08:47:59 -0500  \n",
       "6  Wed, 22 Oct 2025 13:34:50 -0500  \n",
       "7  Wed, 22 Oct 2025 17:15:10 -0500  \n",
       "8  Wed, 22 Oct 2025 17:00:37 -0500  \n",
       "9  Wed, 22 Oct 2025 16:30:03 -0500  "
      ]
     },
     "metadata": {},
     "output_type": "display_data"
    },
    {
     "name": "stdout",
     "output_type": "stream",
     "text": [
      "\n",
      "💾 Results saved to: ../outputs/langchain_query_results.csv\n"
     ]
    }
   ],
   "source": [
    "# Step 3: Query with LangChain\n",
    "print(\"\\n🔄 Step 3: Querying vector store...\")\n",
    "query = \"Últimas noticias de economía\"\n",
    "df_langchain_results = langchain_pipeline.query(query, k=10)\n",
    "\n",
    "print(f\"\\n📊 LangChain Query Results for: '{query}'\")\n",
    "display(df_langchain_results)\n",
    "\n",
    "# Save results\n",
    "output_path_lc = \"../outputs/langchain_query_results.csv\"\n",
    "df_langchain_results.to_csv(output_path_lc, index=False)\n",
    "print(f\"\\n💾 Results saved to: {output_path_lc}\")"
   ]
  }
 ],
 "metadata": {
  "kernelspec": {
   "display_name": "rpp",
   "language": "python",
   "name": "python3"
  },
  "language_info": {
   "codemirror_mode": {
    "name": "ipython",
    "version": 3
   },
   "file_extension": ".py",
   "mimetype": "text/x-python",
   "name": "python",
   "nbconvert_exporter": "python",
   "pygments_lexer": "ipython3",
   "version": "3.11.14"
  }
 },
 "nbformat": 4,
 "nbformat_minor": 4
}
