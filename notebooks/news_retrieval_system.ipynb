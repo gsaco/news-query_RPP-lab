{
 "cells": [
  {
   "cell_type": "markdown",
   "metadata": {},
   "source": [
    "# 📰 News Retrieval and Embedding System - RPP RSS Feed\n",
    "\n",
    "## Task 1: News Retrieval and Embedding System\n",
    "\n",
    "**Objective**: Ingest the latest news from RPP Perú (https://rpp.pe/rss), embed them using SentenceTransformers, and build a retrieval system using ChromaDB orchestrated with LangChain.\n",
    "\n",
    "### Pipeline Overview:\n",
    "0. **Load Data** - Extract 50 latest news from RPP RSS feed\n",
    "1. **Tokenization** - Tokenize with tiktoken and analyze token counts\n",
    "2. **Embedding** - Generate embeddings with sentence-transformers/all-MiniLM-L6-v2\n",
    "3. **Create/Upsert Chroma** - Store in ChromaDB with metadata\n",
    "4. **Query Results** - Semantic similarity search with DataFrame output\n",
    "5. **LangChain Orchestration** - End-to-end modular pipeline\n",
    "\n",
    "---"
   ]
  },
  {
   "cell_type": "markdown",
   "metadata": {},
   "source": [
    "## 📦 Setup and Imports\n",
    "\n",
    "Import all required libraries and custom modules from the `src/` directory."
   ]
  },
  {
   "cell_type": "code",
   "execution_count": 71,
   "metadata": {},
   "outputs": [
    {
     "name": "stdout",
     "output_type": "stream",
     "text": [
      "✅ All modules imported successfully!\n"
     ]
    }
   ],
   "source": [
    "import sys\n",
    "sys.path.append('../src')\n",
    "\n",
    "import pandas as pd\n",
    "import numpy as np\n",
    "from datetime import datetime\n",
    "\n",
    "# Import custom modules\n",
    "from rss_loader import load_rss_feed, format_news_for_embedding\n",
    "from tokenizer import tokenize_text, count_tokens, should_chunk\n",
    "from embeddings import EmbeddingGenerator\n",
    "from vector_store import ChromaDBStore\n",
    "from langchain_pipeline import NewsRetrievalPipeline\n",
    "from utils import create_results_dataframe, display_results\n",
    "\n",
    "print(\"✅ All modules imported successfully!\")"
   ]
  },
  {
   "cell_type": "markdown",
   "metadata": {},
   "source": [
    "## Step 0️⃣: Load Data from RPP RSS Feed\n",
    "\n",
    "Load the latest 50 news items from RPP Perú RSS feed.\n",
    "\n",
    "**Requirements:**\n",
    "- Use `feedparser` to extract news items\n",
    "- Each record includes: `title`, `description`, `link`, `published` (date)"
   ]
  },
  {
   "cell_type": "code",
   "execution_count": 53,
   "metadata": {},
   "outputs": [
    {
     "name": "stdout",
     "output_type": "stream",
     "text": [
      "📡 Loading RSS feed from RPP Perú...\n",
      "✅ Loaded 50 news items\n",
      "\n",
      "First 3 news items:\n",
      "\n",
      "1. Revisa el link oficial del retiro AFP 2025 para registrar tu solicitud de desembolso\n",
      "   Published: Wed, 22 Oct 2025 15:45:08 -0500\n",
      "   Link: https://rpp.pe/economia/economia/retiro-afp-2025-link-oficial-para-registrar-tu-solicitud-y-pasos-para-solicitar-desembolso-4-uit-de-fondos-noticia-1660126\n",
      "   Description: La solicitud es gratuita y 100 % digital, mediante los portales oficiales de cada AFP. Evita enlaces...\n",
      "\n",
      "2. Ate: Policía detiene a un hombre por presuntamente realizar propuestas sexuales a una niña de 11 años\n",
      "   Published: Wed, 22 Oct 2025 15:39:21 -0500\n",
      "   Link: https://rpp.pe/peru/la-libertad/ate-policia-detiene-a-un-hombre-por-presuntamente-realizar-propuestas-sexuales-a-una-nina-de-11-anos-noticia-1660509\n",
      "   Description: El hombre de 29 años fue arrestado en su propia su casa esta madrugada. Según el coronel Johnny Huam...\n",
      "\n",
      "3. Real Madrid vs. Juventus hoy EN VIVO: ¿a qué hora juegan y dónde ver el partidazo por la Champions League?\n",
      "   Published: Wed, 22 Oct 2025 15:04:46 -0500\n",
      "   Link: https://rpp.pe/futbol/champions-league/real-madrid-vs-juventus-en-vivo-ver-espn-transmision-gratis-desde-tu-celular-fase-liga-champions-league-2025-con-mbappe-link-online-partidos-de-hoy-noticia-1660257\n",
      "   Description: En el Santiago Bernabéu, Real Madrid y Juventus protagonizan un clásico europeo por la fecha 3 de la...\n"
     ]
    }
   ],
   "source": [
    "# Load RSS feed\n",
    "print(\"📡 Loading RSS feed from RPP Perú...\")\n",
    "news_items = load_rss_feed(url=\"https://rpp.pe/rss\", max_items=50)\n",
    "\n",
    "print(f\"✅ Loaded {len(news_items)} news items\")\n",
    "print(\"\\nFirst 3 news items:\")\n",
    "for i, item in enumerate(news_items[:3], 1):\n",
    "    print(f\"\\n{i}. {item['title']}\")\n",
    "    print(f\"   Published: {item['published']}\")\n",
    "    print(f\"   Link: {item['link']}\")\n",
    "    print(f\"   Description: {item['description'][:100]}...\")"
   ]
  },
  {
   "cell_type": "code",
   "execution_count": 54,
   "metadata": {},
   "outputs": [
    {
     "name": "stdout",
     "output_type": "stream",
     "text": [
      "\n",
      "📊 News DataFrame:\n",
      "                                               title  \\\n",
      "0  Revisa el link oficial del retiro AFP 2025 par...   \n",
      "1  Ate: Policía detiene a un hombre por presuntam...   \n",
      "2  Real Madrid vs. Juventus hoy EN VIVO: ¿a qué h...   \n",
      "3  Gabinete de Ernesto Álvarez se presenta esta t...   \n",
      "4  LDU Quito vs. Palmeiras: ¿a qué hora juegan y ...   \n",
      "\n",
      "                                         description  \\\n",
      "0  La solicitud es gratuita y 100 % digital, medi...   \n",
      "1  El hombre de 29 años fue arrestado en su propi...   \n",
      "2  En el Santiago Bernabéu, Real Madrid y Juventu...   \n",
      "3  El premier Ernesto Álvarez solicitó presentars...   \n",
      "4  Consulta todos los detalles de lo que será el ...   \n",
      "\n",
      "                                                link  \\\n",
      "0  https://rpp.pe/economia/economia/retiro-afp-20...   \n",
      "1  https://rpp.pe/peru/la-libertad/ate-policia-de...   \n",
      "2  https://rpp.pe/futbol/champions-league/real-ma...   \n",
      "3  https://rpp.pe/politica/gobierno/gabinete-de-e...   \n",
      "4  https://rpp.pe/futbol/copa-libertadores/ldu-qu...   \n",
      "\n",
      "                         published  \n",
      "0  Wed, 22 Oct 2025 15:45:08 -0500  \n",
      "1  Wed, 22 Oct 2025 15:39:21 -0500  \n",
      "2  Wed, 22 Oct 2025 15:04:46 -0500  \n",
      "3  Wed, 22 Oct 2025 15:37:36 -0500  \n",
      "4  Wed, 22 Oct 2025 15:33:45 -0500  \n",
      "\n",
      "Shape: (50, 4)\n"
     ]
    }
   ],
   "source": [
    "# Create DataFrame for visualization\n",
    "df_news = pd.DataFrame(news_items)\n",
    "print(\"\\n📊 News DataFrame:\")\n",
    "print(df_news.head())\n",
    "print(f\"\\nShape: {df_news.shape}\")"
   ]
  },
  {
   "cell_type": "markdown",
   "metadata": {},
   "source": [
    "## Step 1️⃣: Tokenization with tiktoken\n",
    "\n",
    "Tokenize a sample article to understand token counts and determine if chunking is needed.\n",
    "\n",
    "**Requirements:**\n",
    "- Use `tiktoken` for tokenization\n",
    "- Compute `num_tokens` for sample articles\n",
    "- Decide if chunking is needed based on model context limits (8192 tokens)"
   ]
  },
  {
   "cell_type": "code",
   "execution_count": 55,
   "metadata": {},
   "outputs": [
    {
     "name": "stdout",
     "output_type": "stream",
     "text": [
      "📝 Sample Article:\n",
      "Revisa el link oficial del retiro AFP 2025 para registrar tu solicitud de desembolso. La solicitud es gratuita y 100 % digital, mediante los portales oficiales de cada AFP. Evita enlaces no verificados para prevenir intentos de fraude.\n",
      "\n",
      "================================================================================\n"
     ]
    }
   ],
   "source": [
    "# Select a sample article\n",
    "sample_article = format_news_for_embedding(news_items[0])\n",
    "\n",
    "print(\"📝 Sample Article:\")\n",
    "print(sample_article)\n",
    "print(\"\\n\" + \"=\"*80)"
   ]
  },
  {
   "cell_type": "code",
   "execution_count": 56,
   "metadata": {},
   "outputs": [
    {
     "name": "stdout",
     "output_type": "stream",
     "text": [
      "\n",
      "🔢 Token Analysis:\n",
      "   Number of tokens: 59\n",
      "   First 10 token IDs: [697, 94633, 658, 2723, 75540, 1624, 2160, 8869, 27746, 220]\n",
      "\n",
      "   Chunking needed (>8192 tokens): False\n"
     ]
    }
   ],
   "source": [
    "# Tokenize and count tokens\n",
    "tokens = tokenize_text(sample_article)\n",
    "num_tokens = count_tokens(sample_article)\n",
    "\n",
    "print(f\"\\n🔢 Token Analysis:\")\n",
    "print(f\"   Number of tokens: {num_tokens}\")\n",
    "print(f\"   First 10 token IDs: {tokens[:10]}\")\n",
    "\n",
    "# Check if chunking is needed\n",
    "needs_chunking = should_chunk(sample_article, max_tokens=8192)\n",
    "print(f\"\\n   Chunking needed (>8192 tokens): {needs_chunking}\")"
   ]
  },
  {
   "cell_type": "code",
   "execution_count": 57,
   "metadata": {},
   "outputs": [
    {
     "name": "stdout",
     "output_type": "stream",
     "text": [
      "\n",
      "📊 Token Statistics Across All Articles:\n",
      "   Average tokens: 73.80\n",
      "   Min tokens: 45\n",
      "   Max tokens: 136\n",
      "   Median tokens: 72.00\n"
     ]
    }
   ],
   "source": [
    "# Analyze token counts for all articles\n",
    "token_counts = [count_tokens(format_news_for_embedding(item)) for item in news_items]\n",
    "\n",
    "print(\"\\n📊 Token Statistics Across All Articles:\")\n",
    "print(f\"   Average tokens: {np.mean(token_counts):.2f}\")\n",
    "print(f\"   Min tokens: {np.min(token_counts)}\")\n",
    "print(f\"   Max tokens: {np.max(token_counts)}\")\n",
    "print(f\"   Median tokens: {np.median(token_counts):.2f}\")"
   ]
  },
  {
   "cell_type": "markdown",
   "metadata": {},
   "source": [
    "## Step 2️⃣: Generate Embeddings with SentenceTransformers\n",
    "\n",
    "Use the `sentence-transformers/all-MiniLM-L6-v2` model to generate embeddings.\n",
    "\n",
    "**Requirements:**\n",
    "- Model: `sentence-transformers/all-MiniLM-L6-v2`\n",
    "- Generate 384-dimensional embeddings\n",
    "- Store embeddings alongside text and metadata"
   ]
  },
  {
   "cell_type": "code",
   "execution_count": 58,
   "metadata": {},
   "outputs": [
    {
     "name": "stdout",
     "output_type": "stream",
     "text": [
      "🤖 Initializing SentenceTransformer model...\n"
     ]
    },
    {
     "name": "stderr",
     "output_type": "stream",
     "text": [
      "/Users/gabrielsaco/anaconda3/envs/rpp/lib/python3.11/site-packages/huggingface_hub/file_download.py:945: FutureWarning: `resume_download` is deprecated and will be removed in version 1.0.0. Downloads always resume when possible. If you want to force a new download, use `force_download=True`.\n",
      "  warnings.warn(\n"
     ]
    },
    {
     "name": "stdout",
     "output_type": "stream",
     "text": [
      "✅ Model loaded!\n"
     ]
    }
   ],
   "source": [
    "# Initialize embedding generator\n",
    "print(\"🤖 Initializing SentenceTransformer model...\")\n",
    "embedding_generator = EmbeddingGenerator(model_name=\"sentence-transformers/all-MiniLM-L6-v2\")\n",
    "print(\"✅ Model loaded!\")"
   ]
  },
  {
   "cell_type": "code",
   "execution_count": 59,
   "metadata": {},
   "outputs": [
    {
     "name": "stdout",
     "output_type": "stream",
     "text": [
      "\n",
      "🔄 Generating embeddings for all news items...\n",
      "✅ Generated 50 embeddings\n",
      "   Embedding dimension: 384\n",
      "   Sample embedding (first 10 values): [-0.12686767  0.00906485  0.01296752 -0.07259791 -0.07967388  0.012302\n",
      " -0.00340147  0.01742343  0.02747683  0.04642558]\n"
     ]
    }
   ],
   "source": [
    "# Generate embeddings for all news items\n",
    "print(\"\\n🔄 Generating embeddings for all news items...\")\n",
    "texts = [format_news_for_embedding(item) for item in news_items]\n",
    "embeddings = embedding_generator.embed_texts(texts)\n",
    "\n",
    "print(f\"✅ Generated {len(embeddings)} embeddings\")\n",
    "print(f\"   Embedding dimension: {embeddings[0].shape[0]}\")\n",
    "print(f\"   Sample embedding (first 10 values): {embeddings[0][:10]}\")"
   ]
  },
  {
   "cell_type": "markdown",
   "metadata": {},
   "source": [
    "## Step 3️⃣: Create or Upsert ChromaDB Collection\n",
    "\n",
    "Store documents, metadata, and embeddings in ChromaDB.\n",
    "\n",
    "**Requirements:**\n",
    "- Use ChromaDB to store documents, metadata, and embeddings\n",
    "- Implement upsert operation for updates\n",
    "- Support similarity search by keyword or description"
   ]
  },
  {
   "cell_type": "code",
   "execution_count": 60,
   "metadata": {},
   "outputs": [
    {
     "name": "stderr",
     "output_type": "stream",
     "text": [
      "Failed to send telemetry event ClientStartEvent: capture() takes 1 positional argument but 3 were given\n",
      "Failed to send telemetry event ClientCreateCollectionEvent: capture() takes 1 positional argument but 3 were given\n",
      "Failed to send telemetry event ClientCreateCollectionEvent: capture() takes 1 positional argument but 3 were given\n"
     ]
    },
    {
     "name": "stdout",
     "output_type": "stream",
     "text": [
      "💾 Initializing ChromaDB store...\n",
      "✅ ChromaDB store initialized!\n"
     ]
    }
   ],
   "source": [
    "# Initialize ChromaDB store\n",
    "print(\"💾 Initializing ChromaDB store...\")\n",
    "chroma_store = ChromaDBStore(\n",
    "    collection_name=\"rpp_news\",\n",
    "    persist_directory=\"../chroma_db\"\n",
    ")\n",
    "print(\"✅ ChromaDB store initialized!\")"
   ]
  },
  {
   "cell_type": "code",
   "execution_count": 61,
   "metadata": {},
   "outputs": [
    {
     "name": "stdout",
     "output_type": "stream",
     "text": [
      "📝 Prepared 50 metadata entries\n"
     ]
    }
   ],
   "source": [
    "# Prepare metadata\n",
    "metadatas = [\n",
    "    {\n",
    "        'title': item['title'],\n",
    "        'description': item['description'],\n",
    "        'link': item['link'],\n",
    "        'published': item['published']\n",
    "    }\n",
    "    for item in news_items\n",
    "]\n",
    "\n",
    "# Generate unique IDs\n",
    "ids = [f\"news_{i}\" for i in range(len(news_items))]\n",
    "\n",
    "print(f\"📝 Prepared {len(metadatas)} metadata entries\")"
   ]
  },
  {
   "cell_type": "code",
   "execution_count": 62,
   "metadata": {},
   "outputs": [
    {
     "name": "stdout",
     "output_type": "stream",
     "text": [
      "\n",
      "⬆️  Upserting documents to ChromaDB...\n",
      "✅ Collection now contains 50 documents\n"
     ]
    }
   ],
   "source": [
    "# Upsert documents to ChromaDB\n",
    "print(\"\\n⬆️  Upserting documents to ChromaDB...\")\n",
    "chroma_store.upsert_documents(\n",
    "    documents=texts,\n",
    "    metadatas=metadatas,\n",
    "    embeddings=embeddings.tolist(),\n",
    "    ids=ids\n",
    ")\n",
    "\n",
    "collection_count = chroma_store.get_collection_count()\n",
    "print(f\"✅ Collection now contains {collection_count} documents\")"
   ]
  },
  {
   "cell_type": "markdown",
   "metadata": {},
   "source": [
    "## Step 4️⃣: Query and Retrieve Results\n",
    "\n",
    "Query the system with \"Últimas noticias de economía\" and display results in a DataFrame.\n",
    "\n",
    "**Requirements:**\n",
    "- Query with prompts like \"Últimas noticias de economía\"\n",
    "- Display results in pandas DataFrame\n",
    "- Columns: `title | description | link | date_published`\n",
    "- Show top 5-10 most relevant results"
   ]
  },
  {
   "cell_type": "code",
   "execution_count": 63,
   "metadata": {},
   "outputs": [
    {
     "name": "stdout",
     "output_type": "stream",
     "text": [
      "🔍 Querying: 'Últimas noticias de economía'\n",
      "✅ Found 10 results\n",
      "✅ Found 10 results\n"
     ]
    }
   ],
   "source": [
    "# Query the collection\n",
    "query_text = \"Últimas noticias de economía\"\n",
    "print(f\"🔍 Querying: '{query_text}'\")\n",
    "\n",
    "results = chroma_store.query(\n",
    "    query_texts=[query_text],\n",
    "    n_results=10\n",
    ")\n",
    "\n",
    "print(f\"✅ Found {len(results['metadatas'][0])} results\")"
   ]
  },
  {
   "cell_type": "code",
   "execution_count": 64,
   "metadata": {},
   "outputs": [
    {
     "name": "stdout",
     "output_type": "stream",
     "text": [
      "\n",
      "📊 Query Results:\n"
     ]
    },
    {
     "data": {
      "application/vnd.microsoft.datawrangler.viewer.v0+json": {
       "columns": [
        {
         "name": "index",
         "rawType": "int64",
         "type": "integer"
        },
        {
         "name": "title",
         "rawType": "object",
         "type": "string"
        },
        {
         "name": "description",
         "rawType": "object",
         "type": "string"
        },
        {
         "name": "link",
         "rawType": "object",
         "type": "string"
        },
        {
         "name": "date_published",
         "rawType": "object",
         "type": "string"
        }
       ],
       "ref": "c7454442-e122-47ee-bb3e-739f5d16cc60",
       "rows": [
        [
         "0",
         "Consejo Fiscal pide que el TC revise las más de 200 leyes aprobadas por el Congreso que comprometen la estabilidad fiscal",
         "Alonso Segura alerta sobre la \"avalancha enorme\" de gasto, cifrada en S/ 36,000 millones, y advierte que el país podría perder el grado de inversión si no se detiene la trayectoria actual.",
         "https://rpp.pe/economia/economia/consejo-fiscal-pide-que-el-tc-revise-las-mas-de-200-leyes-aprobadas-por-el-congreso-que-comprometen-la-estabilidad-fiscal-noticia-1660497",
         "Wed, 22 Oct 2025 10:15:26 -0500"
        ],
        [
         "1",
         "José Jerí sobre estado de emergencia: \"Las decisiones se toman pensando en el bien de la mayoría, aunque a algunos no les guste\"",
         "Durante la ceremonia por el aniversario de la Dirección de Seguridad del Estado, el presidente José Jerí respaldó el accionar policial en el marco del estado de emergencia en Lima y Callao, que restringe derechos constitucionales por un periodo de 30 días.",
         "https://rpp.pe/politica/gobierno/jose-jeri-sobre-estado-de-emergencia-las-decisiones-se-toman-pensando-en-el-bien-de-la-mayoria-aunque-a-algunos-no-les-guste-noticia-1660478",
         "Wed, 22 Oct 2025 12:31:52 -0500"
        ],
        [
         "2",
         "Agua Marina se retira temporalmente los escenarios, según integrante: “Es triste porque la música es nuestra vida”",
         "El cantante Lucho Granda señaló que la decisión busca proteger su salud emocional luego del ataque sufrido por la agrupación en medio de un concierto.",
         "https://rpp.pe/musica/nacional/agua-marina-se-retira-temporalmente-los-escenarios-segun-integrante-noticia-1660461",
         "Wed, 22 Oct 2025 11:59:24 -0500"
        ],
        [
         "3",
         "Congreso propone sueldos de hasta S/ 17,500 en CORPAC pese a historial de graves fallas operacionales y crisis de gestiones",
         "El congresista Guido Bellido presentó un proyecto de ley que propone una nueva escala salarial para los trabajadores de Corpac S.A., con sueldos de hasta S/17,500. Como se sabe, en las últimas gestiones, la empresa estatal fue cuestionada por severas crisis operativas.",
         "https://rpp.pe/economia/economia/alza-salarial-en-corpac-congreso-propone-sueldos-de-hasta-17500-soles-pese-a-historial-de-fallas-operaciones-y-crisis-de-gestion-noticia-1660476",
         "Wed, 22 Oct 2025 13:30:02 -0500"
        ],
        [
         "4",
         "Tragedia en Venezuela: dos personas mueren tras fallido despegue de avioneta [VIDEO]",
         "Dos personas perdieron la vida este miércoles cuando una avioneta se precipitó a tierra en el momento en el que despegaba de un aeropuerto en el estado Táchira, en el oeste de Venezuela.",
         "https://rpp.pe/mundo/venezuela/tragedia-en-venezuela-dos-personas-mueren-tras-fallido-despegue-de-avioneta-noticia-1660479",
         "Wed, 22 Oct 2025 12:36:16 -0500"
        ],
        [
         "5",
         "Álvarez dice que posible ampliación del Reinfo sería \"un incentivo para los mineros ilegales\"",
         "El jefe del Gabinete Ministerial indicó que el Gobierno de José Jerí debe dejar las bases para que la siguiente gestión reorganice la minería.",
         "https://rpp.pe/politica/gobierno/alvarez-sobre-posible-ampliacion-del-reinfo-seria-un-incentivo-para-los-mineros-ilegales-noticia-1660501",
         "Wed, 22 Oct 2025 14:08:40 -0500"
        ],
        [
         "6",
         "Intriga en Corinthians: André Carrillo respondió ante interés de Inter de Porto Alegre por su fichaje",
         "De acuerdo con medios de Porto Alegre, André Carrillo es seguido por Internacional, que actualmente es dirigido por Ramón Díaz.",
         "https://rpp.pe/futbol/peruanos-en-el-mundo/andre-carrillo-respondio-ante-interes-de-inter-de-porto-alegre-por-su-fichaje-corinthians-brasileirao-noticia-1660470",
         "Wed, 22 Oct 2025 13:05:31 -0500"
        ],
        [
         "7",
         "¿Será necesario prorrogar el estado de emergencia? Esto opina el alcalde de La Victoria",
         "En Ampliación de Noticias, Rubén Cano consideró que la declaratoria de estado de emergencia en Lima y Callao era \"impostergable\" ante los altos índices de criminalidad.",
         "https://rpp.pe/lima/seguridad/estado-de-emergencia-esto-opina-el-alcalde-de-la-victoria-noticia-1660457",
         "Wed, 22 Oct 2025 13:34:50 -0500"
        ],
        [
         "8",
         "“Todo está podrido adentro”: exinterno advierte sobre la situación en el penal de Lurigancho",
         "En el programa Encendidos, un expresidiario compartió la experiencia vivida en el penal de Lurigancho, a propósito de la entrada en vigor del estado de emergencia en Lima y Callao, medida que contempla el endurecimiento del control penitenciario.",
         "https://rpp.pe/videos/encendidos/todo-esta-podrido-adentro-exinterno-advierte-sobre-la-situacion-en-el-penal-de-lurigancho-noticia-1660484",
         "Wed, 22 Oct 2025 12:30:27 -0500"
        ],
        [
         "9",
         "Abogada de Susana Villarán pide que se aplique el mismo criterio del TC para anular acusación por lavado de activos",
         "Además, Merly Edquen, abogada de la exalcaldesa de Lima Susana Villarán, informó que se encuentran a la expectativa de la decisión que tome el Poder Judicial ante el pedido del fiscal José Domingo Pérez para que se suspenda el juicio contra su patrocinada.",
         "https://rpp.pe/politica/judiciales/abogada-de-susana-villaran-pide-que-se-aplique-el-mismo-criterio-del-tc-para-anular-acusacion-por-lavado-de-activos-noticia-1660491",
         "Wed, 22 Oct 2025 13:40:26 -0500"
        ]
       ],
       "shape": {
        "columns": 4,
        "rows": 10
       }
      },
      "text/html": [
       "<div>\n",
       "<style scoped>\n",
       "    .dataframe tbody tr th:only-of-type {\n",
       "        vertical-align: middle;\n",
       "    }\n",
       "\n",
       "    .dataframe tbody tr th {\n",
       "        vertical-align: top;\n",
       "    }\n",
       "\n",
       "    .dataframe thead th {\n",
       "        text-align: right;\n",
       "    }\n",
       "</style>\n",
       "<table border=\"1\" class=\"dataframe\">\n",
       "  <thead>\n",
       "    <tr style=\"text-align: right;\">\n",
       "      <th></th>\n",
       "      <th>title</th>\n",
       "      <th>description</th>\n",
       "      <th>link</th>\n",
       "      <th>date_published</th>\n",
       "    </tr>\n",
       "  </thead>\n",
       "  <tbody>\n",
       "    <tr>\n",
       "      <th>0</th>\n",
       "      <td>Consejo Fiscal pide que el TC revise las más d...</td>\n",
       "      <td>Alonso Segura alerta sobre la \"avalancha enorm...</td>\n",
       "      <td>https://rpp.pe/economia/economia/consejo-fisca...</td>\n",
       "      <td>Wed, 22 Oct 2025 10:15:26 -0500</td>\n",
       "    </tr>\n",
       "    <tr>\n",
       "      <th>1</th>\n",
       "      <td>José Jerí sobre estado de emergencia: \"Las dec...</td>\n",
       "      <td>Durante la ceremonia por el aniversario de la ...</td>\n",
       "      <td>https://rpp.pe/politica/gobierno/jose-jeri-sob...</td>\n",
       "      <td>Wed, 22 Oct 2025 12:31:52 -0500</td>\n",
       "    </tr>\n",
       "    <tr>\n",
       "      <th>2</th>\n",
       "      <td>Agua Marina se retira temporalmente los escena...</td>\n",
       "      <td>El cantante Lucho Granda señaló que la decisió...</td>\n",
       "      <td>https://rpp.pe/musica/nacional/agua-marina-se-...</td>\n",
       "      <td>Wed, 22 Oct 2025 11:59:24 -0500</td>\n",
       "    </tr>\n",
       "    <tr>\n",
       "      <th>3</th>\n",
       "      <td>Congreso propone sueldos de hasta S/ 17,500 en...</td>\n",
       "      <td>El congresista Guido Bellido presentó un proye...</td>\n",
       "      <td>https://rpp.pe/economia/economia/alza-salarial...</td>\n",
       "      <td>Wed, 22 Oct 2025 13:30:02 -0500</td>\n",
       "    </tr>\n",
       "    <tr>\n",
       "      <th>4</th>\n",
       "      <td>Tragedia en Venezuela: dos personas mueren tra...</td>\n",
       "      <td>Dos personas perdieron la vida este miércoles ...</td>\n",
       "      <td>https://rpp.pe/mundo/venezuela/tragedia-en-ven...</td>\n",
       "      <td>Wed, 22 Oct 2025 12:36:16 -0500</td>\n",
       "    </tr>\n",
       "    <tr>\n",
       "      <th>5</th>\n",
       "      <td>Álvarez dice que posible ampliación del Reinfo...</td>\n",
       "      <td>El jefe del Gabinete Ministerial indicó que el...</td>\n",
       "      <td>https://rpp.pe/politica/gobierno/alvarez-sobre...</td>\n",
       "      <td>Wed, 22 Oct 2025 14:08:40 -0500</td>\n",
       "    </tr>\n",
       "    <tr>\n",
       "      <th>6</th>\n",
       "      <td>Intriga en Corinthians: André Carrillo respond...</td>\n",
       "      <td>De acuerdo con medios de Porto Alegre, André C...</td>\n",
       "      <td>https://rpp.pe/futbol/peruanos-en-el-mundo/and...</td>\n",
       "      <td>Wed, 22 Oct 2025 13:05:31 -0500</td>\n",
       "    </tr>\n",
       "    <tr>\n",
       "      <th>7</th>\n",
       "      <td>¿Será necesario prorrogar el estado de emergen...</td>\n",
       "      <td>En Ampliación de Noticias, Rubén Cano consider...</td>\n",
       "      <td>https://rpp.pe/lima/seguridad/estado-de-emerge...</td>\n",
       "      <td>Wed, 22 Oct 2025 13:34:50 -0500</td>\n",
       "    </tr>\n",
       "    <tr>\n",
       "      <th>8</th>\n",
       "      <td>“Todo está podrido adentro”: exinterno adviert...</td>\n",
       "      <td>En el programa Encendidos, un expresidiario co...</td>\n",
       "      <td>https://rpp.pe/videos/encendidos/todo-esta-pod...</td>\n",
       "      <td>Wed, 22 Oct 2025 12:30:27 -0500</td>\n",
       "    </tr>\n",
       "    <tr>\n",
       "      <th>9</th>\n",
       "      <td>Abogada de Susana Villarán pide que se aplique...</td>\n",
       "      <td>Además, Merly Edquen, abogada de la exalcaldes...</td>\n",
       "      <td>https://rpp.pe/politica/judiciales/abogada-de-...</td>\n",
       "      <td>Wed, 22 Oct 2025 13:40:26 -0500</td>\n",
       "    </tr>\n",
       "  </tbody>\n",
       "</table>\n",
       "</div>"
      ],
      "text/plain": [
       "                                               title  \\\n",
       "0  Consejo Fiscal pide que el TC revise las más d...   \n",
       "1  José Jerí sobre estado de emergencia: \"Las dec...   \n",
       "2  Agua Marina se retira temporalmente los escena...   \n",
       "3  Congreso propone sueldos de hasta S/ 17,500 en...   \n",
       "4  Tragedia en Venezuela: dos personas mueren tra...   \n",
       "5  Álvarez dice que posible ampliación del Reinfo...   \n",
       "6  Intriga en Corinthians: André Carrillo respond...   \n",
       "7  ¿Será necesario prorrogar el estado de emergen...   \n",
       "8  “Todo está podrido adentro”: exinterno adviert...   \n",
       "9  Abogada de Susana Villarán pide que se aplique...   \n",
       "\n",
       "                                         description  \\\n",
       "0  Alonso Segura alerta sobre la \"avalancha enorm...   \n",
       "1  Durante la ceremonia por el aniversario de la ...   \n",
       "2  El cantante Lucho Granda señaló que la decisió...   \n",
       "3  El congresista Guido Bellido presentó un proye...   \n",
       "4  Dos personas perdieron la vida este miércoles ...   \n",
       "5  El jefe del Gabinete Ministerial indicó que el...   \n",
       "6  De acuerdo con medios de Porto Alegre, André C...   \n",
       "7  En Ampliación de Noticias, Rubén Cano consider...   \n",
       "8  En el programa Encendidos, un expresidiario co...   \n",
       "9  Además, Merly Edquen, abogada de la exalcaldes...   \n",
       "\n",
       "                                                link  \\\n",
       "0  https://rpp.pe/economia/economia/consejo-fisca...   \n",
       "1  https://rpp.pe/politica/gobierno/jose-jeri-sob...   \n",
       "2  https://rpp.pe/musica/nacional/agua-marina-se-...   \n",
       "3  https://rpp.pe/economia/economia/alza-salarial...   \n",
       "4  https://rpp.pe/mundo/venezuela/tragedia-en-ven...   \n",
       "5  https://rpp.pe/politica/gobierno/alvarez-sobre...   \n",
       "6  https://rpp.pe/futbol/peruanos-en-el-mundo/and...   \n",
       "7  https://rpp.pe/lima/seguridad/estado-de-emerge...   \n",
       "8  https://rpp.pe/videos/encendidos/todo-esta-pod...   \n",
       "9  https://rpp.pe/politica/judiciales/abogada-de-...   \n",
       "\n",
       "                    date_published  \n",
       "0  Wed, 22 Oct 2025 10:15:26 -0500  \n",
       "1  Wed, 22 Oct 2025 12:31:52 -0500  \n",
       "2  Wed, 22 Oct 2025 11:59:24 -0500  \n",
       "3  Wed, 22 Oct 2025 13:30:02 -0500  \n",
       "4  Wed, 22 Oct 2025 12:36:16 -0500  \n",
       "5  Wed, 22 Oct 2025 14:08:40 -0500  \n",
       "6  Wed, 22 Oct 2025 13:05:31 -0500  \n",
       "7  Wed, 22 Oct 2025 13:34:50 -0500  \n",
       "8  Wed, 22 Oct 2025 12:30:27 -0500  \n",
       "9  Wed, 22 Oct 2025 13:40:26 -0500  "
      ]
     },
     "metadata": {},
     "output_type": "display_data"
    },
    {
     "name": "stdout",
     "output_type": "stream",
     "text": [
      "\n",
      "💾 Results saved to: ../outputs/query_results_economia.csv\n"
     ]
    }
   ],
   "source": [
    "# Create and display results DataFrame\n",
    "df_results = create_results_dataframe(results)\n",
    "\n",
    "print(\"\\n📊 Query Results:\")\n",
    "display(df_results)\n",
    "\n",
    "# Save to CSV\n",
    "output_path = \"../outputs/query_results_economia.csv\"\n",
    "df_results.to_csv(output_path, index=False)\n",
    "print(f\"\\n💾 Results saved to: {output_path}\")"
   ]
  },
  {
   "cell_type": "code",
   "execution_count": 65,
   "metadata": {},
   "outputs": [
    {
     "name": "stdout",
     "output_type": "stream",
     "text": [
      "\n",
      "🔍 Querying: 'Noticias de deportes y fútbol'\n",
      "\n",
      "📊 Sports Query Results:\n",
      "\n",
      "📊 Sports Query Results:\n"
     ]
    },
    {
     "data": {
      "application/vnd.microsoft.datawrangler.viewer.v0+json": {
       "columns": [
        {
         "name": "index",
         "rawType": "int64",
         "type": "integer"
        },
        {
         "name": "title",
         "rawType": "object",
         "type": "string"
        },
        {
         "name": "description",
         "rawType": "object",
         "type": "string"
        },
        {
         "name": "link",
         "rawType": "object",
         "type": "string"
        },
        {
         "name": "date_published",
         "rawType": "object",
         "type": "string"
        }
       ],
       "ref": "2a898cfd-0618-4c84-b76b-d4f45c1a6714",
       "rows": [
        [
         "0",
         "'Tunche' Rivera: \"Vamos a salir con todo ante Sporting Cristal, no nos vamos a guardar nada\"",
         "El delantero de Universitario apuntó que buscarán el triunfo ante Sporting Cristal para dar un paso más hacia el tricampeonato nacional.",
         "https://rpp.pe/futbol/descentralizado/universitario-vs-sporting-cristal-tunche-rivera-vamos-a-salir-con-todo-no-nos-guardaremos-nada-liga-1-noticia-1660495",
         "Wed, 22 Oct 2025 14:13:17 -0500"
        ],
        [
         "1",
         "¿Será necesario prorrogar el estado de emergencia? Esto opina el alcalde de La Victoria",
         "En Ampliación de Noticias, Rubén Cano consideró que la declaratoria de estado de emergencia en Lima y Callao era \"impostergable\" ante los altos índices de criminalidad.",
         "https://rpp.pe/lima/seguridad/estado-de-emergencia-esto-opina-el-alcalde-de-la-victoria-noticia-1660457",
         "Wed, 22 Oct 2025 13:34:50 -0500"
        ],
        [
         "2",
         "Xiomy Kanashiro descarta reunirse con Yahaira Plasencia: \"No está en mis planes juntarme\"",
         "Luego de negar planes de boda con Jefferson Farfán, Xiomy Kanashiro habló de Yahaira Plasencia, expareja del mundialista. \"No tengo nada en su contra\", expresó.",
         "https://rpp.pe/famosos/farandula/xiomy-kanashiro-descarta-reunirse-con-yahaira-plasencia-tras-negar-planes-de-boda-con-jefferson-farfan-noticia-1660477",
         "Wed, 22 Oct 2025 13:38:04 -0500"
        ],
        [
         "3",
         "Partidos de hoy, miércoles 22 de octubre del 2025: horarios y canales TV para ver EN VIVO Champions League y Libertadores",
         "Fútbol EN VIVO | Horarios y canales de TV para ver EN DIRECTO los partidos de hoy, miércoles 22 de octubre del 2025.",
         "https://rpp.pe/futbol/futbol-mundial/partidos-de-hoy-peru-miercoles-22-de-octubre-del-2025-horarios-y-canales-tv-ver-futbol-en-vivo-noticia-1660277",
         "Wed, 22 Oct 2025 13:45:34 -0500"
        ],
        [
         "4",
         "Tragedia en Venezuela: dos personas mueren tras fallido despegue de avioneta [VIDEO]",
         "Dos personas perdieron la vida este miércoles cuando una avioneta se precipitó a tierra en el momento en el que despegaba de un aeropuerto en el estado Táchira, en el oeste de Venezuela.",
         "https://rpp.pe/mundo/venezuela/tragedia-en-venezuela-dos-personas-mueren-tras-fallido-despegue-de-avioneta-noticia-1660479",
         "Wed, 22 Oct 2025 12:36:16 -0500"
        ],
        [
         "5",
         "Copa Libertadores: Liga de Quito y Palmeiras se ven las caras por la primera semifinal",
         "Palmeiras se mide ante Liga de Quito en el estadio la Casa Blanca mañana a las 19:30 horas. El partido será supervisado por Facundo Tello Figueroa.",
         "https://rpp.pe/futbol/ligas-internacionales/copa-libertadores-liga-de-quito-y-palmeiras-se-ven-las-caras-por-la-primera-semifinal-noticia-1660508",
         "Wed, 22 Oct 2025 14:39:40 -0500"
        ],
        [
         "6",
         "LDU Quito vs. Palmeiras: ¿a qué hora juegan y dónde ver el partido por ida semifinales de la Copa Libertadores?",
         "Consulta todos los detalles de lo que será el duelo de LDU Quito ante Palmeiras en territorio ecuatoriano.",
         "https://rpp.pe/futbol/copa-libertadores/ldu-quito-vs-palmeiras-en-vivo-a-que-hora-juegan-en-ecuador-y-donde-ver-semifinal-copa-libertadores-2025-via-espn-partidos-de-hoy-noticia-1660512",
         "Wed, 22 Oct 2025 15:33:45 -0500"
        ],
        [
         "7",
         "Real Madrid vs. Juventus hoy EN VIVO: ¿a qué hora juegan y dónde ver el partidazo por la Champions League?",
         "En el Santiago Bernabéu, Real Madrid y Juventus protagonizan un clásico europeo por la fecha 3 de la fase liga de la Champions League.",
         "https://rpp.pe/futbol/champions-league/real-madrid-vs-juventus-en-vivo-ver-espn-transmision-gratis-desde-tu-celular-fase-liga-champions-league-2025-con-mbappe-link-online-partidos-de-hoy-noticia-1660257",
         "Wed, 22 Oct 2025 15:04:46 -0500"
        ],
        [
         "8",
         "José Jerí sobre estado de emergencia: \"Las decisiones se toman pensando en el bien de la mayoría, aunque a algunos no les guste\"",
         "Durante la ceremonia por el aniversario de la Dirección de Seguridad del Estado, el presidente José Jerí respaldó el accionar policial en el marco del estado de emergencia en Lima y Callao, que restringe derechos constitucionales por un periodo de 30 días.",
         "https://rpp.pe/politica/gobierno/jose-jeri-sobre-estado-de-emergencia-las-decisiones-se-toman-pensando-en-el-bien-de-la-mayoria-aunque-a-algunos-no-les-guste-noticia-1660478",
         "Wed, 22 Oct 2025 12:31:52 -0500"
        ],
        [
         "9",
         "Ate: Policía detiene a un hombre por presuntamente realizar propuestas sexuales a una niña de 11 años",
         "El hombre de 29 años fue arrestado en su propia su casa esta madrugada. Según el coronel Johnny Huaman, jefe de Divincri, se investiga que esta persona supuestamente tenga en su poder material de pornografía infantil.",
         "https://rpp.pe/peru/la-libertad/ate-policia-detiene-a-un-hombre-por-presuntamente-realizar-propuestas-sexuales-a-una-nina-de-11-anos-noticia-1660509",
         "Wed, 22 Oct 2025 15:39:21 -0500"
        ]
       ],
       "shape": {
        "columns": 4,
        "rows": 10
       }
      },
      "text/html": [
       "<div>\n",
       "<style scoped>\n",
       "    .dataframe tbody tr th:only-of-type {\n",
       "        vertical-align: middle;\n",
       "    }\n",
       "\n",
       "    .dataframe tbody tr th {\n",
       "        vertical-align: top;\n",
       "    }\n",
       "\n",
       "    .dataframe thead th {\n",
       "        text-align: right;\n",
       "    }\n",
       "</style>\n",
       "<table border=\"1\" class=\"dataframe\">\n",
       "  <thead>\n",
       "    <tr style=\"text-align: right;\">\n",
       "      <th></th>\n",
       "      <th>title</th>\n",
       "      <th>description</th>\n",
       "      <th>link</th>\n",
       "      <th>date_published</th>\n",
       "    </tr>\n",
       "  </thead>\n",
       "  <tbody>\n",
       "    <tr>\n",
       "      <th>0</th>\n",
       "      <td>'Tunche' Rivera: \"Vamos a salir con todo ante ...</td>\n",
       "      <td>El delantero de Universitario apuntó que busca...</td>\n",
       "      <td>https://rpp.pe/futbol/descentralizado/universi...</td>\n",
       "      <td>Wed, 22 Oct 2025 14:13:17 -0500</td>\n",
       "    </tr>\n",
       "    <tr>\n",
       "      <th>1</th>\n",
       "      <td>¿Será necesario prorrogar el estado de emergen...</td>\n",
       "      <td>En Ampliación de Noticias, Rubén Cano consider...</td>\n",
       "      <td>https://rpp.pe/lima/seguridad/estado-de-emerge...</td>\n",
       "      <td>Wed, 22 Oct 2025 13:34:50 -0500</td>\n",
       "    </tr>\n",
       "    <tr>\n",
       "      <th>2</th>\n",
       "      <td>Xiomy Kanashiro descarta reunirse con Yahaira ...</td>\n",
       "      <td>Luego de negar planes de boda con Jefferson Fa...</td>\n",
       "      <td>https://rpp.pe/famosos/farandula/xiomy-kanashi...</td>\n",
       "      <td>Wed, 22 Oct 2025 13:38:04 -0500</td>\n",
       "    </tr>\n",
       "    <tr>\n",
       "      <th>3</th>\n",
       "      <td>Partidos de hoy, miércoles 22 de octubre del 2...</td>\n",
       "      <td>Fútbol EN VIVO | Horarios y canales de TV para...</td>\n",
       "      <td>https://rpp.pe/futbol/futbol-mundial/partidos-...</td>\n",
       "      <td>Wed, 22 Oct 2025 13:45:34 -0500</td>\n",
       "    </tr>\n",
       "    <tr>\n",
       "      <th>4</th>\n",
       "      <td>Tragedia en Venezuela: dos personas mueren tra...</td>\n",
       "      <td>Dos personas perdieron la vida este miércoles ...</td>\n",
       "      <td>https://rpp.pe/mundo/venezuela/tragedia-en-ven...</td>\n",
       "      <td>Wed, 22 Oct 2025 12:36:16 -0500</td>\n",
       "    </tr>\n",
       "    <tr>\n",
       "      <th>5</th>\n",
       "      <td>Copa Libertadores: Liga de Quito y Palmeiras s...</td>\n",
       "      <td>Palmeiras se mide ante Liga de Quito en el est...</td>\n",
       "      <td>https://rpp.pe/futbol/ligas-internacionales/co...</td>\n",
       "      <td>Wed, 22 Oct 2025 14:39:40 -0500</td>\n",
       "    </tr>\n",
       "    <tr>\n",
       "      <th>6</th>\n",
       "      <td>LDU Quito vs. Palmeiras: ¿a qué hora juegan y ...</td>\n",
       "      <td>Consulta todos los detalles de lo que será el ...</td>\n",
       "      <td>https://rpp.pe/futbol/copa-libertadores/ldu-qu...</td>\n",
       "      <td>Wed, 22 Oct 2025 15:33:45 -0500</td>\n",
       "    </tr>\n",
       "    <tr>\n",
       "      <th>7</th>\n",
       "      <td>Real Madrid vs. Juventus hoy EN VIVO: ¿a qué h...</td>\n",
       "      <td>En el Santiago Bernabéu, Real Madrid y Juventu...</td>\n",
       "      <td>https://rpp.pe/futbol/champions-league/real-ma...</td>\n",
       "      <td>Wed, 22 Oct 2025 15:04:46 -0500</td>\n",
       "    </tr>\n",
       "    <tr>\n",
       "      <th>8</th>\n",
       "      <td>José Jerí sobre estado de emergencia: \"Las dec...</td>\n",
       "      <td>Durante la ceremonia por el aniversario de la ...</td>\n",
       "      <td>https://rpp.pe/politica/gobierno/jose-jeri-sob...</td>\n",
       "      <td>Wed, 22 Oct 2025 12:31:52 -0500</td>\n",
       "    </tr>\n",
       "    <tr>\n",
       "      <th>9</th>\n",
       "      <td>Ate: Policía detiene a un hombre por presuntam...</td>\n",
       "      <td>El hombre de 29 años fue arrestado en su propi...</td>\n",
       "      <td>https://rpp.pe/peru/la-libertad/ate-policia-de...</td>\n",
       "      <td>Wed, 22 Oct 2025 15:39:21 -0500</td>\n",
       "    </tr>\n",
       "  </tbody>\n",
       "</table>\n",
       "</div>"
      ],
      "text/plain": [
       "                                               title  \\\n",
       "0  'Tunche' Rivera: \"Vamos a salir con todo ante ...   \n",
       "1  ¿Será necesario prorrogar el estado de emergen...   \n",
       "2  Xiomy Kanashiro descarta reunirse con Yahaira ...   \n",
       "3  Partidos de hoy, miércoles 22 de octubre del 2...   \n",
       "4  Tragedia en Venezuela: dos personas mueren tra...   \n",
       "5  Copa Libertadores: Liga de Quito y Palmeiras s...   \n",
       "6  LDU Quito vs. Palmeiras: ¿a qué hora juegan y ...   \n",
       "7  Real Madrid vs. Juventus hoy EN VIVO: ¿a qué h...   \n",
       "8  José Jerí sobre estado de emergencia: \"Las dec...   \n",
       "9  Ate: Policía detiene a un hombre por presuntam...   \n",
       "\n",
       "                                         description  \\\n",
       "0  El delantero de Universitario apuntó que busca...   \n",
       "1  En Ampliación de Noticias, Rubén Cano consider...   \n",
       "2  Luego de negar planes de boda con Jefferson Fa...   \n",
       "3  Fútbol EN VIVO | Horarios y canales de TV para...   \n",
       "4  Dos personas perdieron la vida este miércoles ...   \n",
       "5  Palmeiras se mide ante Liga de Quito en el est...   \n",
       "6  Consulta todos los detalles de lo que será el ...   \n",
       "7  En el Santiago Bernabéu, Real Madrid y Juventu...   \n",
       "8  Durante la ceremonia por el aniversario de la ...   \n",
       "9  El hombre de 29 años fue arrestado en su propi...   \n",
       "\n",
       "                                                link  \\\n",
       "0  https://rpp.pe/futbol/descentralizado/universi...   \n",
       "1  https://rpp.pe/lima/seguridad/estado-de-emerge...   \n",
       "2  https://rpp.pe/famosos/farandula/xiomy-kanashi...   \n",
       "3  https://rpp.pe/futbol/futbol-mundial/partidos-...   \n",
       "4  https://rpp.pe/mundo/venezuela/tragedia-en-ven...   \n",
       "5  https://rpp.pe/futbol/ligas-internacionales/co...   \n",
       "6  https://rpp.pe/futbol/copa-libertadores/ldu-qu...   \n",
       "7  https://rpp.pe/futbol/champions-league/real-ma...   \n",
       "8  https://rpp.pe/politica/gobierno/jose-jeri-sob...   \n",
       "9  https://rpp.pe/peru/la-libertad/ate-policia-de...   \n",
       "\n",
       "                    date_published  \n",
       "0  Wed, 22 Oct 2025 14:13:17 -0500  \n",
       "1  Wed, 22 Oct 2025 13:34:50 -0500  \n",
       "2  Wed, 22 Oct 2025 13:38:04 -0500  \n",
       "3  Wed, 22 Oct 2025 13:45:34 -0500  \n",
       "4  Wed, 22 Oct 2025 12:36:16 -0500  \n",
       "5  Wed, 22 Oct 2025 14:39:40 -0500  \n",
       "6  Wed, 22 Oct 2025 15:33:45 -0500  \n",
       "7  Wed, 22 Oct 2025 15:04:46 -0500  \n",
       "8  Wed, 22 Oct 2025 12:31:52 -0500  \n",
       "9  Wed, 22 Oct 2025 15:39:21 -0500  "
      ]
     },
     "metadata": {},
     "output_type": "display_data"
    }
   ],
   "source": [
    "# Try another query - sports\n",
    "query_text_sports = \"Noticias de deportes y fútbol\"\n",
    "print(f\"\\n🔍 Querying: '{query_text_sports}'\")\n",
    "\n",
    "results_sports = chroma_store.query(\n",
    "    query_texts=[query_text_sports],\n",
    "    n_results=10\n",
    ")\n",
    "\n",
    "df_results_sports = create_results_dataframe(results_sports)\n",
    "print(\"\\n📊 Sports Query Results:\")\n",
    "display(df_results_sports)"
   ]
  },
  {
   "cell_type": "code",
   "execution_count": 66,
   "metadata": {},
   "outputs": [
    {
     "name": "stdout",
     "output_type": "stream",
     "text": [
      "\n",
      "🔍 Querying: 'Noticias de política y gobierno'\n",
      "\n",
      "📊 Politics Query Results:\n",
      "\n",
      "📊 Politics Query Results:\n"
     ]
    },
    {
     "data": {
      "application/vnd.microsoft.datawrangler.viewer.v0+json": {
       "columns": [
        {
         "name": "index",
         "rawType": "int64",
         "type": "integer"
        },
        {
         "name": "title",
         "rawType": "object",
         "type": "string"
        },
        {
         "name": "description",
         "rawType": "object",
         "type": "string"
        },
        {
         "name": "link",
         "rawType": "object",
         "type": "string"
        },
        {
         "name": "date_published",
         "rawType": "object",
         "type": "string"
        }
       ],
       "ref": "f5a3b504-bce7-457c-9e8a-9f4f21b7d15b",
       "rows": [
        [
         "0",
         "Gabinete de Ernesto Álvarez se presenta esta tarde ante el Pleno del Congreso para solicitar el voto de confianza",
         "El premier Ernesto Álvarez solicitó presentarse este miércoles 22 de octubre a fin de exponer las políticas del Gobierno y plantear la cuestión de confianza al Gabinete.",
         "https://rpp.pe/politica/gobierno/gabinete-de-ernesto-alvarez-se-presenta-ante-el-pleno-del-congreso-esta-tarde-para-solicitar-el-voto-de-confianza-live-3014",
         "Wed, 22 Oct 2025 15:37:36 -0500"
        ],
        [
         "1",
         "José Jerí sobre estado de emergencia: \"Las decisiones se toman pensando en el bien de la mayoría, aunque a algunos no les guste\"",
         "Durante la ceremonia por el aniversario de la Dirección de Seguridad del Estado, el presidente José Jerí respaldó el accionar policial en el marco del estado de emergencia en Lima y Callao, que restringe derechos constitucionales por un periodo de 30 días.",
         "https://rpp.pe/politica/gobierno/jose-jeri-sobre-estado-de-emergencia-las-decisiones-se-toman-pensando-en-el-bien-de-la-mayoria-aunque-a-algunos-no-les-guste-noticia-1660478",
         "Wed, 22 Oct 2025 12:31:52 -0500"
        ],
        [
         "2",
         "TC respalda al JNE y suspende fallos judiciales que ordenaban inscribir al partido Unidad Popular",
         "El Poder Judicial había ordenado al Jurado Nacional de Elecciones reconocer la inscripción provisional de Unidad Popular, partido político de Duberlí Rodríguez para su participación en las Elecciones Generales 2026.",
         "https://rpp.pe/politica/elecciones/tc-respalda-al-jne-y-suspende-fallos-judiciales-que-ordenaban-inscribir-al-partido-unidad-popular-noticia-1660467",
         "Wed, 22 Oct 2025 12:08:58 -0500"
        ],
        [
         "3",
         "Álvarez dice que posible ampliación del Reinfo sería \"un incentivo para los mineros ilegales\"",
         "El jefe del Gabinete Ministerial indicó que el Gobierno de José Jerí debe dejar las bases para que la siguiente gestión reorganice la minería.",
         "https://rpp.pe/politica/gobierno/alvarez-sobre-posible-ampliacion-del-reinfo-seria-un-incentivo-para-los-mineros-ilegales-noticia-1660501",
         "Wed, 22 Oct 2025 14:08:40 -0500"
        ],
        [
         "4",
         "¿Será necesario prorrogar el estado de emergencia? Esto opina el alcalde de La Victoria",
         "En Ampliación de Noticias, Rubén Cano consideró que la declaratoria de estado de emergencia en Lima y Callao era \"impostergable\" ante los altos índices de criminalidad.",
         "https://rpp.pe/lima/seguridad/estado-de-emergencia-esto-opina-el-alcalde-de-la-victoria-noticia-1660457",
         "Wed, 22 Oct 2025 13:34:50 -0500"
        ],
        [
         "5",
         "Sentencian a 21 años de prisión a sicario venezolano que asesinó a un obrero en Comas",
         "El asesino pudo ser identificado, en parte, gracias a la participación de un testigo protegido durante el proceso, informó el Ministerio Público.",
         "https://rpp.pe/lima/policiales/comas-sentencian-a-21-anos-a-sicario-venezolano-que-asesino-a-obrero-noticia-1660510",
         "Wed, 22 Oct 2025 14:50:19 -0500"
        ],
        [
         "6",
         "Abogada de Susana Villarán pide que se aplique el mismo criterio del TC para anular acusación por lavado de activos",
         "Además, Merly Edquen, abogada de la exalcaldesa de Lima Susana Villarán, informó que se encuentran a la expectativa de la decisión que tome el Poder Judicial ante el pedido del fiscal José Domingo Pérez para que se suspenda el juicio contra su patrocinada.",
         "https://rpp.pe/politica/judiciales/abogada-de-susana-villaran-pide-que-se-aplique-el-mismo-criterio-del-tc-para-anular-acusacion-por-lavado-de-activos-noticia-1660491",
         "Wed, 22 Oct 2025 13:40:26 -0500"
        ],
        [
         "7",
         "Ate: Policía detiene a un hombre por presuntamente realizar propuestas sexuales a una niña de 11 años",
         "El hombre de 29 años fue arrestado en su propia su casa esta madrugada. Según el coronel Johnny Huaman, jefe de Divincri, se investiga que esta persona supuestamente tenga en su poder material de pornografía infantil.",
         "https://rpp.pe/peru/la-libertad/ate-policia-detiene-a-un-hombre-por-presuntamente-realizar-propuestas-sexuales-a-una-nina-de-11-anos-noticia-1660509",
         "Wed, 22 Oct 2025 15:39:21 -0500"
        ],
        [
         "8",
         "Tragedia en Venezuela: dos personas mueren tras fallido despegue de avioneta [VIDEO]",
         "Dos personas perdieron la vida este miércoles cuando una avioneta se precipitó a tierra en el momento en el que despegaba de un aeropuerto en el estado Táchira, en el oeste de Venezuela.",
         "https://rpp.pe/mundo/venezuela/tragedia-en-venezuela-dos-personas-mueren-tras-fallido-despegue-de-avioneta-noticia-1660479",
         "Wed, 22 Oct 2025 12:36:16 -0500"
        ],
        [
         "9",
         "'Tunche' Rivera: \"Vamos a salir con todo ante Sporting Cristal, no nos vamos a guardar nada\"",
         "El delantero de Universitario apuntó que buscarán el triunfo ante Sporting Cristal para dar un paso más hacia el tricampeonato nacional.",
         "https://rpp.pe/futbol/descentralizado/universitario-vs-sporting-cristal-tunche-rivera-vamos-a-salir-con-todo-no-nos-guardaremos-nada-liga-1-noticia-1660495",
         "Wed, 22 Oct 2025 14:13:17 -0500"
        ]
       ],
       "shape": {
        "columns": 4,
        "rows": 10
       }
      },
      "text/html": [
       "<div>\n",
       "<style scoped>\n",
       "    .dataframe tbody tr th:only-of-type {\n",
       "        vertical-align: middle;\n",
       "    }\n",
       "\n",
       "    .dataframe tbody tr th {\n",
       "        vertical-align: top;\n",
       "    }\n",
       "\n",
       "    .dataframe thead th {\n",
       "        text-align: right;\n",
       "    }\n",
       "</style>\n",
       "<table border=\"1\" class=\"dataframe\">\n",
       "  <thead>\n",
       "    <tr style=\"text-align: right;\">\n",
       "      <th></th>\n",
       "      <th>title</th>\n",
       "      <th>description</th>\n",
       "      <th>link</th>\n",
       "      <th>date_published</th>\n",
       "    </tr>\n",
       "  </thead>\n",
       "  <tbody>\n",
       "    <tr>\n",
       "      <th>0</th>\n",
       "      <td>Gabinete de Ernesto Álvarez se presenta esta t...</td>\n",
       "      <td>El premier Ernesto Álvarez solicitó presentars...</td>\n",
       "      <td>https://rpp.pe/politica/gobierno/gabinete-de-e...</td>\n",
       "      <td>Wed, 22 Oct 2025 15:37:36 -0500</td>\n",
       "    </tr>\n",
       "    <tr>\n",
       "      <th>1</th>\n",
       "      <td>José Jerí sobre estado de emergencia: \"Las dec...</td>\n",
       "      <td>Durante la ceremonia por el aniversario de la ...</td>\n",
       "      <td>https://rpp.pe/politica/gobierno/jose-jeri-sob...</td>\n",
       "      <td>Wed, 22 Oct 2025 12:31:52 -0500</td>\n",
       "    </tr>\n",
       "    <tr>\n",
       "      <th>2</th>\n",
       "      <td>TC respalda al JNE y suspende fallos judiciale...</td>\n",
       "      <td>El Poder Judicial había ordenado al Jurado Nac...</td>\n",
       "      <td>https://rpp.pe/politica/elecciones/tc-respalda...</td>\n",
       "      <td>Wed, 22 Oct 2025 12:08:58 -0500</td>\n",
       "    </tr>\n",
       "    <tr>\n",
       "      <th>3</th>\n",
       "      <td>Álvarez dice que posible ampliación del Reinfo...</td>\n",
       "      <td>El jefe del Gabinete Ministerial indicó que el...</td>\n",
       "      <td>https://rpp.pe/politica/gobierno/alvarez-sobre...</td>\n",
       "      <td>Wed, 22 Oct 2025 14:08:40 -0500</td>\n",
       "    </tr>\n",
       "    <tr>\n",
       "      <th>4</th>\n",
       "      <td>¿Será necesario prorrogar el estado de emergen...</td>\n",
       "      <td>En Ampliación de Noticias, Rubén Cano consider...</td>\n",
       "      <td>https://rpp.pe/lima/seguridad/estado-de-emerge...</td>\n",
       "      <td>Wed, 22 Oct 2025 13:34:50 -0500</td>\n",
       "    </tr>\n",
       "    <tr>\n",
       "      <th>5</th>\n",
       "      <td>Sentencian a 21 años de prisión a sicario vene...</td>\n",
       "      <td>El asesino pudo ser identificado, en parte, gr...</td>\n",
       "      <td>https://rpp.pe/lima/policiales/comas-sentencia...</td>\n",
       "      <td>Wed, 22 Oct 2025 14:50:19 -0500</td>\n",
       "    </tr>\n",
       "    <tr>\n",
       "      <th>6</th>\n",
       "      <td>Abogada de Susana Villarán pide que se aplique...</td>\n",
       "      <td>Además, Merly Edquen, abogada de la exalcaldes...</td>\n",
       "      <td>https://rpp.pe/politica/judiciales/abogada-de-...</td>\n",
       "      <td>Wed, 22 Oct 2025 13:40:26 -0500</td>\n",
       "    </tr>\n",
       "    <tr>\n",
       "      <th>7</th>\n",
       "      <td>Ate: Policía detiene a un hombre por presuntam...</td>\n",
       "      <td>El hombre de 29 años fue arrestado en su propi...</td>\n",
       "      <td>https://rpp.pe/peru/la-libertad/ate-policia-de...</td>\n",
       "      <td>Wed, 22 Oct 2025 15:39:21 -0500</td>\n",
       "    </tr>\n",
       "    <tr>\n",
       "      <th>8</th>\n",
       "      <td>Tragedia en Venezuela: dos personas mueren tra...</td>\n",
       "      <td>Dos personas perdieron la vida este miércoles ...</td>\n",
       "      <td>https://rpp.pe/mundo/venezuela/tragedia-en-ven...</td>\n",
       "      <td>Wed, 22 Oct 2025 12:36:16 -0500</td>\n",
       "    </tr>\n",
       "    <tr>\n",
       "      <th>9</th>\n",
       "      <td>'Tunche' Rivera: \"Vamos a salir con todo ante ...</td>\n",
       "      <td>El delantero de Universitario apuntó que busca...</td>\n",
       "      <td>https://rpp.pe/futbol/descentralizado/universi...</td>\n",
       "      <td>Wed, 22 Oct 2025 14:13:17 -0500</td>\n",
       "    </tr>\n",
       "  </tbody>\n",
       "</table>\n",
       "</div>"
      ],
      "text/plain": [
       "                                               title  \\\n",
       "0  Gabinete de Ernesto Álvarez se presenta esta t...   \n",
       "1  José Jerí sobre estado de emergencia: \"Las dec...   \n",
       "2  TC respalda al JNE y suspende fallos judiciale...   \n",
       "3  Álvarez dice que posible ampliación del Reinfo...   \n",
       "4  ¿Será necesario prorrogar el estado de emergen...   \n",
       "5  Sentencian a 21 años de prisión a sicario vene...   \n",
       "6  Abogada de Susana Villarán pide que se aplique...   \n",
       "7  Ate: Policía detiene a un hombre por presuntam...   \n",
       "8  Tragedia en Venezuela: dos personas mueren tra...   \n",
       "9  'Tunche' Rivera: \"Vamos a salir con todo ante ...   \n",
       "\n",
       "                                         description  \\\n",
       "0  El premier Ernesto Álvarez solicitó presentars...   \n",
       "1  Durante la ceremonia por el aniversario de la ...   \n",
       "2  El Poder Judicial había ordenado al Jurado Nac...   \n",
       "3  El jefe del Gabinete Ministerial indicó que el...   \n",
       "4  En Ampliación de Noticias, Rubén Cano consider...   \n",
       "5  El asesino pudo ser identificado, en parte, gr...   \n",
       "6  Además, Merly Edquen, abogada de la exalcaldes...   \n",
       "7  El hombre de 29 años fue arrestado en su propi...   \n",
       "8  Dos personas perdieron la vida este miércoles ...   \n",
       "9  El delantero de Universitario apuntó que busca...   \n",
       "\n",
       "                                                link  \\\n",
       "0  https://rpp.pe/politica/gobierno/gabinete-de-e...   \n",
       "1  https://rpp.pe/politica/gobierno/jose-jeri-sob...   \n",
       "2  https://rpp.pe/politica/elecciones/tc-respalda...   \n",
       "3  https://rpp.pe/politica/gobierno/alvarez-sobre...   \n",
       "4  https://rpp.pe/lima/seguridad/estado-de-emerge...   \n",
       "5  https://rpp.pe/lima/policiales/comas-sentencia...   \n",
       "6  https://rpp.pe/politica/judiciales/abogada-de-...   \n",
       "7  https://rpp.pe/peru/la-libertad/ate-policia-de...   \n",
       "8  https://rpp.pe/mundo/venezuela/tragedia-en-ven...   \n",
       "9  https://rpp.pe/futbol/descentralizado/universi...   \n",
       "\n",
       "                    date_published  \n",
       "0  Wed, 22 Oct 2025 15:37:36 -0500  \n",
       "1  Wed, 22 Oct 2025 12:31:52 -0500  \n",
       "2  Wed, 22 Oct 2025 12:08:58 -0500  \n",
       "3  Wed, 22 Oct 2025 14:08:40 -0500  \n",
       "4  Wed, 22 Oct 2025 13:34:50 -0500  \n",
       "5  Wed, 22 Oct 2025 14:50:19 -0500  \n",
       "6  Wed, 22 Oct 2025 13:40:26 -0500  \n",
       "7  Wed, 22 Oct 2025 15:39:21 -0500  \n",
       "8  Wed, 22 Oct 2025 12:36:16 -0500  \n",
       "9  Wed, 22 Oct 2025 14:13:17 -0500  "
      ]
     },
     "metadata": {},
     "output_type": "display_data"
    }
   ],
   "source": [
    "# Try another query - politics\n",
    "query_text_politics = \"Noticias de política y gobierno\"\n",
    "print(f\"\\n🔍 Querying: '{query_text_politics}'\")\n",
    "\n",
    "results_politics = chroma_store.query(\n",
    "    query_texts=[query_text_politics],\n",
    "    n_results=10\n",
    ")\n",
    "\n",
    "df_results_politics = create_results_dataframe(results_politics)\n",
    "print(\"\\n📊 Politics Query Results:\")\n",
    "display(df_results_politics)"
   ]
  },
  {
   "cell_type": "markdown",
   "metadata": {},
   "source": [
    "## Step 5️⃣: LangChain Orchestration Pipeline\n",
    "\n",
    "Implement the complete end-to-end pipeline using LangChain.\n",
    "\n",
    "**Requirements:**\n",
    "- End-to-end pipeline: Load RSS → Tokenize → Embed → Store → Retrieve\n",
    "- Each step should be modular (functions or LangChain chains)\n",
    "- Demonstrate complete pipeline execution with query results"
   ]
  },
  {
   "cell_type": "code",
   "execution_count": 67,
   "metadata": {},
   "outputs": [
    {
     "name": "stdout",
     "output_type": "stream",
     "text": [
      "🔗 Initializing LangChain Pipeline...\n"
     ]
    },
    {
     "name": "stderr",
     "output_type": "stream",
     "text": [
      "/Users/gabrielsaco/anaconda3/envs/rpp/lib/python3.11/site-packages/huggingface_hub/file_download.py:945: FutureWarning: `resume_download` is deprecated and will be removed in version 1.0.0. Downloads always resume when possible. If you want to force a new download, use `force_download=True`.\n",
      "  warnings.warn(\n"
     ]
    },
    {
     "name": "stdout",
     "output_type": "stream",
     "text": [
      "✅ LangChain pipeline initialized!\n"
     ]
    }
   ],
   "source": [
    "# Initialize LangChain pipeline\n",
    "print(\"🔗 Initializing LangChain Pipeline...\")\n",
    "langchain_pipeline = NewsRetrievalPipeline(\n",
    "    model_name=\"sentence-transformers/all-MiniLM-L6-v2\",\n",
    "    persist_directory=\"../chroma_db\"\n",
    ")\n",
    "print(\"✅ LangChain pipeline initialized!\")"
   ]
  },
  {
   "cell_type": "code",
   "execution_count": 68,
   "metadata": {},
   "outputs": [
    {
     "name": "stdout",
     "output_type": "stream",
     "text": [
      "\n",
      "📡 Loading fresh RSS feed...\n",
      "✅ Loaded 50 fresh news items\n",
      "✅ Loaded 50 fresh news items\n"
     ]
    }
   ],
   "source": [
    "# Load fresh RSS feed for LangChain demo\n",
    "print(\"\\n📡 Loading fresh RSS feed...\")\n",
    "fresh_news = load_rss_feed(url=\"https://rpp.pe/rss\", max_items=50)\n",
    "print(f\"✅ Loaded {len(fresh_news)} fresh news items\")"
   ]
  },
  {
   "cell_type": "code",
   "execution_count": 69,
   "metadata": {},
   "outputs": [
    {
     "name": "stdout",
     "output_type": "stream",
     "text": [
      "\n",
      "🔄 Step 1: Loading and processing documents...\n",
      "✅ Created 50 LangChain documents\n",
      "   Sample document content: Revisa el link oficial del retiro AFP 2025 para registrar tu solicitud de desembolso. La solicitud e...\n",
      "   Sample metadata: {'title': 'Revisa el link oficial del retiro AFP 2025 para registrar tu solicitud de desembolso', 'link': 'https://rpp.pe/economia/economia/retiro-afp-2025-link-oficial-para-registrar-tu-solicitud-y-pasos-para-solicitar-desembolso-4-uit-de-fondos-noticia-1660126', 'published': 'Wed, 22 Oct 2025 15:45:08 -0500', 'description': 'La solicitud es gratuita y 100 % digital, mediante los portales oficiales de cada AFP. Evita enlaces no verificados para prevenir intentos de fraude.'}\n"
     ]
    }
   ],
   "source": [
    "# Step 1: Load and Process with LangChain\n",
    "print(\"\\n🔄 Step 1: Loading and processing documents...\")\n",
    "documents = langchain_pipeline.load_and_process(fresh_news)\n",
    "print(f\"✅ Created {len(documents)} LangChain documents\")\n",
    "print(f\"   Sample document content: {documents[0].page_content[:100]}...\")\n",
    "print(f\"   Sample metadata: {documents[0].metadata}\")"
   ]
  },
  {
   "cell_type": "code",
   "execution_count": 70,
   "metadata": {},
   "outputs": [
    {
     "name": "stderr",
     "output_type": "stream",
     "text": [
      "Failed to send telemetry event ClientStartEvent: capture() takes 1 positional argument but 3 were given\n",
      "Failed to send telemetry event ClientCreateCollectionEvent: capture() takes 1 positional argument but 3 were given\n",
      "Failed to send telemetry event ClientCreateCollectionEvent: capture() takes 1 positional argument but 3 were given\n"
     ]
    },
    {
     "name": "stdout",
     "output_type": "stream",
     "text": [
      "\n",
      "🔄 Step 2: Creating vector store...\n"
     ]
    },
    {
     "ename": "OperationalError",
     "evalue": "attempt to write a readonly database",
     "output_type": "error",
     "traceback": [
      "\u001b[31m---------------------------------------------------------------------------\u001b[39m",
      "\u001b[31mOperationalError\u001b[39m                          Traceback (most recent call last)",
      "\u001b[36mCell\u001b[39m\u001b[36m \u001b[39m\u001b[32mIn[70]\u001b[39m\u001b[32m, line 3\u001b[39m\n\u001b[32m      1\u001b[39m \u001b[38;5;66;03m# Step 2: Create Vector Store\u001b[39;00m\n\u001b[32m      2\u001b[39m \u001b[38;5;28mprint\u001b[39m(\u001b[33m\"\u001b[39m\u001b[38;5;130;01m\\n\u001b[39;00m\u001b[33m🔄 Step 2: Creating vector store...\u001b[39m\u001b[33m\"\u001b[39m)\n\u001b[32m----> \u001b[39m\u001b[32m3\u001b[39m \u001b[43mlangchain_pipeline\u001b[49m\u001b[43m.\u001b[49m\u001b[43mcreate_vectorstore\u001b[49m\u001b[43m(\u001b[49m\u001b[43mdocuments\u001b[49m\u001b[43m)\u001b[49m\n\u001b[32m      4\u001b[39m \u001b[38;5;28mprint\u001b[39m(\u001b[33m\"\u001b[39m\u001b[33m✅ Vector store created!\u001b[39m\u001b[33m\"\u001b[39m)\n",
      "\u001b[36mFile \u001b[39m\u001b[32m~/Documents/GitHub/news-query_RPP-lab/notebooks/../src/langchain_pipeline.py:69\u001b[39m, in \u001b[36mNewsRetrievalPipeline.create_vectorstore\u001b[39m\u001b[34m(self, documents)\u001b[39m\n\u001b[32m     62\u001b[39m \u001b[38;5;28;01mdef\u001b[39;00m\u001b[38;5;250m \u001b[39m\u001b[34mcreate_vectorstore\u001b[39m(\u001b[38;5;28mself\u001b[39m, documents: List[Document]):\n\u001b[32m     63\u001b[39m \u001b[38;5;250m    \u001b[39m\u001b[33;03m\"\"\"\u001b[39;00m\n\u001b[32m     64\u001b[39m \u001b[33;03m    Create or update the vector store\u001b[39;00m\n\u001b[32m     65\u001b[39m \u001b[33;03m    \u001b[39;00m\n\u001b[32m     66\u001b[39m \u001b[33;03m    Args:\u001b[39;00m\n\u001b[32m     67\u001b[39m \u001b[33;03m        documents: List of LangChain documents\u001b[39;00m\n\u001b[32m     68\u001b[39m \u001b[33;03m    \"\"\"\u001b[39;00m\n\u001b[32m---> \u001b[39m\u001b[32m69\u001b[39m     \u001b[38;5;28mself\u001b[39m.vectorstore = \u001b[43mChroma\u001b[49m\u001b[43m.\u001b[49m\u001b[43mfrom_documents\u001b[49m\u001b[43m(\u001b[49m\n\u001b[32m     70\u001b[39m \u001b[43m        \u001b[49m\u001b[43mdocuments\u001b[49m\u001b[43m=\u001b[49m\u001b[43mdocuments\u001b[49m\u001b[43m,\u001b[49m\n\u001b[32m     71\u001b[39m \u001b[43m        \u001b[49m\u001b[43membedding\u001b[49m\u001b[43m=\u001b[49m\u001b[38;5;28;43mself\u001b[39;49m\u001b[43m.\u001b[49m\u001b[43membeddings\u001b[49m\u001b[43m,\u001b[49m\n\u001b[32m     72\u001b[39m \u001b[43m        \u001b[49m\u001b[43mpersist_directory\u001b[49m\u001b[43m=\u001b[49m\u001b[38;5;28;43mself\u001b[39;49m\u001b[43m.\u001b[49m\u001b[43mpersist_directory\u001b[49m\u001b[43m,\u001b[49m\n\u001b[32m     73\u001b[39m \u001b[43m        \u001b[49m\u001b[43mcollection_name\u001b[49m\u001b[43m=\u001b[49m\u001b[33;43m\"\u001b[39;49m\u001b[33;43mrpp_news_langchain\u001b[39;49m\u001b[33;43m\"\u001b[39;49m\n\u001b[32m     74\u001b[39m \u001b[43m    \u001b[49m\u001b[43m)\u001b[49m\n",
      "\u001b[36mFile \u001b[39m\u001b[32m~/anaconda3/envs/rpp/lib/python3.11/site-packages/langchain_community/vectorstores/chroma.py:778\u001b[39m, in \u001b[36mChroma.from_documents\u001b[39m\u001b[34m(cls, documents, embedding, ids, collection_name, persist_directory, client_settings, client, collection_metadata, **kwargs)\u001b[39m\n\u001b[32m    776\u001b[39m texts = [doc.page_content \u001b[38;5;28;01mfor\u001b[39;00m doc \u001b[38;5;129;01min\u001b[39;00m documents]\n\u001b[32m    777\u001b[39m metadatas = [doc.metadata \u001b[38;5;28;01mfor\u001b[39;00m doc \u001b[38;5;129;01min\u001b[39;00m documents]\n\u001b[32m--> \u001b[39m\u001b[32m778\u001b[39m \u001b[38;5;28;01mreturn\u001b[39;00m \u001b[38;5;28;43mcls\u001b[39;49m\u001b[43m.\u001b[49m\u001b[43mfrom_texts\u001b[49m\u001b[43m(\u001b[49m\n\u001b[32m    779\u001b[39m \u001b[43m    \u001b[49m\u001b[43mtexts\u001b[49m\u001b[43m=\u001b[49m\u001b[43mtexts\u001b[49m\u001b[43m,\u001b[49m\n\u001b[32m    780\u001b[39m \u001b[43m    \u001b[49m\u001b[43membedding\u001b[49m\u001b[43m=\u001b[49m\u001b[43membedding\u001b[49m\u001b[43m,\u001b[49m\n\u001b[32m    781\u001b[39m \u001b[43m    \u001b[49m\u001b[43mmetadatas\u001b[49m\u001b[43m=\u001b[49m\u001b[43mmetadatas\u001b[49m\u001b[43m,\u001b[49m\n\u001b[32m    782\u001b[39m \u001b[43m    \u001b[49m\u001b[43mids\u001b[49m\u001b[43m=\u001b[49m\u001b[43mids\u001b[49m\u001b[43m,\u001b[49m\n\u001b[32m    783\u001b[39m \u001b[43m    \u001b[49m\u001b[43mcollection_name\u001b[49m\u001b[43m=\u001b[49m\u001b[43mcollection_name\u001b[49m\u001b[43m,\u001b[49m\n\u001b[32m    784\u001b[39m \u001b[43m    \u001b[49m\u001b[43mpersist_directory\u001b[49m\u001b[43m=\u001b[49m\u001b[43mpersist_directory\u001b[49m\u001b[43m,\u001b[49m\n\u001b[32m    785\u001b[39m \u001b[43m    \u001b[49m\u001b[43mclient_settings\u001b[49m\u001b[43m=\u001b[49m\u001b[43mclient_settings\u001b[49m\u001b[43m,\u001b[49m\n\u001b[32m    786\u001b[39m \u001b[43m    \u001b[49m\u001b[43mclient\u001b[49m\u001b[43m=\u001b[49m\u001b[43mclient\u001b[49m\u001b[43m,\u001b[49m\n\u001b[32m    787\u001b[39m \u001b[43m    \u001b[49m\u001b[43mcollection_metadata\u001b[49m\u001b[43m=\u001b[49m\u001b[43mcollection_metadata\u001b[49m\u001b[43m,\u001b[49m\n\u001b[32m    788\u001b[39m \u001b[43m    \u001b[49m\u001b[43m*\u001b[49m\u001b[43m*\u001b[49m\u001b[43mkwargs\u001b[49m\u001b[43m,\u001b[49m\n\u001b[32m    789\u001b[39m \u001b[43m\u001b[49m\u001b[43m)\u001b[49m\n",
      "\u001b[36mFile \u001b[39m\u001b[32m~/anaconda3/envs/rpp/lib/python3.11/site-packages/langchain_community/vectorstores/chroma.py:736\u001b[39m, in \u001b[36mChroma.from_texts\u001b[39m\u001b[34m(cls, texts, embedding, metadatas, ids, collection_name, persist_directory, client_settings, client, collection_metadata, **kwargs)\u001b[39m\n\u001b[32m    728\u001b[39m     \u001b[38;5;28;01mfrom\u001b[39;00m\u001b[38;5;250m \u001b[39m\u001b[34;01mchromadb\u001b[39;00m\u001b[34;01m.\u001b[39;00m\u001b[34;01mutils\u001b[39;00m\u001b[34;01m.\u001b[39;00m\u001b[34;01mbatch_utils\u001b[39;00m\u001b[38;5;250m \u001b[39m\u001b[38;5;28;01mimport\u001b[39;00m create_batches\n\u001b[32m    730\u001b[39m     \u001b[38;5;28;01mfor\u001b[39;00m batch \u001b[38;5;129;01min\u001b[39;00m create_batches(\n\u001b[32m    731\u001b[39m         api=chroma_collection._client,\n\u001b[32m    732\u001b[39m         ids=ids,\n\u001b[32m    733\u001b[39m         metadatas=metadatas,\n\u001b[32m    734\u001b[39m         documents=texts,\n\u001b[32m    735\u001b[39m     ):\n\u001b[32m--> \u001b[39m\u001b[32m736\u001b[39m         \u001b[43mchroma_collection\u001b[49m\u001b[43m.\u001b[49m\u001b[43madd_texts\u001b[49m\u001b[43m(\u001b[49m\n\u001b[32m    737\u001b[39m \u001b[43m            \u001b[49m\u001b[43mtexts\u001b[49m\u001b[43m=\u001b[49m\u001b[43mbatch\u001b[49m\u001b[43m[\u001b[49m\u001b[32;43m3\u001b[39;49m\u001b[43m]\u001b[49m\u001b[43m \u001b[49m\u001b[38;5;28;43;01mif\u001b[39;49;00m\u001b[43m \u001b[49m\u001b[43mbatch\u001b[49m\u001b[43m[\u001b[49m\u001b[32;43m3\u001b[39;49m\u001b[43m]\u001b[49m\u001b[43m \u001b[49m\u001b[38;5;28;43;01melse\u001b[39;49;00m\u001b[43m \u001b[49m\u001b[43m[\u001b[49m\u001b[43m]\u001b[49m\u001b[43m,\u001b[49m\n\u001b[32m    738\u001b[39m \u001b[43m            \u001b[49m\u001b[43mmetadatas\u001b[49m\u001b[43m=\u001b[49m\u001b[43mbatch\u001b[49m\u001b[43m[\u001b[49m\u001b[32;43m2\u001b[39;49m\u001b[43m]\u001b[49m\u001b[43m \u001b[49m\u001b[38;5;28;43;01mif\u001b[39;49;00m\u001b[43m \u001b[49m\u001b[43mbatch\u001b[49m\u001b[43m[\u001b[49m\u001b[32;43m2\u001b[39;49m\u001b[43m]\u001b[49m\u001b[43m \u001b[49m\u001b[38;5;28;43;01melse\u001b[39;49;00m\u001b[43m \u001b[49m\u001b[38;5;28;43;01mNone\u001b[39;49;00m\u001b[43m,\u001b[49m\n\u001b[32m    739\u001b[39m \u001b[43m            \u001b[49m\u001b[43mids\u001b[49m\u001b[43m=\u001b[49m\u001b[43mbatch\u001b[49m\u001b[43m[\u001b[49m\u001b[32;43m0\u001b[39;49m\u001b[43m]\u001b[49m\u001b[43m,\u001b[49m\n\u001b[32m    740\u001b[39m \u001b[43m        \u001b[49m\u001b[43m)\u001b[49m\n\u001b[32m    741\u001b[39m \u001b[38;5;28;01melse\u001b[39;00m:\n\u001b[32m    742\u001b[39m     chroma_collection.add_texts(texts=texts, metadatas=metadatas, ids=ids)\n",
      "\u001b[36mFile \u001b[39m\u001b[32m~/anaconda3/envs/rpp/lib/python3.11/site-packages/langchain_community/vectorstores/chroma.py:297\u001b[39m, in \u001b[36mChroma.add_texts\u001b[39m\u001b[34m(self, texts, metadatas, ids, **kwargs)\u001b[39m\n\u001b[32m    295\u001b[39m ids_with_metadata = [ids[idx] \u001b[38;5;28;01mfor\u001b[39;00m idx \u001b[38;5;129;01min\u001b[39;00m non_empty_ids]\n\u001b[32m    296\u001b[39m \u001b[38;5;28;01mtry\u001b[39;00m:\n\u001b[32m--> \u001b[39m\u001b[32m297\u001b[39m     \u001b[38;5;28;43mself\u001b[39;49m\u001b[43m.\u001b[49m\u001b[43m_collection\u001b[49m\u001b[43m.\u001b[49m\u001b[43mupsert\u001b[49m\u001b[43m(\u001b[49m\n\u001b[32m    298\u001b[39m \u001b[43m        \u001b[49m\u001b[43mmetadatas\u001b[49m\u001b[43m=\u001b[49m\u001b[43mmetadatas\u001b[49m\u001b[43m,\u001b[49m\n\u001b[32m    299\u001b[39m \u001b[43m        \u001b[49m\u001b[43membeddings\u001b[49m\u001b[43m=\u001b[49m\u001b[43membeddings_with_metadatas\u001b[49m\u001b[43m,\u001b[49m\n\u001b[32m    300\u001b[39m \u001b[43m        \u001b[49m\u001b[43mdocuments\u001b[49m\u001b[43m=\u001b[49m\u001b[43mtexts_with_metadatas\u001b[49m\u001b[43m,\u001b[49m\n\u001b[32m    301\u001b[39m \u001b[43m        \u001b[49m\u001b[43mids\u001b[49m\u001b[43m=\u001b[49m\u001b[43mids_with_metadata\u001b[49m\u001b[43m,\u001b[49m\n\u001b[32m    302\u001b[39m \u001b[43m    \u001b[49m\u001b[43m)\u001b[49m\n\u001b[32m    303\u001b[39m \u001b[38;5;28;01mexcept\u001b[39;00m \u001b[38;5;167;01mValueError\u001b[39;00m \u001b[38;5;28;01mas\u001b[39;00m e:\n\u001b[32m    304\u001b[39m     \u001b[38;5;28;01mif\u001b[39;00m \u001b[33m\"\u001b[39m\u001b[33mExpected metadata value to be\u001b[39m\u001b[33m\"\u001b[39m \u001b[38;5;129;01min\u001b[39;00m \u001b[38;5;28mstr\u001b[39m(e):\n",
      "\u001b[36mFile \u001b[39m\u001b[32m~/anaconda3/envs/rpp/lib/python3.11/site-packages/chromadb/api/models/Collection.py:459\u001b[39m, in \u001b[36mCollection.upsert\u001b[39m\u001b[34m(self, ids, embeddings, metadatas, documents, images, uris)\u001b[39m\n\u001b[32m    456\u001b[39m     \u001b[38;5;28;01melse\u001b[39;00m:\n\u001b[32m    457\u001b[39m         embeddings = \u001b[38;5;28mself\u001b[39m._embed(\u001b[38;5;28minput\u001b[39m=images)\n\u001b[32m--> \u001b[39m\u001b[32m459\u001b[39m \u001b[38;5;28;43mself\u001b[39;49m\u001b[43m.\u001b[49m\u001b[43m_client\u001b[49m\u001b[43m.\u001b[49m\u001b[43m_upsert\u001b[49m\u001b[43m(\u001b[49m\n\u001b[32m    460\u001b[39m \u001b[43m    \u001b[49m\u001b[43mcollection_id\u001b[49m\u001b[43m=\u001b[49m\u001b[38;5;28;43mself\u001b[39;49m\u001b[43m.\u001b[49m\u001b[43mid\u001b[49m\u001b[43m,\u001b[49m\n\u001b[32m    461\u001b[39m \u001b[43m    \u001b[49m\u001b[43mids\u001b[49m\u001b[43m=\u001b[49m\u001b[43mids\u001b[49m\u001b[43m,\u001b[49m\n\u001b[32m    462\u001b[39m \u001b[43m    \u001b[49m\u001b[43membeddings\u001b[49m\u001b[43m=\u001b[49m\u001b[43membeddings\u001b[49m\u001b[43m,\u001b[49m\n\u001b[32m    463\u001b[39m \u001b[43m    \u001b[49m\u001b[43mmetadatas\u001b[49m\u001b[43m=\u001b[49m\u001b[43mmetadatas\u001b[49m\u001b[43m,\u001b[49m\n\u001b[32m    464\u001b[39m \u001b[43m    \u001b[49m\u001b[43mdocuments\u001b[49m\u001b[43m=\u001b[49m\u001b[43mdocuments\u001b[49m\u001b[43m,\u001b[49m\n\u001b[32m    465\u001b[39m \u001b[43m    \u001b[49m\u001b[43muris\u001b[49m\u001b[43m=\u001b[49m\u001b[43muris\u001b[49m\u001b[43m,\u001b[49m\n\u001b[32m    466\u001b[39m \u001b[43m\u001b[49m\u001b[43m)\u001b[49m\n",
      "\u001b[36mFile \u001b[39m\u001b[32m~/anaconda3/envs/rpp/lib/python3.11/site-packages/chromadb/telemetry/opentelemetry/__init__.py:127\u001b[39m, in \u001b[36mtrace_method.<locals>.decorator.<locals>.wrapper\u001b[39m\u001b[34m(*args, **kwargs)\u001b[39m\n\u001b[32m    125\u001b[39m \u001b[38;5;28;01mglobal\u001b[39;00m tracer, granularity\n\u001b[32m    126\u001b[39m \u001b[38;5;28;01mif\u001b[39;00m trace_granularity < granularity:\n\u001b[32m--> \u001b[39m\u001b[32m127\u001b[39m     \u001b[38;5;28;01mreturn\u001b[39;00m \u001b[43mf\u001b[49m\u001b[43m(\u001b[49m\u001b[43m*\u001b[49m\u001b[43margs\u001b[49m\u001b[43m,\u001b[49m\u001b[43m \u001b[49m\u001b[43m*\u001b[49m\u001b[43m*\u001b[49m\u001b[43mkwargs\u001b[49m\u001b[43m)\u001b[49m\n\u001b[32m    128\u001b[39m \u001b[38;5;28;01mif\u001b[39;00m \u001b[38;5;129;01mnot\u001b[39;00m tracer:\n\u001b[32m    129\u001b[39m     \u001b[38;5;28;01mreturn\u001b[39;00m f(*args, **kwargs)\n",
      "\u001b[36mFile \u001b[39m\u001b[32m~/anaconda3/envs/rpp/lib/python3.11/site-packages/chromadb/api/segment.py:446\u001b[39m, in \u001b[36mSegmentAPI._upsert\u001b[39m\u001b[34m(self, collection_id, ids, embeddings, metadatas, documents, uris)\u001b[39m\n\u001b[32m    444\u001b[39m     \u001b[38;5;28mself\u001b[39m._validate_embedding_record(coll, r)\n\u001b[32m    445\u001b[39m     records_to_submit.append(r)\n\u001b[32m--> \u001b[39m\u001b[32m446\u001b[39m \u001b[38;5;28;43mself\u001b[39;49m\u001b[43m.\u001b[49m\u001b[43m_producer\u001b[49m\u001b[43m.\u001b[49m\u001b[43msubmit_embeddings\u001b[49m\u001b[43m(\u001b[49m\u001b[43mcoll\u001b[49m\u001b[43m[\u001b[49m\u001b[33;43m\"\u001b[39;49m\u001b[33;43mtopic\u001b[39;49m\u001b[33;43m\"\u001b[39;49m\u001b[43m]\u001b[49m\u001b[43m,\u001b[49m\u001b[43m \u001b[49m\u001b[43mrecords_to_submit\u001b[49m\u001b[43m)\u001b[49m\n\u001b[32m    448\u001b[39m \u001b[38;5;28;01mreturn\u001b[39;00m \u001b[38;5;28;01mTrue\u001b[39;00m\n",
      "\u001b[36mFile \u001b[39m\u001b[32m~/anaconda3/envs/rpp/lib/python3.11/site-packages/chromadb/telemetry/opentelemetry/__init__.py:127\u001b[39m, in \u001b[36mtrace_method.<locals>.decorator.<locals>.wrapper\u001b[39m\u001b[34m(*args, **kwargs)\u001b[39m\n\u001b[32m    125\u001b[39m \u001b[38;5;28;01mglobal\u001b[39;00m tracer, granularity\n\u001b[32m    126\u001b[39m \u001b[38;5;28;01mif\u001b[39;00m trace_granularity < granularity:\n\u001b[32m--> \u001b[39m\u001b[32m127\u001b[39m     \u001b[38;5;28;01mreturn\u001b[39;00m \u001b[43mf\u001b[49m\u001b[43m(\u001b[49m\u001b[43m*\u001b[49m\u001b[43margs\u001b[49m\u001b[43m,\u001b[49m\u001b[43m \u001b[49m\u001b[43m*\u001b[49m\u001b[43m*\u001b[49m\u001b[43mkwargs\u001b[49m\u001b[43m)\u001b[49m\n\u001b[32m    128\u001b[39m \u001b[38;5;28;01mif\u001b[39;00m \u001b[38;5;129;01mnot\u001b[39;00m tracer:\n\u001b[32m    129\u001b[39m     \u001b[38;5;28;01mreturn\u001b[39;00m f(*args, **kwargs)\n",
      "\u001b[36mFile \u001b[39m\u001b[32m~/anaconda3/envs/rpp/lib/python3.11/site-packages/chromadb/db/mixins/embeddings_queue.py:172\u001b[39m, in \u001b[36mSqlEmbeddingsQueue.submit_embeddings\u001b[39m\u001b[34m(self, topic_name, embeddings)\u001b[39m\n\u001b[32m    169\u001b[39m \u001b[38;5;66;03m# The returning clause does not guarantee order, so we need to do reorder\u001b[39;00m\n\u001b[32m    170\u001b[39m \u001b[38;5;66;03m# the results. https://www.sqlite.org/lang_returning.html\u001b[39;00m\n\u001b[32m    171\u001b[39m sql = \u001b[33mf\u001b[39m\u001b[33m\"\u001b[39m\u001b[38;5;132;01m{\u001b[39;00msql\u001b[38;5;132;01m}\u001b[39;00m\u001b[33m RETURNING seq_id, id\u001b[39m\u001b[33m\"\u001b[39m  \u001b[38;5;66;03m# Pypika doesn't support RETURNING\u001b[39;00m\n\u001b[32m--> \u001b[39m\u001b[32m172\u001b[39m results = cur.execute(sql, params).fetchall()\n\u001b[32m    173\u001b[39m \u001b[38;5;66;03m# Reorder the results\u001b[39;00m\n\u001b[32m    174\u001b[39m seq_ids = [cast(SeqId, \u001b[38;5;28;01mNone\u001b[39;00m)] * \u001b[38;5;28mlen\u001b[39m(\n\u001b[32m    175\u001b[39m     results\n\u001b[32m    176\u001b[39m )  \u001b[38;5;66;03m# Lie to mypy: https://stackoverflow.com/questions/76694215/python-type-casting-when-preallocating-list\u001b[39;00m\n",
      "\u001b[31mOperationalError\u001b[39m: attempt to write a readonly database"
     ]
    }
   ],
   "source": [
    "# Step 2: Create Vector Store\n",
    "print(\"\\n🔄 Step 2: Creating vector store...\")\n",
    "langchain_pipeline.create_vectorstore(documents)\n",
    "print(\"✅ Vector store created!\")"
   ]
  },
  {
   "cell_type": "code",
   "execution_count": null,
   "metadata": {},
   "outputs": [
    {
     "name": "stdout",
     "output_type": "stream",
     "text": [
      "\n",
      "🔄 Step 3: Querying vector store...\n"
     ]
    },
    {
     "name": "stderr",
     "output_type": "stream",
     "text": [
      "Failed to send telemetry event CollectionQueryEvent: capture() takes 1 positional argument but 3 were given\n"
     ]
    },
    {
     "name": "stdout",
     "output_type": "stream",
     "text": [
      "\n",
      "📊 LangChain Query Results for: 'Últimas noticias de economía'\n"
     ]
    },
    {
     "data": {
      "application/vnd.microsoft.datawrangler.viewer.v0+json": {
       "columns": [
        {
         "name": "index",
         "rawType": "int64",
         "type": "integer"
        },
        {
         "name": "title",
         "rawType": "object",
         "type": "string"
        },
        {
         "name": "description",
         "rawType": "object",
         "type": "string"
        },
        {
         "name": "link",
         "rawType": "object",
         "type": "string"
        },
        {
         "name": "date_published",
         "rawType": "object",
         "type": "string"
        }
       ],
       "ref": "955df4a6-4613-4f9d-9615-95f7f5759b91",
       "rows": [
        [
         "0",
         "Consejo Fiscal pide que el TC revise las más de 200 leyes aprobadas por el Congreso que comprometen la estabilidad fiscal",
         "Alonso Segura alerta sobre la \"avalancha enorme\" de gasto, cifrada en S/ 36,000 millones, y advierte que el país podría perder el grado de inversión si no se detiene la trayectoria actual.",
         "https://rpp.pe/economia/economia/consejo-fiscal-pide-que-el-tc-revise-las-mas-de-200-leyes-aprobadas-por-el-congreso-que-comprometen-la-estabilidad-fiscal-noticia-1660497",
         "Wed, 22 Oct 2025 10:15:26 -0500"
        ],
        [
         "1",
         "José Jerí sobre estado de emergencia: \"Las decisiones se toman pensando en el bien de la mayoría, aunque a algunos no les guste\"",
         "Durante la ceremonia por el aniversario de la Dirección de Seguridad del Estado, el presidente José Jerí respaldó el accionar policial en el marco del estado de emergencia en Lima y Callao, que restringe derechos constitucionales por un periodo de 30 días.",
         "https://rpp.pe/politica/gobierno/jose-jeri-sobre-estado-de-emergencia-las-decisiones-se-toman-pensando-en-el-bien-de-la-mayoria-aunque-a-algunos-no-les-guste-noticia-1660478",
         "Wed, 22 Oct 2025 12:31:52 -0500"
        ],
        [
         "2",
         "Agua Marina se retira temporalmente los escenarios, según integrante: “Es triste porque la música es nuestra vida”",
         "El cantante Lucho Granda señaló que la decisión busca proteger su salud emocional luego del ataque sufrido por la agrupación en medio de un concierto.",
         "https://rpp.pe/musica/nacional/agua-marina-se-retira-temporalmente-los-escenarios-segun-integrante-noticia-1660461",
         "Wed, 22 Oct 2025 11:59:24 -0500"
        ],
        [
         "3",
         "Congreso propone sueldos de hasta S/ 17,500 en CORPAC pese a historial de graves fallas operacionales y crisis de gestiones",
         "El congresista Guido Bellido presentó un proyecto de ley que propone una nueva escala salarial para los trabajadores de Corpac S.A., con sueldos de hasta S/17,500. Como se sabe, en las últimas gestiones, la empresa estatal fue cuestionada por severas crisis operativas.",
         "https://rpp.pe/economia/economia/alza-salarial-en-corpac-congreso-propone-sueldos-de-hasta-17500-soles-pese-a-historial-de-fallas-operaciones-y-crisis-de-gestion-noticia-1660476",
         "Wed, 22 Oct 2025 13:30:02 -0500"
        ],
        [
         "4",
         "Tragedia en Venezuela: dos personas mueren tras fallido despegue de avioneta [VIDEO]",
         "Dos personas perdieron la vida este miércoles cuando una avioneta se precipitó a tierra en el momento en el que despegaba de un aeropuerto en el estado Táchira, en el oeste de Venezuela.",
         "https://rpp.pe/mundo/venezuela/tragedia-en-venezuela-dos-personas-mueren-tras-fallido-despegue-de-avioneta-noticia-1660479",
         "Wed, 22 Oct 2025 12:36:16 -0500"
        ],
        [
         "5",
         "Álvarez dice que posible ampliación del Reinfo sería \"un incentivo para los mineros ilegales\"",
         "El jefe del Gabinete Ministerial indicó que el Gobierno de José Jerí debe dejar las bases para que la siguiente gestión reorganice la minería.",
         "https://rpp.pe/politica/gobierno/alvarez-sobre-posible-ampliacion-del-reinfo-seria-un-incentivo-para-los-mineros-ilegales-noticia-1660501",
         "Wed, 22 Oct 2025 14:08:40 -0500"
        ],
        [
         "6",
         "Intriga en Corinthians: André Carrillo respondió ante interés de Inter de Porto Alegre por su fichaje",
         "De acuerdo con medios de Porto Alegre, André Carrillo es seguido por Internacional, que actualmente es dirigido por Ramón Díaz.",
         "https://rpp.pe/futbol/peruanos-en-el-mundo/andre-carrillo-respondio-ante-interes-de-inter-de-porto-alegre-por-su-fichaje-corinthians-brasileirao-noticia-1660470",
         "Wed, 22 Oct 2025 13:05:31 -0500"
        ],
        [
         "7",
         "¿Será necesario prorrogar el estado de emergencia? Esto opina el alcalde de La Victoria",
         "En Ampliación de Noticias, Rubén Cano consideró que la declaratoria de estado de emergencia en Lima y Callao era \"impostergable\" ante los altos índices de criminalidad.",
         "https://rpp.pe/lima/seguridad/estado-de-emergencia-esto-opina-el-alcalde-de-la-victoria-noticia-1660457",
         "Wed, 22 Oct 2025 13:34:50 -0500"
        ],
        [
         "8",
         "“Todo está podrido adentro”: exinterno advierte sobre la situación en el penal de Lurigancho",
         "En el programa Encendidos, un expresidiario compartió la experiencia vivida en el penal de Lurigancho, a propósito de la entrada en vigor del estado de emergencia en Lima y Callao, medida que contempla el endurecimiento del control penitenciario.",
         "https://rpp.pe/videos/encendidos/todo-esta-podrido-adentro-exinterno-advierte-sobre-la-situacion-en-el-penal-de-lurigancho-noticia-1660484",
         "Wed, 22 Oct 2025 12:30:27 -0500"
        ],
        [
         "9",
         "Abogada de Susana Villarán pide que se aplique el mismo criterio del TC para anular acusación por lavado de activos",
         "Además, Merly Edquen, abogada de la exalcaldesa de Lima Susana Villarán, informó que se encuentran a la expectativa de la decisión que tome el Poder Judicial ante el pedido del fiscal José Domingo Pérez para que se suspenda el juicio contra su patrocinada.",
         "https://rpp.pe/politica/judiciales/abogada-de-susana-villaran-pide-que-se-aplique-el-mismo-criterio-del-tc-para-anular-acusacion-por-lavado-de-activos-noticia-1660491",
         "Wed, 22 Oct 2025 13:40:26 -0500"
        ]
       ],
       "shape": {
        "columns": 4,
        "rows": 10
       }
      },
      "text/html": [
       "<div>\n",
       "<style scoped>\n",
       "    .dataframe tbody tr th:only-of-type {\n",
       "        vertical-align: middle;\n",
       "    }\n",
       "\n",
       "    .dataframe tbody tr th {\n",
       "        vertical-align: top;\n",
       "    }\n",
       "\n",
       "    .dataframe thead th {\n",
       "        text-align: right;\n",
       "    }\n",
       "</style>\n",
       "<table border=\"1\" class=\"dataframe\">\n",
       "  <thead>\n",
       "    <tr style=\"text-align: right;\">\n",
       "      <th></th>\n",
       "      <th>title</th>\n",
       "      <th>description</th>\n",
       "      <th>link</th>\n",
       "      <th>date_published</th>\n",
       "    </tr>\n",
       "  </thead>\n",
       "  <tbody>\n",
       "    <tr>\n",
       "      <th>0</th>\n",
       "      <td>Consejo Fiscal pide que el TC revise las más d...</td>\n",
       "      <td>Alonso Segura alerta sobre la \"avalancha enorm...</td>\n",
       "      <td>https://rpp.pe/economia/economia/consejo-fisca...</td>\n",
       "      <td>Wed, 22 Oct 2025 10:15:26 -0500</td>\n",
       "    </tr>\n",
       "    <tr>\n",
       "      <th>1</th>\n",
       "      <td>José Jerí sobre estado de emergencia: \"Las dec...</td>\n",
       "      <td>Durante la ceremonia por el aniversario de la ...</td>\n",
       "      <td>https://rpp.pe/politica/gobierno/jose-jeri-sob...</td>\n",
       "      <td>Wed, 22 Oct 2025 12:31:52 -0500</td>\n",
       "    </tr>\n",
       "    <tr>\n",
       "      <th>2</th>\n",
       "      <td>Agua Marina se retira temporalmente los escena...</td>\n",
       "      <td>El cantante Lucho Granda señaló que la decisió...</td>\n",
       "      <td>https://rpp.pe/musica/nacional/agua-marina-se-...</td>\n",
       "      <td>Wed, 22 Oct 2025 11:59:24 -0500</td>\n",
       "    </tr>\n",
       "    <tr>\n",
       "      <th>3</th>\n",
       "      <td>Congreso propone sueldos de hasta S/ 17,500 en...</td>\n",
       "      <td>El congresista Guido Bellido presentó un proye...</td>\n",
       "      <td>https://rpp.pe/economia/economia/alza-salarial...</td>\n",
       "      <td>Wed, 22 Oct 2025 13:30:02 -0500</td>\n",
       "    </tr>\n",
       "    <tr>\n",
       "      <th>4</th>\n",
       "      <td>Tragedia en Venezuela: dos personas mueren tra...</td>\n",
       "      <td>Dos personas perdieron la vida este miércoles ...</td>\n",
       "      <td>https://rpp.pe/mundo/venezuela/tragedia-en-ven...</td>\n",
       "      <td>Wed, 22 Oct 2025 12:36:16 -0500</td>\n",
       "    </tr>\n",
       "    <tr>\n",
       "      <th>5</th>\n",
       "      <td>Álvarez dice que posible ampliación del Reinfo...</td>\n",
       "      <td>El jefe del Gabinete Ministerial indicó que el...</td>\n",
       "      <td>https://rpp.pe/politica/gobierno/alvarez-sobre...</td>\n",
       "      <td>Wed, 22 Oct 2025 14:08:40 -0500</td>\n",
       "    </tr>\n",
       "    <tr>\n",
       "      <th>6</th>\n",
       "      <td>Intriga en Corinthians: André Carrillo respond...</td>\n",
       "      <td>De acuerdo con medios de Porto Alegre, André C...</td>\n",
       "      <td>https://rpp.pe/futbol/peruanos-en-el-mundo/and...</td>\n",
       "      <td>Wed, 22 Oct 2025 13:05:31 -0500</td>\n",
       "    </tr>\n",
       "    <tr>\n",
       "      <th>7</th>\n",
       "      <td>¿Será necesario prorrogar el estado de emergen...</td>\n",
       "      <td>En Ampliación de Noticias, Rubén Cano consider...</td>\n",
       "      <td>https://rpp.pe/lima/seguridad/estado-de-emerge...</td>\n",
       "      <td>Wed, 22 Oct 2025 13:34:50 -0500</td>\n",
       "    </tr>\n",
       "    <tr>\n",
       "      <th>8</th>\n",
       "      <td>“Todo está podrido adentro”: exinterno adviert...</td>\n",
       "      <td>En el programa Encendidos, un expresidiario co...</td>\n",
       "      <td>https://rpp.pe/videos/encendidos/todo-esta-pod...</td>\n",
       "      <td>Wed, 22 Oct 2025 12:30:27 -0500</td>\n",
       "    </tr>\n",
       "    <tr>\n",
       "      <th>9</th>\n",
       "      <td>Abogada de Susana Villarán pide que se aplique...</td>\n",
       "      <td>Además, Merly Edquen, abogada de la exalcaldes...</td>\n",
       "      <td>https://rpp.pe/politica/judiciales/abogada-de-...</td>\n",
       "      <td>Wed, 22 Oct 2025 13:40:26 -0500</td>\n",
       "    </tr>\n",
       "  </tbody>\n",
       "</table>\n",
       "</div>"
      ],
      "text/plain": [
       "                                               title  \\\n",
       "0  Consejo Fiscal pide que el TC revise las más d...   \n",
       "1  José Jerí sobre estado de emergencia: \"Las dec...   \n",
       "2  Agua Marina se retira temporalmente los escena...   \n",
       "3  Congreso propone sueldos de hasta S/ 17,500 en...   \n",
       "4  Tragedia en Venezuela: dos personas mueren tra...   \n",
       "5  Álvarez dice que posible ampliación del Reinfo...   \n",
       "6  Intriga en Corinthians: André Carrillo respond...   \n",
       "7  ¿Será necesario prorrogar el estado de emergen...   \n",
       "8  “Todo está podrido adentro”: exinterno adviert...   \n",
       "9  Abogada de Susana Villarán pide que se aplique...   \n",
       "\n",
       "                                         description  \\\n",
       "0  Alonso Segura alerta sobre la \"avalancha enorm...   \n",
       "1  Durante la ceremonia por el aniversario de la ...   \n",
       "2  El cantante Lucho Granda señaló que la decisió...   \n",
       "3  El congresista Guido Bellido presentó un proye...   \n",
       "4  Dos personas perdieron la vida este miércoles ...   \n",
       "5  El jefe del Gabinete Ministerial indicó que el...   \n",
       "6  De acuerdo con medios de Porto Alegre, André C...   \n",
       "7  En Ampliación de Noticias, Rubén Cano consider...   \n",
       "8  En el programa Encendidos, un expresidiario co...   \n",
       "9  Además, Merly Edquen, abogada de la exalcaldes...   \n",
       "\n",
       "                                                link  \\\n",
       "0  https://rpp.pe/economia/economia/consejo-fisca...   \n",
       "1  https://rpp.pe/politica/gobierno/jose-jeri-sob...   \n",
       "2  https://rpp.pe/musica/nacional/agua-marina-se-...   \n",
       "3  https://rpp.pe/economia/economia/alza-salarial...   \n",
       "4  https://rpp.pe/mundo/venezuela/tragedia-en-ven...   \n",
       "5  https://rpp.pe/politica/gobierno/alvarez-sobre...   \n",
       "6  https://rpp.pe/futbol/peruanos-en-el-mundo/and...   \n",
       "7  https://rpp.pe/lima/seguridad/estado-de-emerge...   \n",
       "8  https://rpp.pe/videos/encendidos/todo-esta-pod...   \n",
       "9  https://rpp.pe/politica/judiciales/abogada-de-...   \n",
       "\n",
       "                    date_published  \n",
       "0  Wed, 22 Oct 2025 10:15:26 -0500  \n",
       "1  Wed, 22 Oct 2025 12:31:52 -0500  \n",
       "2  Wed, 22 Oct 2025 11:59:24 -0500  \n",
       "3  Wed, 22 Oct 2025 13:30:02 -0500  \n",
       "4  Wed, 22 Oct 2025 12:36:16 -0500  \n",
       "5  Wed, 22 Oct 2025 14:08:40 -0500  \n",
       "6  Wed, 22 Oct 2025 13:05:31 -0500  \n",
       "7  Wed, 22 Oct 2025 13:34:50 -0500  \n",
       "8  Wed, 22 Oct 2025 12:30:27 -0500  \n",
       "9  Wed, 22 Oct 2025 13:40:26 -0500  "
      ]
     },
     "metadata": {},
     "output_type": "display_data"
    },
    {
     "name": "stdout",
     "output_type": "stream",
     "text": [
      "\n",
      "💾 Results saved to: ../outputs/langchain_query_results.csv\n"
     ]
    }
   ],
   "source": [
    "# Step 3: Query with LangChain\n",
    "print(\"\\n🔄 Step 3: Querying vector store...\")\n",
    "query = \"Últimas noticias de economía\"\n",
    "df_langchain_results = langchain_pipeline.query(query, k=10)\n",
    "\n",
    "print(f\"\\n📊 LangChain Query Results for: '{query}'\")\n",
    "display(df_langchain_results)\n",
    "\n",
    "# Save results\n",
    "output_path_lc = \"../outputs/langchain_query_results.csv\"\n",
    "df_langchain_results.to_csv(output_path_lc, index=False)\n",
    "print(f\"\\n💾 Results saved to: {output_path_lc}\")"
   ]
  },
  {
   "cell_type": "code",
   "execution_count": null,
   "metadata": {},
   "outputs": [
    {
     "name": "stdout",
     "output_type": "stream",
     "text": [
      "\n",
      "🚀 Running Complete End-to-End Pipeline...\n",
      "\n"
     ]
    },
    {
     "name": "stderr",
     "output_type": "stream",
     "text": [
      "/Users/gabrielsaco/anaconda3/envs/rpp/lib/python3.11/site-packages/huggingface_hub/file_download.py:945: FutureWarning: `resume_download` is deprecated and will be removed in version 1.0.0. Downloads always resume when possible. If you want to force a new download, use `force_download=True`.\n",
      "  warnings.warn(\n",
      "Failed to send telemetry event ClientStartEvent: capture() takes 1 positional argument but 3 were given\n",
      "Failed to send telemetry event ClientCreateCollectionEvent: capture() takes 1 positional argument but 3 were given\n",
      "Failed to send telemetry event ClientStartEvent: capture() takes 1 positional argument but 3 were given\n",
      "Failed to send telemetry event ClientCreateCollectionEvent: capture() takes 1 positional argument but 3 were given\n"
     ]
    },
    {
     "name": "stdout",
     "output_type": "stream",
     "text": [
      "\n",
      "📊 Complete Pipeline Results for: 'Noticias sobre tecnología e innovación'\n"
     ]
    },
    {
     "data": {
      "application/vnd.microsoft.datawrangler.viewer.v0+json": {
       "columns": [
        {
         "name": "index",
         "rawType": "int64",
         "type": "integer"
        },
        {
         "name": "title",
         "rawType": "object",
         "type": "string"
        },
        {
         "name": "description",
         "rawType": "object",
         "type": "string"
        },
        {
         "name": "link",
         "rawType": "object",
         "type": "string"
        },
        {
         "name": "date_published",
         "rawType": "object",
         "type": "string"
        }
       ],
       "ref": "3baa0df8-4bce-4db3-815e-60483c9c733c",
       "rows": [
        [
         "0",
         "Agua Marina se retira temporalmente los escenarios, según integrante: “Es triste porque la música es nuestra vida”",
         "El cantante Lucho Granda señaló que la decisión busca proteger su salud emocional luego del ataque sufrido por la agrupación en medio de un concierto.",
         "https://rpp.pe/musica/nacional/agua-marina-se-retira-temporalmente-los-escenarios-segun-integrante-noticia-1660461",
         "Wed, 22 Oct 2025 11:59:24 -0500"
        ],
        [
         "1",
         "Agua Marina se retira temporalmente los escenarios, según integrante: “Es triste porque la música es nuestra vida”",
         "El cantante Lucho Granda señaló que la decisión busca proteger su salud emocional luego del ataque sufrido por la agrupación en medio de un concierto.",
         "https://rpp.pe/musica/nacional/agua-marina-se-retira-temporalmente-los-escenarios-segun-integrante-noticia-1660461",
         "Wed, 22 Oct 2025 11:59:24 -0500"
        ],
        [
         "2",
         "José Jerí sobre estado de emergencia: \"Las decisiones se toman pensando en el bien de la mayoría, aunque a algunos no les guste\"",
         "Durante la ceremonia por el aniversario de la Dirección de Seguridad del Estado, el presidente José Jerí respaldó el accionar policial en el marco del estado de emergencia en Lima y Callao, que restringe derechos constitucionales por un periodo de 30 días.",
         "https://rpp.pe/politica/gobierno/jose-jeri-sobre-estado-de-emergencia-las-decisiones-se-toman-pensando-en-el-bien-de-la-mayoria-aunque-a-algunos-no-les-guste-noticia-1660478",
         "Wed, 22 Oct 2025 12:31:52 -0500"
        ],
        [
         "3",
         "José Jerí sobre estado de emergencia: \"Las decisiones se toman pensando en el bien de la mayoría, aunque a algunos no les guste\"",
         "Durante la ceremonia por el aniversario de la Dirección de Seguridad del Estado, el presidente José Jerí respaldó el accionar policial en el marco del estado de emergencia en Lima y Callao, que restringe derechos constitucionales por un periodo de 30 días.",
         "https://rpp.pe/politica/gobierno/jose-jeri-sobre-estado-de-emergencia-las-decisiones-se-toman-pensando-en-el-bien-de-la-mayoria-aunque-a-algunos-no-les-guste-noticia-1660478",
         "Wed, 22 Oct 2025 12:31:52 -0500"
        ],
        [
         "4",
         "Intriga en Corinthians: André Carrillo respondió ante interés de Inter de Porto Alegre por su fichaje",
         "De acuerdo con medios de Porto Alegre, André Carrillo es seguido por Internacional, que actualmente es dirigido por Ramón Díaz.",
         "https://rpp.pe/futbol/peruanos-en-el-mundo/andre-carrillo-respondio-ante-interes-de-inter-de-porto-alegre-por-su-fichaje-corinthians-brasileirao-noticia-1660470",
         "Wed, 22 Oct 2025 13:05:31 -0500"
        ],
        [
         "5",
         "Intriga en Corinthians: André Carrillo respondió ante interés de Inter de Porto Alegre por su fichaje",
         "De acuerdo con medios de Porto Alegre, André Carrillo es seguido por Internacional, que actualmente es dirigido por Ramón Díaz.",
         "https://rpp.pe/futbol/peruanos-en-el-mundo/andre-carrillo-respondio-ante-interes-de-inter-de-porto-alegre-por-su-fichaje-corinthians-brasileirao-noticia-1660470",
         "Wed, 22 Oct 2025 13:05:31 -0500"
        ],
        [
         "6",
         "¿Será necesario prorrogar el estado de emergencia? Esto opina el alcalde de La Victoria",
         "En Ampliación de Noticias, Rubén Cano consideró que la declaratoria de estado de emergencia en Lima y Callao era \"impostergable\" ante los altos índices de criminalidad.",
         "https://rpp.pe/lima/seguridad/estado-de-emergencia-esto-opina-el-alcalde-de-la-victoria-noticia-1660457",
         "Wed, 22 Oct 2025 13:34:50 -0500"
        ],
        [
         "7",
         "¿Será necesario prorrogar el estado de emergencia? Esto opina el alcalde de La Victoria",
         "En Ampliación de Noticias, Rubén Cano consideró que la declaratoria de estado de emergencia en Lima y Callao era \"impostergable\" ante los altos índices de criminalidad.",
         "https://rpp.pe/lima/seguridad/estado-de-emergencia-esto-opina-el-alcalde-de-la-victoria-noticia-1660457",
         "Wed, 22 Oct 2025 13:34:50 -0500"
        ],
        [
         "8",
         "Sentencian a 21 años de prisión a sicario venezolano que asesinó a un obrero en Comas",
         "El asesino pudo ser identificado, en parte, gracias a la participación de un testigo protegido durante el proceso, informó el Ministerio Público.",
         "https://rpp.pe/lima/policiales/comas-sentencian-a-21-anos-a-sicario-venezolano-que-asesino-a-obrero-noticia-1660510",
         "Wed, 22 Oct 2025 14:50:19 -0500"
        ],
        [
         "9",
         "Sentencian a 21 años de prisión a sicario venezolano que asesinó a un obrero en Comas",
         "El asesino pudo ser identificado, en parte, gracias a la participación de un testigo protegido durante el proceso, informó el Ministerio Público.",
         "https://rpp.pe/lima/policiales/comas-sentencian-a-21-anos-a-sicario-venezolano-que-asesino-a-obrero-noticia-1660510",
         "Wed, 22 Oct 2025 14:50:19 -0500"
        ]
       ],
       "shape": {
        "columns": 4,
        "rows": 10
       }
      },
      "text/html": [
       "<div>\n",
       "<style scoped>\n",
       "    .dataframe tbody tr th:only-of-type {\n",
       "        vertical-align: middle;\n",
       "    }\n",
       "\n",
       "    .dataframe tbody tr th {\n",
       "        vertical-align: top;\n",
       "    }\n",
       "\n",
       "    .dataframe thead th {\n",
       "        text-align: right;\n",
       "    }\n",
       "</style>\n",
       "<table border=\"1\" class=\"dataframe\">\n",
       "  <thead>\n",
       "    <tr style=\"text-align: right;\">\n",
       "      <th></th>\n",
       "      <th>title</th>\n",
       "      <th>description</th>\n",
       "      <th>link</th>\n",
       "      <th>date_published</th>\n",
       "    </tr>\n",
       "  </thead>\n",
       "  <tbody>\n",
       "    <tr>\n",
       "      <th>0</th>\n",
       "      <td>Agua Marina se retira temporalmente los escena...</td>\n",
       "      <td>El cantante Lucho Granda señaló que la decisió...</td>\n",
       "      <td>https://rpp.pe/musica/nacional/agua-marina-se-...</td>\n",
       "      <td>Wed, 22 Oct 2025 11:59:24 -0500</td>\n",
       "    </tr>\n",
       "    <tr>\n",
       "      <th>1</th>\n",
       "      <td>Agua Marina se retira temporalmente los escena...</td>\n",
       "      <td>El cantante Lucho Granda señaló que la decisió...</td>\n",
       "      <td>https://rpp.pe/musica/nacional/agua-marina-se-...</td>\n",
       "      <td>Wed, 22 Oct 2025 11:59:24 -0500</td>\n",
       "    </tr>\n",
       "    <tr>\n",
       "      <th>2</th>\n",
       "      <td>José Jerí sobre estado de emergencia: \"Las dec...</td>\n",
       "      <td>Durante la ceremonia por el aniversario de la ...</td>\n",
       "      <td>https://rpp.pe/politica/gobierno/jose-jeri-sob...</td>\n",
       "      <td>Wed, 22 Oct 2025 12:31:52 -0500</td>\n",
       "    </tr>\n",
       "    <tr>\n",
       "      <th>3</th>\n",
       "      <td>José Jerí sobre estado de emergencia: \"Las dec...</td>\n",
       "      <td>Durante la ceremonia por el aniversario de la ...</td>\n",
       "      <td>https://rpp.pe/politica/gobierno/jose-jeri-sob...</td>\n",
       "      <td>Wed, 22 Oct 2025 12:31:52 -0500</td>\n",
       "    </tr>\n",
       "    <tr>\n",
       "      <th>4</th>\n",
       "      <td>Intriga en Corinthians: André Carrillo respond...</td>\n",
       "      <td>De acuerdo con medios de Porto Alegre, André C...</td>\n",
       "      <td>https://rpp.pe/futbol/peruanos-en-el-mundo/and...</td>\n",
       "      <td>Wed, 22 Oct 2025 13:05:31 -0500</td>\n",
       "    </tr>\n",
       "    <tr>\n",
       "      <th>5</th>\n",
       "      <td>Intriga en Corinthians: André Carrillo respond...</td>\n",
       "      <td>De acuerdo con medios de Porto Alegre, André C...</td>\n",
       "      <td>https://rpp.pe/futbol/peruanos-en-el-mundo/and...</td>\n",
       "      <td>Wed, 22 Oct 2025 13:05:31 -0500</td>\n",
       "    </tr>\n",
       "    <tr>\n",
       "      <th>6</th>\n",
       "      <td>¿Será necesario prorrogar el estado de emergen...</td>\n",
       "      <td>En Ampliación de Noticias, Rubén Cano consider...</td>\n",
       "      <td>https://rpp.pe/lima/seguridad/estado-de-emerge...</td>\n",
       "      <td>Wed, 22 Oct 2025 13:34:50 -0500</td>\n",
       "    </tr>\n",
       "    <tr>\n",
       "      <th>7</th>\n",
       "      <td>¿Será necesario prorrogar el estado de emergen...</td>\n",
       "      <td>En Ampliación de Noticias, Rubén Cano consider...</td>\n",
       "      <td>https://rpp.pe/lima/seguridad/estado-de-emerge...</td>\n",
       "      <td>Wed, 22 Oct 2025 13:34:50 -0500</td>\n",
       "    </tr>\n",
       "    <tr>\n",
       "      <th>8</th>\n",
       "      <td>Sentencian a 21 años de prisión a sicario vene...</td>\n",
       "      <td>El asesino pudo ser identificado, en parte, gr...</td>\n",
       "      <td>https://rpp.pe/lima/policiales/comas-sentencia...</td>\n",
       "      <td>Wed, 22 Oct 2025 14:50:19 -0500</td>\n",
       "    </tr>\n",
       "    <tr>\n",
       "      <th>9</th>\n",
       "      <td>Sentencian a 21 años de prisión a sicario vene...</td>\n",
       "      <td>El asesino pudo ser identificado, en parte, gr...</td>\n",
       "      <td>https://rpp.pe/lima/policiales/comas-sentencia...</td>\n",
       "      <td>Wed, 22 Oct 2025 14:50:19 -0500</td>\n",
       "    </tr>\n",
       "  </tbody>\n",
       "</table>\n",
       "</div>"
      ],
      "text/plain": [
       "                                               title  \\\n",
       "0  Agua Marina se retira temporalmente los escena...   \n",
       "1  Agua Marina se retira temporalmente los escena...   \n",
       "2  José Jerí sobre estado de emergencia: \"Las dec...   \n",
       "3  José Jerí sobre estado de emergencia: \"Las dec...   \n",
       "4  Intriga en Corinthians: André Carrillo respond...   \n",
       "5  Intriga en Corinthians: André Carrillo respond...   \n",
       "6  ¿Será necesario prorrogar el estado de emergen...   \n",
       "7  ¿Será necesario prorrogar el estado de emergen...   \n",
       "8  Sentencian a 21 años de prisión a sicario vene...   \n",
       "9  Sentencian a 21 años de prisión a sicario vene...   \n",
       "\n",
       "                                         description  \\\n",
       "0  El cantante Lucho Granda señaló que la decisió...   \n",
       "1  El cantante Lucho Granda señaló que la decisió...   \n",
       "2  Durante la ceremonia por el aniversario de la ...   \n",
       "3  Durante la ceremonia por el aniversario de la ...   \n",
       "4  De acuerdo con medios de Porto Alegre, André C...   \n",
       "5  De acuerdo con medios de Porto Alegre, André C...   \n",
       "6  En Ampliación de Noticias, Rubén Cano consider...   \n",
       "7  En Ampliación de Noticias, Rubén Cano consider...   \n",
       "8  El asesino pudo ser identificado, en parte, gr...   \n",
       "9  El asesino pudo ser identificado, en parte, gr...   \n",
       "\n",
       "                                                link  \\\n",
       "0  https://rpp.pe/musica/nacional/agua-marina-se-...   \n",
       "1  https://rpp.pe/musica/nacional/agua-marina-se-...   \n",
       "2  https://rpp.pe/politica/gobierno/jose-jeri-sob...   \n",
       "3  https://rpp.pe/politica/gobierno/jose-jeri-sob...   \n",
       "4  https://rpp.pe/futbol/peruanos-en-el-mundo/and...   \n",
       "5  https://rpp.pe/futbol/peruanos-en-el-mundo/and...   \n",
       "6  https://rpp.pe/lima/seguridad/estado-de-emerge...   \n",
       "7  https://rpp.pe/lima/seguridad/estado-de-emerge...   \n",
       "8  https://rpp.pe/lima/policiales/comas-sentencia...   \n",
       "9  https://rpp.pe/lima/policiales/comas-sentencia...   \n",
       "\n",
       "                    date_published  \n",
       "0  Wed, 22 Oct 2025 11:59:24 -0500  \n",
       "1  Wed, 22 Oct 2025 11:59:24 -0500  \n",
       "2  Wed, 22 Oct 2025 12:31:52 -0500  \n",
       "3  Wed, 22 Oct 2025 12:31:52 -0500  \n",
       "4  Wed, 22 Oct 2025 13:05:31 -0500  \n",
       "5  Wed, 22 Oct 2025 13:05:31 -0500  \n",
       "6  Wed, 22 Oct 2025 13:34:50 -0500  \n",
       "7  Wed, 22 Oct 2025 13:34:50 -0500  \n",
       "8  Wed, 22 Oct 2025 14:50:19 -0500  \n",
       "9  Wed, 22 Oct 2025 14:50:19 -0500  "
      ]
     },
     "metadata": {},
     "output_type": "display_data"
    },
    {
     "name": "stdout",
     "output_type": "stream",
     "text": [
      "\n",
      "✅ Complete pipeline executed successfully!\n"
     ]
    }
   ],
   "source": [
    "# Complete Pipeline Demo\n",
    "print(\"\\n🚀 Running Complete End-to-End Pipeline...\\n\")\n",
    "\n",
    "# Create a new pipeline instance\n",
    "complete_pipeline = NewsRetrievalPipeline(\n",
    "    model_name=\"sentence-transformers/all-MiniLM-L6-v2\",\n",
    "    persist_directory=\"../chroma_db\"\n",
    ")\n",
    "\n",
    "# Run complete pipeline\n",
    "query_complete = \"Noticias sobre tecnología e innovación\"\n",
    "df_complete = complete_pipeline.run_pipeline(\n",
    "    news_items=fresh_news,\n",
    "    query_text=query_complete,\n",
    "    k=10\n",
    ")\n",
    "\n",
    "print(f\"\\n📊 Complete Pipeline Results for: '{query_complete}'\")\n",
    "display(df_complete)\n",
    "\n",
    "print(\"\\n✅ Complete pipeline executed successfully!\")"
   ]
  },
  {
   "cell_type": "markdown",
   "metadata": {},
   "source": [
    "---\n",
    "\n",
    "## 📊 Summary: 5 Most Recent Retrieved Items\n",
    "\n",
    "Display the 5 most recent items retrieved from the economic news query."
   ]
  },
  {
   "cell_type": "code",
   "execution_count": null,
   "metadata": {},
   "outputs": [
    {
     "name": "stdout",
     "output_type": "stream",
     "text": [
      "====================================================================================================\n",
      "📊 TOP 5 MOST RELEVANT ECONOMIC NEWS ARTICLES\n",
      "====================================================================================================\n",
      "\n",
      "1. Consejo Fiscal pide que el TC revise las más de 200 leyes aprobadas por el Congreso que comprometen la estabilidad fiscal\n",
      "   📅 Published: Wed, 22 Oct 2025 10:15:26 -0500\n",
      "   📝 Description: Alonso Segura alerta sobre la \"avalancha enorme\" de gasto, cifrada en S/ 36,000 millones, y advierte que el país podría perder el grado de inversión s...\n",
      "   🔗 Link: https://rpp.pe/economia/economia/consejo-fiscal-pide-que-el-tc-revise-las-mas-de-200-leyes-aprobadas-por-el-congreso-que-comprometen-la-estabilidad-fiscal-noticia-1660497\n",
      "----------------------------------------------------------------------------------------------------\n",
      "\n",
      "2. José Jerí sobre estado de emergencia: \"Las decisiones se toman pensando en el bien de la mayoría, aunque a algunos no les guste\"\n",
      "   📅 Published: Wed, 22 Oct 2025 12:31:52 -0500\n",
      "   📝 Description: Durante la ceremonia por el aniversario de la Dirección de Seguridad del Estado, el presidente José Jerí respaldó el accionar policial en el marco del...\n",
      "   🔗 Link: https://rpp.pe/politica/gobierno/jose-jeri-sobre-estado-de-emergencia-las-decisiones-se-toman-pensando-en-el-bien-de-la-mayoria-aunque-a-algunos-no-les-guste-noticia-1660478\n",
      "----------------------------------------------------------------------------------------------------\n",
      "\n",
      "3. Agua Marina se retira temporalmente los escenarios, según integrante: “Es triste porque la música es nuestra vida”\n",
      "   📅 Published: Wed, 22 Oct 2025 11:59:24 -0500\n",
      "   📝 Description: El cantante Lucho Granda señaló que la decisión busca proteger su salud emocional luego del ataque sufrido por la agrupación en medio de un concierto....\n",
      "   🔗 Link: https://rpp.pe/musica/nacional/agua-marina-se-retira-temporalmente-los-escenarios-segun-integrante-noticia-1660461\n",
      "----------------------------------------------------------------------------------------------------\n",
      "\n",
      "4. Congreso propone sueldos de hasta S/ 17,500 en CORPAC pese a historial de graves fallas operacionales y crisis de gestiones\n",
      "   📅 Published: Wed, 22 Oct 2025 13:30:02 -0500\n",
      "   📝 Description: El congresista Guido Bellido presentó un proyecto de ley que propone una nueva escala salarial para los trabajadores de Corpac S.A., con sueldos de ha...\n",
      "   🔗 Link: https://rpp.pe/economia/economia/alza-salarial-en-corpac-congreso-propone-sueldos-de-hasta-17500-soles-pese-a-historial-de-fallas-operaciones-y-crisis-de-gestion-noticia-1660476\n",
      "----------------------------------------------------------------------------------------------------\n",
      "\n",
      "5. Tragedia en Venezuela: dos personas mueren tras fallido despegue de avioneta [VIDEO]\n",
      "   📅 Published: Wed, 22 Oct 2025 12:36:16 -0500\n",
      "   📝 Description: Dos personas perdieron la vida este miércoles cuando una avioneta se precipitó a tierra en el momento en el que despegaba de un aeropuerto en el estad...\n",
      "   🔗 Link: https://rpp.pe/mundo/venezuela/tragedia-en-venezuela-dos-personas-mueren-tras-fallido-despegue-de-avioneta-noticia-1660479\n",
      "----------------------------------------------------------------------------------------------------\n",
      "\n",
      "✅ Task 1 Complete! All requirements satisfied.\n"
     ]
    }
   ],
   "source": [
    "# Display the 5 most recent retrieved items from the economic query\n",
    "print(\"=\" * 100)\n",
    "print(\"📊 TOP 5 MOST RELEVANT ECONOMIC NEWS ARTICLES\")\n",
    "print(\"=\" * 100)\n",
    "\n",
    "df_top5 = df_results.head(5)\n",
    "for idx, row in df_top5.iterrows():\n",
    "    print(f\"\\n{idx + 1}. {row['title']}\")\n",
    "    print(f\"   📅 Published: {row['date_published']}\")\n",
    "    print(f\"   📝 Description: {row['description'][:150]}...\")\n",
    "    print(f\"   🔗 Link: {row['link']}\")\n",
    "    print(\"-\" * 100)\n",
    "\n",
    "print(\"\\n✅ Task 1 Complete! All requirements satisfied.\")"
   ]
  }
 ],
 "metadata": {
  "kernelspec": {
   "display_name": "rpp",
   "language": "python",
   "name": "python3"
  },
  "language_info": {
   "codemirror_mode": {
    "name": "ipython",
    "version": 3
   },
   "file_extension": ".py",
   "mimetype": "text/x-python",
   "name": "python",
   "nbconvert_exporter": "python",
   "pygments_lexer": "ipython3",
   "version": "3.11.14"
  }
 },
 "nbformat": 4,
 "nbformat_minor": 4
}
