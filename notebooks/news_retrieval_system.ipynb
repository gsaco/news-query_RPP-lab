{
 "cells": [
  {
   "cell_type": "markdown",
   "metadata": {},
   "source": [
    "# 📰 RPP News Retrieval System with ChromaDB & LangChain\n",
    "\n",
    "## Objective\n",
    "Ingest the latest news from RPP Perú (https://rpp.pe/rss) embed them using SentenceTransformers and build a retrieval system using ChromaDB orchestrated with LangChain.\n",
    "\n",
    "## Pipeline Overview\n",
    "0. **Setup & Imports** - Load all required libraries and modules\n",
    "1. **Load Data** - Extract 50 latest news from RPP RSS feed\n",
    "2. **Tokenization** - Tokenize with tiktoken and analyze token counts\n",
    "3. **Embedding** - Generate embeddings with sentence-transformers/all-MiniLM-L6-v2\n",
    "4. **ChromaDB Storage** - Store documents with metadata in ChromaDB (chroma_db/)\n",
    "5. **Query Results** - Semantic similarity search with DataFrame output\n",
    "6. **LangChain Orchestration** - End-to-end modular pipeline\n",
    "\n",
    "---"
   ]
  },
  {
   "cell_type": "code",
   "execution_count": 78,
   "metadata": {},
   "outputs": [],
   "source": [
    "import sys\n",
    "sys.path.append('../src')\n",
    "\n",
    "import pandas as pd\n",
    "import numpy as np\n",
    "from datetime import datetime\n",
    "\n",
    "# Import custom modules\n",
    "from rss_loader import load_rss_feed, format_news_for_embedding\n",
    "from tokenizer import tokenize_text, count_tokens, should_chunk\n",
    "from embeddings import EmbeddingGenerator\n",
    "from vector_store import ChromaDBStore\n",
    "from langchain_pipeline import NewsRetrievalPipeline\n",
    "from utils import create_results_dataframe, display_results"
   ]
  },
  {
   "cell_type": "markdown",
   "metadata": {},
   "source": [
    "## 1. Load Data from RPP RSS Feed\n",
    "\n",
    "Load the latest 50 news items from RPP Perú RSS feed (https://rpp.pe/rss).\n",
    "\n",
    "**Requirements:**\n",
    "- Use `feedparser` to extract news items\n",
    "- Each record includes: `title`, `description`, `link`, `published` (date)"
   ]
  },
  {
   "cell_type": "code",
   "execution_count": 79,
   "metadata": {},
   "outputs": [
    {
     "name": "stdout",
     "output_type": "stream",
     "text": [
      "📡 Loading RSS feed from RPP Perú...\n",
      "✅ Loaded 50 news items\n",
      "\n",
      "First 3 news items:\n",
      "\n",
      "1. México confirma arresto en Cuba de Zhi Dong Zhang, el capo chino del tráfico de fentanilo a EE.UU.\n",
      "   Published: Wed, 22 Oct 2025 16:45:36 -0500\n",
      "   Link: https://rpp.pe/mundo/actualidad/mexico-confirma-arresto-en-cuba-de-zhi-dong-zhang-el-capo-chino-del-trafico-de-fentanilo-a-eeuu-noticia-1660533\n",
      "   Description: Zhi Dong Zhang, alias 'Brother Wang', había escapado en julio de 2025 de un arresto domiciliario en ...\n",
      "\n",
      "2. [GUÍA] Retiro de AFP 2025: todos los pasos para registrar tu solicitud y acceder a tu fondo de pensiones\n",
      "   Published: Wed, 22 Oct 2025 16:45:36 -0500\n",
      "   Link: https://rpp.pe/economia/economia/retiro-afp-2025-estos-son-los-pasos-para-registrar-tu-solicitud-por-el-desembolso-de-tus-fondos-noticia-1660521\n",
      "   Description: Ya se encuentra activo el registro del octavo retiro facultativo de AFP para aquellas personas cuyo ...\n",
      "\n",
      "3. Apple, hija de Chris Martin y Gwyneth Paltrow debutó como cantante\n",
      "   Published: Wed, 22 Oct 2025 16:46:13 -0500\n",
      "   Link: https://rpp.pe/famosos/celebridades/apple-martin-debuta-como-cantante-frente-a-su-padre-chris-martin-de-coldplay-video-noticia-1660529\n",
      "   Description: La joven, que cursa estudios de derecho en Vanderbilt University, ya tiene créditos como compositora...\n"
     ]
    }
   ],
   "source": [
    "# Load RSS feed\n",
    "print(\"📡 Loading RSS feed from RPP Perú...\")\n",
    "news_items = load_rss_feed(url=\"https://rpp.pe/rss\", max_items=50)\n",
    "\n",
    "print(f\"✅ Loaded {len(news_items)} news items\")\n",
    "print(\"\\nFirst 3 news items:\")\n",
    "for i, item in enumerate(news_items[:3], 1):\n",
    "    print(f\"\\n{i}. {item['title']}\")\n",
    "    print(f\"   Published: {item['published']}\")\n",
    "    print(f\"   Link: {item['link']}\")\n",
    "    print(f\"   Description: {item['description'][:100]}...\")"
   ]
  },
  {
   "cell_type": "code",
   "execution_count": 80,
   "metadata": {},
   "outputs": [
    {
     "name": "stdout",
     "output_type": "stream",
     "text": [
      "\n",
      "📊 News DataFrame:\n",
      "                                               title  \\\n",
      "0  México confirma arresto en Cuba de Zhi Dong Zh...   \n",
      "1  [GUÍA] Retiro de AFP 2025: todos los pasos par...   \n",
      "2  Apple, hija de Chris Martin y Gwyneth Paltrow ...   \n",
      "3  Cúal fue el último temblor en México hoy 22 de...   \n",
      "4  Bad Bunny reprograma sus conciertos en Perú po...   \n",
      "\n",
      "                                         description  \\\n",
      "0  Zhi Dong Zhang, alias 'Brother Wang', había es...   \n",
      "1  Ya se encuentra activo el registro del octavo ...   \n",
      "2  La joven, que cursa estudios de derecho en Van...   \n",
      "3  Cuál es el ultimo temblor en México y CDMX reg...   \n",
      "4  El cantante puertorriqueño había programado un...   \n",
      "\n",
      "                                                link  \\\n",
      "0  https://rpp.pe/mundo/actualidad/mexico-confirm...   \n",
      "1  https://rpp.pe/economia/economia/retiro-afp-20...   \n",
      "2  https://rpp.pe/famosos/celebridades/apple-mart...   \n",
      "3  https://rpp.pe/mundo/mexico/cual-fue-el-ultimo...   \n",
      "4  https://rpp.pe/musica/conciertos/bad-bunny-en-...   \n",
      "\n",
      "                         published  \n",
      "0  Wed, 22 Oct 2025 16:45:36 -0500  \n",
      "1  Wed, 22 Oct 2025 16:45:36 -0500  \n",
      "2  Wed, 22 Oct 2025 16:46:13 -0500  \n",
      "3  Wed, 22 Oct 2025 06:42:35 -0500  \n",
      "4  Wed, 22 Oct 2025 16:43:20 -0500  \n",
      "\n",
      "Shape: (50, 4)\n"
     ]
    }
   ],
   "source": [
    "# Create DataFrame for visualization\n",
    "df_news = pd.DataFrame(news_items)\n",
    "print(\"\\n📊 News DataFrame:\")\n",
    "print(df_news.head())\n",
    "print(f\"\\nShape: {df_news.shape}\")"
   ]
  },
  {
   "cell_type": "markdown",
   "metadata": {},
   "source": [
    "## 2. Tokenization with tiktoken\n",
    "\n",
    "Tokenize articles to understand token counts and determine if chunking is needed.\n",
    "\n",
    "**Requirements:**\n",
    "- Use `tiktoken` for tokenization\n",
    "- Compute `num_tokens` for sample articles\n",
    "- Decide if chunking is needed based on model context limits (8192 tokens)"
   ]
  },
  {
   "cell_type": "code",
   "execution_count": 81,
   "metadata": {},
   "outputs": [
    {
     "name": "stdout",
     "output_type": "stream",
     "text": [
      "📝 Sample Article:\n",
      "México confirma arresto en Cuba de Zhi Dong Zhang, el capo chino del tráfico de fentanilo a EE.UU.. Zhi Dong Zhang, alias 'Brother Wang', había escapado en julio de 2025 de un arresto domiciliario en la Ciudad de México, donde se encontraba bajo custodia de la Guardia Nacional.\n"
     ]
    }
   ],
   "source": [
    "# Select a sample article\n",
    "sample_article = format_news_for_embedding(news_items[0])\n",
    "\n",
    "print(\"📝 Sample Article:\")\n",
    "print(sample_article)"
   ]
  },
  {
   "cell_type": "code",
   "execution_count": 82,
   "metadata": {},
   "outputs": [
    {
     "name": "stdout",
     "output_type": "stream",
     "text": [
      "\n",
      "🔢 Token Analysis:\n",
      "   Number of tokens: 80\n",
      "   First 10 token IDs: [44, 978, 54793, 2389, 45111, 8163, 78, 665, 32777, 409]\n",
      "\n",
      "   Chunking needed (>8192 tokens): False\n"
     ]
    }
   ],
   "source": [
    "# Tokenize and count tokens\n",
    "tokens = tokenize_text(sample_article)\n",
    "num_tokens = count_tokens(sample_article)\n",
    "\n",
    "print(f\"\\n🔢 Token Analysis:\")\n",
    "print(f\"   Number of tokens: {num_tokens}\")\n",
    "print(f\"   First 10 token IDs: {tokens[:10]}\")\n",
    "\n",
    "# Check if chunking is needed\n",
    "needs_chunking = should_chunk(sample_article, max_tokens=8192)\n",
    "print(f\"\\n   Chunking needed (>8192 tokens): {needs_chunking}\")"
   ]
  },
  {
   "cell_type": "code",
   "execution_count": 83,
   "metadata": {},
   "outputs": [
    {
     "name": "stdout",
     "output_type": "stream",
     "text": [
      "\n",
      "📊 Token Statistics Across All Articles:\n",
      "   Average tokens: 70.22\n",
      "   Min tokens: 38\n",
      "   Max tokens: 136\n",
      "   Median tokens: 68.00\n"
     ]
    }
   ],
   "source": [
    "# Analyze token counts for all articles\n",
    "token_counts = [count_tokens(format_news_for_embedding(item)) for item in news_items]\n",
    "\n",
    "print(\"\\n📊 Token Statistics Across All Articles:\")\n",
    "print(f\"   Average tokens: {np.mean(token_counts):.2f}\")\n",
    "print(f\"   Min tokens: {np.min(token_counts)}\")\n",
    "print(f\"   Max tokens: {np.max(token_counts)}\")\n",
    "print(f\"   Median tokens: {np.median(token_counts):.2f}\")"
   ]
  },
  {
   "cell_type": "markdown",
   "metadata": {},
   "source": [
    "## 3. Generate Embeddings with SentenceTransformers\n",
    "\n",
    "Use the `sentence-transformers/all-MiniLM-L6-v2` model to generate embeddings.\n",
    "\n",
    "**Requirements:**\n",
    "- Model: `sentence-transformers/all-MiniLM-L6-v2`\n",
    "- Generate 384-dimensional embeddings\n",
    "- Store embeddings alongside text and metadata"
   ]
  },
  {
   "cell_type": "code",
   "execution_count": 84,
   "metadata": {},
   "outputs": [
    {
     "name": "stdout",
     "output_type": "stream",
     "text": [
      "🤖 Initializing SentenceTransformer model...\n"
     ]
    },
    {
     "name": "stderr",
     "output_type": "stream",
     "text": [
      "/Users/gabrielsaco/anaconda3/envs/rpp/lib/python3.11/site-packages/huggingface_hub/file_download.py:945: FutureWarning: `resume_download` is deprecated and will be removed in version 1.0.0. Downloads always resume when possible. If you want to force a new download, use `force_download=True`.\n",
      "  warnings.warn(\n"
     ]
    },
    {
     "name": "stdout",
     "output_type": "stream",
     "text": [
      "✅ Model loaded!\n"
     ]
    }
   ],
   "source": [
    "# Initialize embedding generator\n",
    "print(\"🤖 Initializing SentenceTransformer model...\")\n",
    "embedding_generator = EmbeddingGenerator(model_name=\"sentence-transformers/all-MiniLM-L6-v2\")\n",
    "print(\"✅ Model loaded!\")"
   ]
  },
  {
   "cell_type": "code",
   "execution_count": 85,
   "metadata": {},
   "outputs": [
    {
     "name": "stdout",
     "output_type": "stream",
     "text": [
      "\n",
      "🔄 Generating embeddings for all news items...\n",
      "✅ Generated 50 embeddings\n",
      "   Embedding dimension: 384\n",
      "   Sample embedding (first 10 values): [-0.10013645  0.11546238 -0.01797599  0.0240803   0.07687692 -0.03317863\n",
      "  0.05786352 -0.04929219 -0.02857464 -0.00693798]\n"
     ]
    }
   ],
   "source": [
    "# Generate embeddings for all news items\n",
    "print(\"\\n🔄 Generating embeddings for all news items...\")\n",
    "texts = [format_news_for_embedding(item) for item in news_items]\n",
    "embeddings = embedding_generator.embed_texts(texts)\n",
    "\n",
    "print(f\"✅ Generated {len(embeddings)} embeddings\")\n",
    "print(f\"   Embedding dimension: {embeddings[0].shape[0]}\")\n",
    "print(f\"   Sample embedding (first 10 values): {embeddings[0][:10]}\")"
   ]
  },
  {
   "cell_type": "markdown",
   "metadata": {},
   "source": [
    "## 4. ChromaDB Storage (chroma_db/)\n",
    "\n",
    "Store documents, metadata, and embeddings in ChromaDB.\n",
    "\n",
    "**Requirements:**\n",
    "- Use ChromaDB to store documents, metadata, and embeddings\n",
    "- Persist to `../chroma_db` directory only\n",
    "- Implement upsert operation for updates\n",
    "- Support similarity search by keyword or description"
   ]
  },
  {
   "cell_type": "code",
   "execution_count": 86,
   "metadata": {},
   "outputs": [
    {
     "name": "stderr",
     "output_type": "stream",
     "text": [
      "Failed to send telemetry event ClientStartEvent: capture() takes 1 positional argument but 3 were given\n",
      "Failed to send telemetry event ClientCreateCollectionEvent: capture() takes 1 positional argument but 3 were given\n"
     ]
    },
    {
     "name": "stdout",
     "output_type": "stream",
     "text": [
      "💾 Initializing ChromaDB store...\n",
      "✅ ChromaDB store initialized!\n"
     ]
    }
   ],
   "source": [
    "# Initialize ChromaDB store\n",
    "print(\"💾 Initializing ChromaDB store...\")\n",
    "chroma_store = ChromaDBStore(\n",
    "    collection_name=\"rpp_news\",\n",
    "    persist_directory=\"../chroma_db\"\n",
    ")\n",
    "print(\"✅ ChromaDB store initialized!\")"
   ]
  },
  {
   "cell_type": "code",
   "execution_count": 87,
   "metadata": {},
   "outputs": [
    {
     "name": "stdout",
     "output_type": "stream",
     "text": [
      "📝 Prepared 50 metadata entries\n"
     ]
    }
   ],
   "source": [
    "# Prepare metadata\n",
    "metadatas = [\n",
    "    {\n",
    "        'title': item['title'],\n",
    "        'description': item['description'],\n",
    "        'link': item['link'],\n",
    "        'published': item['published']\n",
    "    }\n",
    "    for item in news_items\n",
    "]\n",
    "\n",
    "# Generate unique IDs\n",
    "ids = [f\"news_{i}\" for i in range(len(news_items))]\n",
    "\n",
    "print(f\"📝 Prepared {len(metadatas)} metadata entries\")"
   ]
  },
  {
   "cell_type": "code",
   "execution_count": 88,
   "metadata": {},
   "outputs": [
    {
     "name": "stdout",
     "output_type": "stream",
     "text": [
      "\n",
      "⬆️  Upserting documents to ChromaDB...\n",
      "✅ Collection now contains 50 documents\n"
     ]
    }
   ],
   "source": [
    "# Upsert documents to ChromaDB\n",
    "print(\"\\n⬆️  Upserting documents to ChromaDB...\")\n",
    "chroma_store.upsert_documents(\n",
    "    documents=texts,\n",
    "    metadatas=metadatas,\n",
    "    embeddings=embeddings.tolist(),\n",
    "    ids=ids\n",
    ")\n",
    "\n",
    "collection_count = chroma_store.get_collection_count()\n",
    "print(f\"✅ Collection now contains {collection_count} documents\")"
   ]
  },
  {
   "cell_type": "markdown",
   "metadata": {},
   "source": [
    "## 5. Query and Retrieve Results\n",
    "\n",
    "Query the system with various topics and display results in a DataFrame.\n",
    "\n",
    "**Requirements:**\n",
    "- Query with prompts like \"Últimas noticias de economía\"\n",
    "- Display results in pandas DataFrame\n",
    "- Columns: `title | description | link | date_published`\n",
    "- Show top 10 most relevant results"
   ]
  },
  {
   "cell_type": "code",
   "execution_count": 89,
   "metadata": {},
   "outputs": [
    {
     "name": "stdout",
     "output_type": "stream",
     "text": [
      "🔍 Querying: 'Últimas noticias de economía'\n",
      "✅ Found 10 results\n"
     ]
    }
   ],
   "source": [
    "# Query the collection\n",
    "query_text = \"Últimas noticias de economía\"\n",
    "print(f\"🔍 Querying: '{query_text}'\")\n",
    "\n",
    "results = chroma_store.query(\n",
    "    query_texts=[query_text],\n",
    "    n_results=10\n",
    ")\n",
    "\n",
    "print(f\"✅ Found {len(results['metadatas'][0])} results\")"
   ]
  },
  {
   "cell_type": "code",
   "execution_count": 90,
   "metadata": {},
   "outputs": [
    {
     "name": "stdout",
     "output_type": "stream",
     "text": [
      "\n",
      "📊 Query Results:\n",
      "   Found 10 relevant articles\n"
     ]
    },
    {
     "data": {
      "application/vnd.microsoft.datawrangler.viewer.v0+json": {
       "columns": [
        {
         "name": "index",
         "rawType": "int64",
         "type": "integer"
        },
        {
         "name": "title",
         "rawType": "object",
         "type": "string"
        },
        {
         "name": "description",
         "rawType": "object",
         "type": "string"
        },
        {
         "name": "link",
         "rawType": "object",
         "type": "string"
        },
        {
         "name": "date_published",
         "rawType": "object",
         "type": "string"
        }
       ],
       "ref": "d678bfa3-3c14-41d1-b9a5-88bb6509981e",
       "rows": [
        [
         "0",
         "Consejo Fiscal pide que el TC revise las más de 200 leyes aprobadas por el Congreso que comprometen la estabilidad fiscal",
         "Alonso Segura alerta sobre la \"avalancha enorme\" de gasto, cifrada en S/ 36,000 millones, y advierte que el país podría perder el grado de inversión si no se detiene la trayectoria actual.",
         "https://rpp.pe/economia/economia/consejo-fiscal-pide-que-el-tc-revise-las-mas-de-200-leyes-aprobadas-por-el-congreso-que-comprometen-la-estabilidad-fiscal-noticia-1660497",
         "Wed, 22 Oct 2025 10:15:26 -0500"
        ],
        [
         "1",
         "Estados Unidos anunciará un \"aumento sustancial\" en sus sanciones a Rusia en las próximas horas",
         "\"Vamos a anunciar después del cierre (de los mercados) de esta tarde o a primera hora de mañana un aumento sustancial de las sanciones a Rusia\", adelantó el secretario del Tesoro, Scott Bessent, sin ofrecer más detalles sobre la magnitud de las acciones.",
         "https://rpp.pe/mundo/estados-unidos/estados-unidos-anunciara-un-aumento-sustancial-en-sus-sanciones-a-rusia-en-las-proximas-horas-noticia-1660531",
         "Wed, 22 Oct 2025 16:33:24 -0500"
        ],
        [
         "2",
         "Policía en presunto estado de ebriedad es detenido por agredir a dos colegas que intentaron intervenirlo en Huancayo [VIDEO]",
         "El agente es de la Unidad de Servicios Especiales (USE) y atacó a los efectivos que intentaron intervenirlo por estacionar su auto en plena vía pública.",
         "https://rpp.pe/peru/junin/huancayo-detienen-a-policia-tras-agredir-a-sus-colegas-en-presunto-estado-de-ebriedad-noticia-1660515",
         "Wed, 22 Oct 2025 16:05:27 -0500"
        ],
        [
         "3",
         "Agua Marina se retira temporalmente los escenarios, según integrante: “Es triste porque la música es nuestra vida”",
         "El cantante Lucho Granda señaló que la decisión busca proteger su salud emocional luego del ataque sufrido por la agrupación en medio de un concierto.",
         "https://rpp.pe/musica/nacional/agua-marina-se-retira-temporalmente-los-escenarios-segun-integrante-noticia-1660461",
         "Wed, 22 Oct 2025 11:59:24 -0500"
        ],
        [
         "4",
         "Congreso propone sueldos de hasta S/ 17,500 en CORPAC pese a historial de graves fallas operacionales y crisis de gestiones",
         "El congresista Guido Bellido presentó un proyecto de ley que propone una nueva escala salarial para los trabajadores de Corpac S.A., con sueldos de hasta S/17,500. Como se sabe, en las últimas gestiones, la empresa estatal fue cuestionada por severas crisis operativas.",
         "https://rpp.pe/economia/economia/alza-salarial-en-corpac-congreso-propone-sueldos-de-hasta-17500-soles-pese-a-historial-de-fallas-operaciones-y-crisis-de-gestion-noticia-1660476",
         "Wed, 22 Oct 2025 13:30:02 -0500"
        ],
        [
         "5",
         "Álvarez dice que posible ampliación del Reinfo sería \"un incentivo para los mineros ilegales\"",
         "El jefe del Gabinete Ministerial indicó que el Gobierno de José Jerí debe dejar las bases para que la siguiente gestión reorganice la minería.",
         "https://rpp.pe/politica/gobierno/alvarez-sobre-posible-ampliacion-del-reinfo-seria-un-incentivo-para-los-mineros-ilegales-noticia-1660501",
         "Wed, 22 Oct 2025 14:08:40 -0500"
        ],
        [
         "6",
         "¿Será necesario prorrogar el estado de emergencia? Esto opina el alcalde de La Victoria",
         "En Ampliación de Noticias, Rubén Cano consideró que la declaratoria de estado de emergencia en Lima y Callao era \"impostergable\" ante los altos índices de criminalidad.",
         "https://rpp.pe/lima/seguridad/estado-de-emergencia-esto-opina-el-alcalde-de-la-victoria-noticia-1660457",
         "Wed, 22 Oct 2025 13:34:50 -0500"
        ],
        [
         "7",
         "Cronograma del octavo retiro de AFP 2025 HOY: cuándo podrás presentar tu solicitud según tu DNI",
         "El desembolso se efectuará hasta en cuatro armadas mensuales de 1 UIT cada una (S/5 350), después de 30 días de ingresada la solicitud, y cada 30 días hasta completar el total solicitado.",
         "https://rpp.pe/economia/economia/octavo-retiro-de-afp-2025-conoce-el-cronograma-oficial-segun-el-numero-de-dni-noticia-1657530",
         "Wed, 22 Oct 2025 16:30:03 -0500"
        ],
        [
         "8",
         "Argentina: dólar blue hoy a cuánto cotiza este miércoles 22 de octubre",
         "La cotización del dólar blue, hoy miércoles 22 de octubre en el país de Argentina es de $1530 compra y $1550 la venta.",
         "https://rpp.pe/mundo/argentina/argentina-dolar-blue-hoy-a-cuanto-cotiza-este-miercoles-22-de-octubre-noticia-1660393",
         "Wed, 22 Oct 2025 05:59:39 -0500"
        ],
        [
         "9",
         "Breña: familia busca a adulto mayor con Alzheimer que lleva desaparecido hace dos días",
         "Rotafono de RPP | La última vez que lo vieron a Pedro Cano, de 80 años, vestía un buzo de color plomo, casaca negra, tenía dos polos y unos zapatos negros.",
         "https://rpp.pe/rotafono/servicios-a-la-comunidad/brena-familia-busca-a-adulto-mayor-con-alzheimer-que-lleva-desaparecido-hace-dos-dias-noticia-1660502",
         "Wed, 22 Oct 2025 14:06:06 -0500"
        ]
       ],
       "shape": {
        "columns": 4,
        "rows": 10
       }
      },
      "text/html": [
       "<div>\n",
       "<style scoped>\n",
       "    .dataframe tbody tr th:only-of-type {\n",
       "        vertical-align: middle;\n",
       "    }\n",
       "\n",
       "    .dataframe tbody tr th {\n",
       "        vertical-align: top;\n",
       "    }\n",
       "\n",
       "    .dataframe thead th {\n",
       "        text-align: right;\n",
       "    }\n",
       "</style>\n",
       "<table border=\"1\" class=\"dataframe\">\n",
       "  <thead>\n",
       "    <tr style=\"text-align: right;\">\n",
       "      <th></th>\n",
       "      <th>title</th>\n",
       "      <th>description</th>\n",
       "      <th>link</th>\n",
       "      <th>date_published</th>\n",
       "    </tr>\n",
       "  </thead>\n",
       "  <tbody>\n",
       "    <tr>\n",
       "      <th>0</th>\n",
       "      <td>Consejo Fiscal pide que el TC revise las más d...</td>\n",
       "      <td>Alonso Segura alerta sobre la \"avalancha enorm...</td>\n",
       "      <td>https://rpp.pe/economia/economia/consejo-fisca...</td>\n",
       "      <td>Wed, 22 Oct 2025 10:15:26 -0500</td>\n",
       "    </tr>\n",
       "    <tr>\n",
       "      <th>1</th>\n",
       "      <td>Estados Unidos anunciará un \"aumento sustancia...</td>\n",
       "      <td>\"Vamos a anunciar después del cierre (de los m...</td>\n",
       "      <td>https://rpp.pe/mundo/estados-unidos/estados-un...</td>\n",
       "      <td>Wed, 22 Oct 2025 16:33:24 -0500</td>\n",
       "    </tr>\n",
       "    <tr>\n",
       "      <th>2</th>\n",
       "      <td>Policía en presunto estado de ebriedad es dete...</td>\n",
       "      <td>El agente es de la Unidad de Servicios Especia...</td>\n",
       "      <td>https://rpp.pe/peru/junin/huancayo-detienen-a-...</td>\n",
       "      <td>Wed, 22 Oct 2025 16:05:27 -0500</td>\n",
       "    </tr>\n",
       "    <tr>\n",
       "      <th>3</th>\n",
       "      <td>Agua Marina se retira temporalmente los escena...</td>\n",
       "      <td>El cantante Lucho Granda señaló que la decisió...</td>\n",
       "      <td>https://rpp.pe/musica/nacional/agua-marina-se-...</td>\n",
       "      <td>Wed, 22 Oct 2025 11:59:24 -0500</td>\n",
       "    </tr>\n",
       "    <tr>\n",
       "      <th>4</th>\n",
       "      <td>Congreso propone sueldos de hasta S/ 17,500 en...</td>\n",
       "      <td>El congresista Guido Bellido presentó un proye...</td>\n",
       "      <td>https://rpp.pe/economia/economia/alza-salarial...</td>\n",
       "      <td>Wed, 22 Oct 2025 13:30:02 -0500</td>\n",
       "    </tr>\n",
       "    <tr>\n",
       "      <th>5</th>\n",
       "      <td>Álvarez dice que posible ampliación del Reinfo...</td>\n",
       "      <td>El jefe del Gabinete Ministerial indicó que el...</td>\n",
       "      <td>https://rpp.pe/politica/gobierno/alvarez-sobre...</td>\n",
       "      <td>Wed, 22 Oct 2025 14:08:40 -0500</td>\n",
       "    </tr>\n",
       "    <tr>\n",
       "      <th>6</th>\n",
       "      <td>¿Será necesario prorrogar el estado de emergen...</td>\n",
       "      <td>En Ampliación de Noticias, Rubén Cano consider...</td>\n",
       "      <td>https://rpp.pe/lima/seguridad/estado-de-emerge...</td>\n",
       "      <td>Wed, 22 Oct 2025 13:34:50 -0500</td>\n",
       "    </tr>\n",
       "    <tr>\n",
       "      <th>7</th>\n",
       "      <td>Cronograma del octavo retiro de AFP 2025 HOY: ...</td>\n",
       "      <td>El desembolso se efectuará hasta en cuatro arm...</td>\n",
       "      <td>https://rpp.pe/economia/economia/octavo-retiro...</td>\n",
       "      <td>Wed, 22 Oct 2025 16:30:03 -0500</td>\n",
       "    </tr>\n",
       "    <tr>\n",
       "      <th>8</th>\n",
       "      <td>Argentina: dólar blue hoy a cuánto cotiza este...</td>\n",
       "      <td>La cotización del dólar blue, hoy miércoles 22...</td>\n",
       "      <td>https://rpp.pe/mundo/argentina/argentina-dolar...</td>\n",
       "      <td>Wed, 22 Oct 2025 05:59:39 -0500</td>\n",
       "    </tr>\n",
       "    <tr>\n",
       "      <th>9</th>\n",
       "      <td>Breña: familia busca a adulto mayor con Alzhei...</td>\n",
       "      <td>Rotafono de RPP | La última vez que lo vieron ...</td>\n",
       "      <td>https://rpp.pe/rotafono/servicios-a-la-comunid...</td>\n",
       "      <td>Wed, 22 Oct 2025 14:06:06 -0500</td>\n",
       "    </tr>\n",
       "  </tbody>\n",
       "</table>\n",
       "</div>"
      ],
      "text/plain": [
       "                                               title  \\\n",
       "0  Consejo Fiscal pide que el TC revise las más d...   \n",
       "1  Estados Unidos anunciará un \"aumento sustancia...   \n",
       "2  Policía en presunto estado de ebriedad es dete...   \n",
       "3  Agua Marina se retira temporalmente los escena...   \n",
       "4  Congreso propone sueldos de hasta S/ 17,500 en...   \n",
       "5  Álvarez dice que posible ampliación del Reinfo...   \n",
       "6  ¿Será necesario prorrogar el estado de emergen...   \n",
       "7  Cronograma del octavo retiro de AFP 2025 HOY: ...   \n",
       "8  Argentina: dólar blue hoy a cuánto cotiza este...   \n",
       "9  Breña: familia busca a adulto mayor con Alzhei...   \n",
       "\n",
       "                                         description  \\\n",
       "0  Alonso Segura alerta sobre la \"avalancha enorm...   \n",
       "1  \"Vamos a anunciar después del cierre (de los m...   \n",
       "2  El agente es de la Unidad de Servicios Especia...   \n",
       "3  El cantante Lucho Granda señaló que la decisió...   \n",
       "4  El congresista Guido Bellido presentó un proye...   \n",
       "5  El jefe del Gabinete Ministerial indicó que el...   \n",
       "6  En Ampliación de Noticias, Rubén Cano consider...   \n",
       "7  El desembolso se efectuará hasta en cuatro arm...   \n",
       "8  La cotización del dólar blue, hoy miércoles 22...   \n",
       "9  Rotafono de RPP | La última vez que lo vieron ...   \n",
       "\n",
       "                                                link  \\\n",
       "0  https://rpp.pe/economia/economia/consejo-fisca...   \n",
       "1  https://rpp.pe/mundo/estados-unidos/estados-un...   \n",
       "2  https://rpp.pe/peru/junin/huancayo-detienen-a-...   \n",
       "3  https://rpp.pe/musica/nacional/agua-marina-se-...   \n",
       "4  https://rpp.pe/economia/economia/alza-salarial...   \n",
       "5  https://rpp.pe/politica/gobierno/alvarez-sobre...   \n",
       "6  https://rpp.pe/lima/seguridad/estado-de-emerge...   \n",
       "7  https://rpp.pe/economia/economia/octavo-retiro...   \n",
       "8  https://rpp.pe/mundo/argentina/argentina-dolar...   \n",
       "9  https://rpp.pe/rotafono/servicios-a-la-comunid...   \n",
       "\n",
       "                    date_published  \n",
       "0  Wed, 22 Oct 2025 10:15:26 -0500  \n",
       "1  Wed, 22 Oct 2025 16:33:24 -0500  \n",
       "2  Wed, 22 Oct 2025 16:05:27 -0500  \n",
       "3  Wed, 22 Oct 2025 11:59:24 -0500  \n",
       "4  Wed, 22 Oct 2025 13:30:02 -0500  \n",
       "5  Wed, 22 Oct 2025 14:08:40 -0500  \n",
       "6  Wed, 22 Oct 2025 13:34:50 -0500  \n",
       "7  Wed, 22 Oct 2025 16:30:03 -0500  \n",
       "8  Wed, 22 Oct 2025 05:59:39 -0500  \n",
       "9  Wed, 22 Oct 2025 14:06:06 -0500  "
      ]
     },
     "metadata": {},
     "output_type": "display_data"
    },
    {
     "name": "stdout",
     "output_type": "stream",
     "text": [
      "\n",
      "💾 Results saved to: ../outputs/query_results_economia.csv\n"
     ]
    }
   ],
   "source": [
    "# Create and display results DataFrame\n",
    "df_results = create_results_dataframe(results)\n",
    "\n",
    "print(\"\\n📊 Query Results:\")\n",
    "print(f\"   Found {len(df_results)} relevant articles\")\n",
    "display(df_results)\n",
    "\n",
    "# Save to CSV\n",
    "output_path = \"../outputs/query_results_economia.csv\"\n",
    "df_results.to_csv(output_path, index=False)\n",
    "print(f\"\\n💾 Results saved to: {output_path}\")"
   ]
  },
  {
   "cell_type": "markdown",
   "metadata": {},
   "source": [
    "## 6. LangChain Orchestration Pipeline\n",
    "\n",
    "Implement the complete end-to-end pipeline using LangChain.\n",
    "\n",
    "**Requirements:**\n",
    "- End-to-end pipeline: Load RSS → Tokenize → Embed → Store → Retrieve\n",
    "- Each step should be modular (functions or LangChain chains)\n",
    "- Use same `chroma_db/` directory for consistency\n",
    "- Demonstrate complete pipeline execution with query results"
   ]
  },
  {
   "cell_type": "code",
   "execution_count": 91,
   "metadata": {},
   "outputs": [
    {
     "name": "stdout",
     "output_type": "stream",
     "text": [
      "🔗 Initializing LangChain Pipeline...\n"
     ]
    },
    {
     "name": "stderr",
     "output_type": "stream",
     "text": [
      "/Users/gabrielsaco/anaconda3/envs/rpp/lib/python3.11/site-packages/huggingface_hub/file_download.py:945: FutureWarning: `resume_download` is deprecated and will be removed in version 1.0.0. Downloads always resume when possible. If you want to force a new download, use `force_download=True`.\n",
      "  warnings.warn(\n"
     ]
    },
    {
     "name": "stdout",
     "output_type": "stream",
     "text": [
      "✅ LangChain pipeline initialized!\n"
     ]
    }
   ],
   "source": [
    "# Initialize LangChain pipeline\n",
    "print(\"🔗 Initializing LangChain Pipeline...\")\n",
    "langchain_pipeline = NewsRetrievalPipeline(\n",
    "    model_name=\"sentence-transformers/all-MiniLM-L6-v2\",\n",
    "    persist_directory=\"../chroma_db\"\n",
    ")\n",
    "print(\"✅ LangChain pipeline initialized!\")"
   ]
  },
  {
   "cell_type": "code",
   "execution_count": 92,
   "metadata": {},
   "outputs": [
    {
     "name": "stdout",
     "output_type": "stream",
     "text": [
      "\n",
      "📡 Loading fresh RSS feed...\n",
      "✅ Loaded 50 fresh news items\n"
     ]
    }
   ],
   "source": [
    "# Load fresh RSS feed for LangChain demo\n",
    "print(\"\\n📡 Loading fresh RSS feed...\")\n",
    "fresh_news = load_rss_feed(url=\"https://rpp.pe/rss\", max_items=50)\n",
    "print(f\"✅ Loaded {len(fresh_news)} fresh news items\")"
   ]
  },
  {
   "cell_type": "code",
   "execution_count": 93,
   "metadata": {},
   "outputs": [
    {
     "name": "stdout",
     "output_type": "stream",
     "text": [
      "\n",
      "🔄 Step 1: Loading and processing documents...\n",
      "✅ Created 50 LangChain documents\n",
      "   Sample document content: México confirma arresto en Cuba de Zhi Dong Zhang, el capo chino del tráfico de fentanilo a EE.UU.. ...\n",
      "   Sample metadata: {'title': 'México confirma arresto en Cuba de Zhi Dong Zhang, el capo chino del tráfico de fentanilo a EE.UU.', 'link': 'https://rpp.pe/mundo/actualidad/mexico-confirma-arresto-en-cuba-de-zhi-dong-zhang-el-capo-chino-del-trafico-de-fentanilo-a-eeuu-noticia-1660533', 'published': 'Wed, 22 Oct 2025 16:45:36 -0500', 'description': \"Zhi Dong Zhang, alias 'Brother Wang', había escapado en julio de 2025 de un arresto domiciliario en la Ciudad de México, donde se encontraba bajo custodia de la Guardia Nacional.\"}\n"
     ]
    }
   ],
   "source": [
    "# Step 1: Load and Process with LangChain\n",
    "print(\"\\n🔄 Step 1: Loading and processing documents...\")\n",
    "documents = langchain_pipeline.load_and_process(fresh_news)\n",
    "print(f\"✅ Created {len(documents)} LangChain documents\")\n",
    "print(f\"   Sample document content: {documents[0].page_content[:100]}...\")\n",
    "print(f\"   Sample metadata: {documents[0].metadata}\")"
   ]
  },
  {
   "cell_type": "code",
   "execution_count": 94,
   "metadata": {},
   "outputs": [
    {
     "name": "stderr",
     "output_type": "stream",
     "text": [
      "Failed to send telemetry event ClientStartEvent: capture() takes 1 positional argument but 3 were given\n",
      "Failed to send telemetry event ClientCreateCollectionEvent: capture() takes 1 positional argument but 3 were given\n"
     ]
    },
    {
     "name": "stdout",
     "output_type": "stream",
     "text": [
      "\n",
      "� Creating vector store in chroma_db_lc/...\n",
      "✅ Vector store created and persisted to ../chroma_db_lc/\n"
     ]
    }
   ],
   "source": [
    "# Step 2: Create Vector Store\n",
    "print(\"\\n� Creating vector store in chroma_db_lc/...\")\n",
    "langchain_pipeline.create_vectorstore(documents)\n",
    "print(\"✅ Vector store created and persisted to ../chroma_db_lc/\")"
   ]
  },
  {
   "cell_type": "code",
   "execution_count": 95,
   "metadata": {},
   "outputs": [
    {
     "name": "stdout",
     "output_type": "stream",
     "text": [
      "\n",
      "🔄 Step 3: Querying vector store...\n",
      "\n",
      "📊 LangChain Query Results for: 'Últimas noticias de economía'\n"
     ]
    },
    {
     "data": {
      "application/vnd.microsoft.datawrangler.viewer.v0+json": {
       "columns": [
        {
         "name": "index",
         "rawType": "int64",
         "type": "integer"
        },
        {
         "name": "title",
         "rawType": "object",
         "type": "string"
        },
        {
         "name": "description",
         "rawType": "object",
         "type": "string"
        },
        {
         "name": "link",
         "rawType": "object",
         "type": "string"
        },
        {
         "name": "date_published",
         "rawType": "object",
         "type": "string"
        }
       ],
       "ref": "44655465-c379-4784-ad8a-fa53d0141c42",
       "rows": [
        [
         "0",
         "Policía en presunto estado de ebriedad es detenido por agredir a dos colegas que intentaron intervenirlo en Huancayo [VIDEO]",
         "El agente es de la Unidad de Servicios Especiales (USE) y atacó a los efectivos que intentaron intervenirlo por estacionar su auto en plena vía pública.",
         "https://rpp.pe/peru/junin/huancayo-detienen-a-policia-tras-agredir-a-sus-colegas-en-presunto-estado-de-ebriedad-noticia-1660515",
         "Wed, 22 Oct 2025 16:05:27 -0500"
        ],
        [
         "1",
         "Policía en presunto estado de ebriedad es detenido por agredir a dos colegas que intentaron intervenirlo en Huancayo [VIDEO]",
         "El agente es de la Unidad de Servicios Especiales (USE) y atacó a los efectivos que intentaron intervenirlo por estacionar su auto en plena vía pública.",
         "https://rpp.pe/peru/junin/huancayo-detienen-a-policia-tras-agredir-a-sus-colegas-en-presunto-estado-de-ebriedad-noticia-1660515",
         "Wed, 22 Oct 2025 16:05:27 -0500"
        ],
        [
         "2",
         "Policía en presunto estado de ebriedad es detenido por agredir a dos colegas que intentaron intervenirlo en Huancayo [VIDEO]",
         "El agente es de la Unidad de Servicios Especiales (USE) y atacó a los efectivos que intentaron intervenirlo por estacionar su auto en plena vía pública.",
         "https://rpp.pe/peru/junin/huancayo-detienen-a-policia-tras-agredir-a-sus-colegas-en-presunto-estado-de-ebriedad-noticia-1660515",
         "Wed, 22 Oct 2025 16:05:27 -0500"
        ],
        [
         "3",
         "Policía en presunto estado de ebriedad es detenido por agredir a dos colegas que intentaron intervenirlo en Huancayo [VIDEO]",
         "El agente es de la Unidad de Servicios Especiales (USE) y atacó a los efectivos que intentaron intervenirlo por estacionar su auto en plena vía pública.",
         "https://rpp.pe/peru/junin/huancayo-detienen-a-policia-tras-agredir-a-sus-colegas-en-presunto-estado-de-ebriedad-noticia-1660515",
         "Wed, 22 Oct 2025 16:05:27 -0500"
        ],
        [
         "4",
         "Policía en presunto estado de ebriedad es detenido por agredir a dos colegas que intentaron intervenirlo en Huancayo [VIDEO]",
         "El agente es de la Unidad de Servicios Especiales (USE) y atacó a los efectivos que intentaron intervenirlo por estacionar su auto en plena vía pública.",
         "https://rpp.pe/peru/junin/huancayo-detienen-a-policia-tras-agredir-a-sus-colegas-en-presunto-estado-de-ebriedad-noticia-1660515",
         "Wed, 22 Oct 2025 16:05:27 -0500"
        ],
        [
         "5",
         "Policía en presunto estado de ebriedad es detenido por agredir a dos colegas que intentaron intervenirlo en Huancayo [VIDEO]",
         "El agente es de la Unidad de Servicios Especiales (USE) y atacó a los efectivos que intentaron intervenirlo por estacionar su auto en plena vía pública.",
         "https://rpp.pe/peru/junin/huancayo-detienen-a-policia-tras-agredir-a-sus-colegas-en-presunto-estado-de-ebriedad-noticia-1660515",
         "Wed, 22 Oct 2025 16:05:27 -0500"
        ],
        [
         "6",
         "Policía en presunto estado de ebriedad es detenido por agredir a dos colegas que intentaron intervenirlo en Huancayo [VIDEO]",
         "El agente es de la Unidad de Servicios Especiales (USE) y atacó a los efectivos que intentaron intervenirlo por estacionar su auto en plena vía pública.",
         "https://rpp.pe/peru/junin/huancayo-detienen-a-policia-tras-agredir-a-sus-colegas-en-presunto-estado-de-ebriedad-noticia-1660515",
         "Wed, 22 Oct 2025 16:05:27 -0500"
        ],
        [
         "7",
         "Policía en presunto estado de ebriedad es detenido por agredir a dos colegas que intentaron intervenirlo en Huancayo [VIDEO]",
         "El agente es de la Unidad de Servicios Especiales (USE) y atacó a los efectivos que intentaron intervenirlo por estacionar su auto en plena vía pública.",
         "https://rpp.pe/peru/junin/huancayo-detienen-a-policia-tras-agredir-a-sus-colegas-en-presunto-estado-de-ebriedad-noticia-1660515",
         "Wed, 22 Oct 2025 16:05:27 -0500"
        ],
        [
         "8",
         "Policía en presunto estado de ebriedad es detenido por agredir a dos colegas que intentaron intervenirlo en Huancayo [VIDEO]",
         "El agente es de la Unidad de Servicios Especiales (USE) y atacó a los efectivos que intentaron intervenirlo por estacionar su auto en plena vía pública.",
         "https://rpp.pe/peru/junin/huancayo-detienen-a-policia-tras-agredir-a-sus-colegas-en-presunto-estado-de-ebriedad-noticia-1660515",
         "Wed, 22 Oct 2025 16:05:27 -0500"
        ],
        [
         "9",
         "Agua Marina se retira temporalmente los escenarios, según integrante: “Es triste porque la música es nuestra vida”",
         "El cantante Lucho Granda señaló que la decisión busca proteger su salud emocional luego del ataque sufrido por la agrupación en medio de un concierto.",
         "https://rpp.pe/musica/nacional/agua-marina-se-retira-temporalmente-los-escenarios-segun-integrante-noticia-1660461",
         "Wed, 22 Oct 2025 11:59:24 -0500"
        ]
       ],
       "shape": {
        "columns": 4,
        "rows": 10
       }
      },
      "text/html": [
       "<div>\n",
       "<style scoped>\n",
       "    .dataframe tbody tr th:only-of-type {\n",
       "        vertical-align: middle;\n",
       "    }\n",
       "\n",
       "    .dataframe tbody tr th {\n",
       "        vertical-align: top;\n",
       "    }\n",
       "\n",
       "    .dataframe thead th {\n",
       "        text-align: right;\n",
       "    }\n",
       "</style>\n",
       "<table border=\"1\" class=\"dataframe\">\n",
       "  <thead>\n",
       "    <tr style=\"text-align: right;\">\n",
       "      <th></th>\n",
       "      <th>title</th>\n",
       "      <th>description</th>\n",
       "      <th>link</th>\n",
       "      <th>date_published</th>\n",
       "    </tr>\n",
       "  </thead>\n",
       "  <tbody>\n",
       "    <tr>\n",
       "      <th>0</th>\n",
       "      <td>Policía en presunto estado de ebriedad es dete...</td>\n",
       "      <td>El agente es de la Unidad de Servicios Especia...</td>\n",
       "      <td>https://rpp.pe/peru/junin/huancayo-detienen-a-...</td>\n",
       "      <td>Wed, 22 Oct 2025 16:05:27 -0500</td>\n",
       "    </tr>\n",
       "    <tr>\n",
       "      <th>1</th>\n",
       "      <td>Policía en presunto estado de ebriedad es dete...</td>\n",
       "      <td>El agente es de la Unidad de Servicios Especia...</td>\n",
       "      <td>https://rpp.pe/peru/junin/huancayo-detienen-a-...</td>\n",
       "      <td>Wed, 22 Oct 2025 16:05:27 -0500</td>\n",
       "    </tr>\n",
       "    <tr>\n",
       "      <th>2</th>\n",
       "      <td>Policía en presunto estado de ebriedad es dete...</td>\n",
       "      <td>El agente es de la Unidad de Servicios Especia...</td>\n",
       "      <td>https://rpp.pe/peru/junin/huancayo-detienen-a-...</td>\n",
       "      <td>Wed, 22 Oct 2025 16:05:27 -0500</td>\n",
       "    </tr>\n",
       "    <tr>\n",
       "      <th>3</th>\n",
       "      <td>Policía en presunto estado de ebriedad es dete...</td>\n",
       "      <td>El agente es de la Unidad de Servicios Especia...</td>\n",
       "      <td>https://rpp.pe/peru/junin/huancayo-detienen-a-...</td>\n",
       "      <td>Wed, 22 Oct 2025 16:05:27 -0500</td>\n",
       "    </tr>\n",
       "    <tr>\n",
       "      <th>4</th>\n",
       "      <td>Policía en presunto estado de ebriedad es dete...</td>\n",
       "      <td>El agente es de la Unidad de Servicios Especia...</td>\n",
       "      <td>https://rpp.pe/peru/junin/huancayo-detienen-a-...</td>\n",
       "      <td>Wed, 22 Oct 2025 16:05:27 -0500</td>\n",
       "    </tr>\n",
       "    <tr>\n",
       "      <th>5</th>\n",
       "      <td>Policía en presunto estado de ebriedad es dete...</td>\n",
       "      <td>El agente es de la Unidad de Servicios Especia...</td>\n",
       "      <td>https://rpp.pe/peru/junin/huancayo-detienen-a-...</td>\n",
       "      <td>Wed, 22 Oct 2025 16:05:27 -0500</td>\n",
       "    </tr>\n",
       "    <tr>\n",
       "      <th>6</th>\n",
       "      <td>Policía en presunto estado de ebriedad es dete...</td>\n",
       "      <td>El agente es de la Unidad de Servicios Especia...</td>\n",
       "      <td>https://rpp.pe/peru/junin/huancayo-detienen-a-...</td>\n",
       "      <td>Wed, 22 Oct 2025 16:05:27 -0500</td>\n",
       "    </tr>\n",
       "    <tr>\n",
       "      <th>7</th>\n",
       "      <td>Policía en presunto estado de ebriedad es dete...</td>\n",
       "      <td>El agente es de la Unidad de Servicios Especia...</td>\n",
       "      <td>https://rpp.pe/peru/junin/huancayo-detienen-a-...</td>\n",
       "      <td>Wed, 22 Oct 2025 16:05:27 -0500</td>\n",
       "    </tr>\n",
       "    <tr>\n",
       "      <th>8</th>\n",
       "      <td>Policía en presunto estado de ebriedad es dete...</td>\n",
       "      <td>El agente es de la Unidad de Servicios Especia...</td>\n",
       "      <td>https://rpp.pe/peru/junin/huancayo-detienen-a-...</td>\n",
       "      <td>Wed, 22 Oct 2025 16:05:27 -0500</td>\n",
       "    </tr>\n",
       "    <tr>\n",
       "      <th>9</th>\n",
       "      <td>Agua Marina se retira temporalmente los escena...</td>\n",
       "      <td>El cantante Lucho Granda señaló que la decisió...</td>\n",
       "      <td>https://rpp.pe/musica/nacional/agua-marina-se-...</td>\n",
       "      <td>Wed, 22 Oct 2025 11:59:24 -0500</td>\n",
       "    </tr>\n",
       "  </tbody>\n",
       "</table>\n",
       "</div>"
      ],
      "text/plain": [
       "                                               title  \\\n",
       "0  Policía en presunto estado de ebriedad es dete...   \n",
       "1  Policía en presunto estado de ebriedad es dete...   \n",
       "2  Policía en presunto estado de ebriedad es dete...   \n",
       "3  Policía en presunto estado de ebriedad es dete...   \n",
       "4  Policía en presunto estado de ebriedad es dete...   \n",
       "5  Policía en presunto estado de ebriedad es dete...   \n",
       "6  Policía en presunto estado de ebriedad es dete...   \n",
       "7  Policía en presunto estado de ebriedad es dete...   \n",
       "8  Policía en presunto estado de ebriedad es dete...   \n",
       "9  Agua Marina se retira temporalmente los escena...   \n",
       "\n",
       "                                         description  \\\n",
       "0  El agente es de la Unidad de Servicios Especia...   \n",
       "1  El agente es de la Unidad de Servicios Especia...   \n",
       "2  El agente es de la Unidad de Servicios Especia...   \n",
       "3  El agente es de la Unidad de Servicios Especia...   \n",
       "4  El agente es de la Unidad de Servicios Especia...   \n",
       "5  El agente es de la Unidad de Servicios Especia...   \n",
       "6  El agente es de la Unidad de Servicios Especia...   \n",
       "7  El agente es de la Unidad de Servicios Especia...   \n",
       "8  El agente es de la Unidad de Servicios Especia...   \n",
       "9  El cantante Lucho Granda señaló que la decisió...   \n",
       "\n",
       "                                                link  \\\n",
       "0  https://rpp.pe/peru/junin/huancayo-detienen-a-...   \n",
       "1  https://rpp.pe/peru/junin/huancayo-detienen-a-...   \n",
       "2  https://rpp.pe/peru/junin/huancayo-detienen-a-...   \n",
       "3  https://rpp.pe/peru/junin/huancayo-detienen-a-...   \n",
       "4  https://rpp.pe/peru/junin/huancayo-detienen-a-...   \n",
       "5  https://rpp.pe/peru/junin/huancayo-detienen-a-...   \n",
       "6  https://rpp.pe/peru/junin/huancayo-detienen-a-...   \n",
       "7  https://rpp.pe/peru/junin/huancayo-detienen-a-...   \n",
       "8  https://rpp.pe/peru/junin/huancayo-detienen-a-...   \n",
       "9  https://rpp.pe/musica/nacional/agua-marina-se-...   \n",
       "\n",
       "                    date_published  \n",
       "0  Wed, 22 Oct 2025 16:05:27 -0500  \n",
       "1  Wed, 22 Oct 2025 16:05:27 -0500  \n",
       "2  Wed, 22 Oct 2025 16:05:27 -0500  \n",
       "3  Wed, 22 Oct 2025 16:05:27 -0500  \n",
       "4  Wed, 22 Oct 2025 16:05:27 -0500  \n",
       "5  Wed, 22 Oct 2025 16:05:27 -0500  \n",
       "6  Wed, 22 Oct 2025 16:05:27 -0500  \n",
       "7  Wed, 22 Oct 2025 16:05:27 -0500  \n",
       "8  Wed, 22 Oct 2025 16:05:27 -0500  \n",
       "9  Wed, 22 Oct 2025 11:59:24 -0500  "
      ]
     },
     "metadata": {},
     "output_type": "display_data"
    }
   ],
   "source": [
    "# Step 3: Query with LangChain\n",
    "print(\"\\n🔄 Step 3: Querying vector store...\")\n",
    "query = \"Últimas noticias de economía\"\n",
    "df_langchain_results = langchain_pipeline.query(query, k=10)\n",
    "\n",
    "print(f\"\\n📊 LangChain Query Results for: '{query}'\")\n",
    "display(df_langchain_results)\n",
    "\n",
    "# Save results\n",
    "output_path_lc = \"../outputs/langchain_query_results.csv\"\n",
    "data_path_lc = \"../data/langchain_query_results.csv\"\n",
    "df_langchain_results.to_csv(output_path_lc, index=False)\n",
    "df_langchain_results.to_csv(data_path_lc, index=False)\n"
   ]
  },
  {
   "cell_type": "code",
   "execution_count": 96,
   "metadata": {},
   "outputs": [
    {
     "name": "stdout",
     "output_type": "stream",
     "text": [
      "\n",
      "🚀 Running Complete End-to-End Pipeline...\n",
      "\n"
     ]
    },
    {
     "name": "stderr",
     "output_type": "stream",
     "text": [
      "/Users/gabrielsaco/anaconda3/envs/rpp/lib/python3.11/site-packages/huggingface_hub/file_download.py:945: FutureWarning: `resume_download` is deprecated and will be removed in version 1.0.0. Downloads always resume when possible. If you want to force a new download, use `force_download=True`.\n",
      "  warnings.warn(\n",
      "Failed to send telemetry event ClientStartEvent: capture() takes 1 positional argument but 3 were given\n",
      "Failed to send telemetry event ClientCreateCollectionEvent: capture() takes 1 positional argument but 3 were given\n"
     ]
    },
    {
     "name": "stdout",
     "output_type": "stream",
     "text": [
      "\n",
      "📊 Complete Pipeline Results for: 'Noticias sobre tecnología e innovación'\n"
     ]
    },
    {
     "data": {
      "application/vnd.microsoft.datawrangler.viewer.v0+json": {
       "columns": [
        {
         "name": "index",
         "rawType": "int64",
         "type": "integer"
        },
        {
         "name": "title",
         "rawType": "object",
         "type": "string"
        },
        {
         "name": "description",
         "rawType": "object",
         "type": "string"
        },
        {
         "name": "link",
         "rawType": "object",
         "type": "string"
        },
        {
         "name": "date_published",
         "rawType": "object",
         "type": "string"
        }
       ],
       "ref": "60f08e68-5a7e-4709-990f-af030da58b05",
       "rows": [
        [
         "0",
         "Sentencian a 21 años de prisión a sicario venezolano que asesinó a un obrero en Comas",
         "El asesino pudo ser identificado, en parte, gracias a la participación de un testigo protegido durante el proceso, informó el Ministerio Público.",
         "https://rpp.pe/lima/policiales/comas-sentencian-a-21-anos-a-sicario-venezolano-que-asesino-a-obrero-noticia-1660510",
         "Wed, 22 Oct 2025 14:50:19 -0500"
        ],
        [
         "1",
         "Sentencian a 21 años de prisión a sicario venezolano que asesinó a un obrero en Comas",
         "El asesino pudo ser identificado, en parte, gracias a la participación de un testigo protegido durante el proceso, informó el Ministerio Público.",
         "https://rpp.pe/lima/policiales/comas-sentencian-a-21-anos-a-sicario-venezolano-que-asesino-a-obrero-noticia-1660510",
         "Wed, 22 Oct 2025 14:50:19 -0500"
        ],
        [
         "2",
         "Sentencian a 21 años de prisión a sicario venezolano que asesinó a un obrero en Comas",
         "El asesino pudo ser identificado, en parte, gracias a la participación de un testigo protegido durante el proceso, informó el Ministerio Público.",
         "https://rpp.pe/lima/policiales/comas-sentencian-a-21-anos-a-sicario-venezolano-que-asesino-a-obrero-noticia-1660510",
         "Wed, 22 Oct 2025 14:50:19 -0500"
        ],
        [
         "3",
         "Sentencian a 21 años de prisión a sicario venezolano que asesinó a un obrero en Comas",
         "El asesino pudo ser identificado, en parte, gracias a la participación de un testigo protegido durante el proceso, informó el Ministerio Público.",
         "https://rpp.pe/lima/policiales/comas-sentencian-a-21-anos-a-sicario-venezolano-que-asesino-a-obrero-noticia-1660510",
         "Wed, 22 Oct 2025 14:50:19 -0500"
        ],
        [
         "4",
         "Sentencian a 21 años de prisión a sicario venezolano que asesinó a un obrero en Comas",
         "El asesino pudo ser identificado, en parte, gracias a la participación de un testigo protegido durante el proceso, informó el Ministerio Público.",
         "https://rpp.pe/lima/policiales/comas-sentencian-a-21-anos-a-sicario-venezolano-que-asesino-a-obrero-noticia-1660510",
         "Wed, 22 Oct 2025 14:50:19 -0500"
        ],
        [
         "5",
         "Sentencian a 21 años de prisión a sicario venezolano que asesinó a un obrero en Comas",
         "El asesino pudo ser identificado, en parte, gracias a la participación de un testigo protegido durante el proceso, informó el Ministerio Público.",
         "https://rpp.pe/lima/policiales/comas-sentencian-a-21-anos-a-sicario-venezolano-que-asesino-a-obrero-noticia-1660510",
         "Wed, 22 Oct 2025 14:50:19 -0500"
        ],
        [
         "6",
         "Sentencian a 21 años de prisión a sicario venezolano que asesinó a un obrero en Comas",
         "El asesino pudo ser identificado, en parte, gracias a la participación de un testigo protegido durante el proceso, informó el Ministerio Público.",
         "https://rpp.pe/lima/policiales/comas-sentencian-a-21-anos-a-sicario-venezolano-que-asesino-a-obrero-noticia-1660510",
         "Wed, 22 Oct 2025 14:50:19 -0500"
        ],
        [
         "7",
         "Sentencian a 21 años de prisión a sicario venezolano que asesinó a un obrero en Comas",
         "El asesino pudo ser identificado, en parte, gracias a la participación de un testigo protegido durante el proceso, informó el Ministerio Público.",
         "https://rpp.pe/lima/policiales/comas-sentencian-a-21-anos-a-sicario-venezolano-que-asesino-a-obrero-noticia-1660510",
         "Wed, 22 Oct 2025 14:50:19 -0500"
        ],
        [
         "8",
         "Sentencian a 21 años de prisión a sicario venezolano que asesinó a un obrero en Comas",
         "El asesino pudo ser identificado, en parte, gracias a la participación de un testigo protegido durante el proceso, informó el Ministerio Público.",
         "https://rpp.pe/lima/policiales/comas-sentencian-a-21-anos-a-sicario-venezolano-que-asesino-a-obrero-noticia-1660510",
         "Wed, 22 Oct 2025 14:50:19 -0500"
        ],
        [
         "9",
         "Sentencian a 21 años de prisión a sicario venezolano que asesinó a un obrero en Comas",
         "El asesino pudo ser identificado, en parte, gracias a la participación de un testigo protegido durante el proceso, informó el Ministerio Público.",
         "https://rpp.pe/lima/policiales/comas-sentencian-a-21-anos-a-sicario-venezolano-que-asesino-a-obrero-noticia-1660510",
         "Wed, 22 Oct 2025 14:50:19 -0500"
        ]
       ],
       "shape": {
        "columns": 4,
        "rows": 10
       }
      },
      "text/html": [
       "<div>\n",
       "<style scoped>\n",
       "    .dataframe tbody tr th:only-of-type {\n",
       "        vertical-align: middle;\n",
       "    }\n",
       "\n",
       "    .dataframe tbody tr th {\n",
       "        vertical-align: top;\n",
       "    }\n",
       "\n",
       "    .dataframe thead th {\n",
       "        text-align: right;\n",
       "    }\n",
       "</style>\n",
       "<table border=\"1\" class=\"dataframe\">\n",
       "  <thead>\n",
       "    <tr style=\"text-align: right;\">\n",
       "      <th></th>\n",
       "      <th>title</th>\n",
       "      <th>description</th>\n",
       "      <th>link</th>\n",
       "      <th>date_published</th>\n",
       "    </tr>\n",
       "  </thead>\n",
       "  <tbody>\n",
       "    <tr>\n",
       "      <th>0</th>\n",
       "      <td>Sentencian a 21 años de prisión a sicario vene...</td>\n",
       "      <td>El asesino pudo ser identificado, en parte, gr...</td>\n",
       "      <td>https://rpp.pe/lima/policiales/comas-sentencia...</td>\n",
       "      <td>Wed, 22 Oct 2025 14:50:19 -0500</td>\n",
       "    </tr>\n",
       "    <tr>\n",
       "      <th>1</th>\n",
       "      <td>Sentencian a 21 años de prisión a sicario vene...</td>\n",
       "      <td>El asesino pudo ser identificado, en parte, gr...</td>\n",
       "      <td>https://rpp.pe/lima/policiales/comas-sentencia...</td>\n",
       "      <td>Wed, 22 Oct 2025 14:50:19 -0500</td>\n",
       "    </tr>\n",
       "    <tr>\n",
       "      <th>2</th>\n",
       "      <td>Sentencian a 21 años de prisión a sicario vene...</td>\n",
       "      <td>El asesino pudo ser identificado, en parte, gr...</td>\n",
       "      <td>https://rpp.pe/lima/policiales/comas-sentencia...</td>\n",
       "      <td>Wed, 22 Oct 2025 14:50:19 -0500</td>\n",
       "    </tr>\n",
       "    <tr>\n",
       "      <th>3</th>\n",
       "      <td>Sentencian a 21 años de prisión a sicario vene...</td>\n",
       "      <td>El asesino pudo ser identificado, en parte, gr...</td>\n",
       "      <td>https://rpp.pe/lima/policiales/comas-sentencia...</td>\n",
       "      <td>Wed, 22 Oct 2025 14:50:19 -0500</td>\n",
       "    </tr>\n",
       "    <tr>\n",
       "      <th>4</th>\n",
       "      <td>Sentencian a 21 años de prisión a sicario vene...</td>\n",
       "      <td>El asesino pudo ser identificado, en parte, gr...</td>\n",
       "      <td>https://rpp.pe/lima/policiales/comas-sentencia...</td>\n",
       "      <td>Wed, 22 Oct 2025 14:50:19 -0500</td>\n",
       "    </tr>\n",
       "    <tr>\n",
       "      <th>5</th>\n",
       "      <td>Sentencian a 21 años de prisión a sicario vene...</td>\n",
       "      <td>El asesino pudo ser identificado, en parte, gr...</td>\n",
       "      <td>https://rpp.pe/lima/policiales/comas-sentencia...</td>\n",
       "      <td>Wed, 22 Oct 2025 14:50:19 -0500</td>\n",
       "    </tr>\n",
       "    <tr>\n",
       "      <th>6</th>\n",
       "      <td>Sentencian a 21 años de prisión a sicario vene...</td>\n",
       "      <td>El asesino pudo ser identificado, en parte, gr...</td>\n",
       "      <td>https://rpp.pe/lima/policiales/comas-sentencia...</td>\n",
       "      <td>Wed, 22 Oct 2025 14:50:19 -0500</td>\n",
       "    </tr>\n",
       "    <tr>\n",
       "      <th>7</th>\n",
       "      <td>Sentencian a 21 años de prisión a sicario vene...</td>\n",
       "      <td>El asesino pudo ser identificado, en parte, gr...</td>\n",
       "      <td>https://rpp.pe/lima/policiales/comas-sentencia...</td>\n",
       "      <td>Wed, 22 Oct 2025 14:50:19 -0500</td>\n",
       "    </tr>\n",
       "    <tr>\n",
       "      <th>8</th>\n",
       "      <td>Sentencian a 21 años de prisión a sicario vene...</td>\n",
       "      <td>El asesino pudo ser identificado, en parte, gr...</td>\n",
       "      <td>https://rpp.pe/lima/policiales/comas-sentencia...</td>\n",
       "      <td>Wed, 22 Oct 2025 14:50:19 -0500</td>\n",
       "    </tr>\n",
       "    <tr>\n",
       "      <th>9</th>\n",
       "      <td>Sentencian a 21 años de prisión a sicario vene...</td>\n",
       "      <td>El asesino pudo ser identificado, en parte, gr...</td>\n",
       "      <td>https://rpp.pe/lima/policiales/comas-sentencia...</td>\n",
       "      <td>Wed, 22 Oct 2025 14:50:19 -0500</td>\n",
       "    </tr>\n",
       "  </tbody>\n",
       "</table>\n",
       "</div>"
      ],
      "text/plain": [
       "                                               title  \\\n",
       "0  Sentencian a 21 años de prisión a sicario vene...   \n",
       "1  Sentencian a 21 años de prisión a sicario vene...   \n",
       "2  Sentencian a 21 años de prisión a sicario vene...   \n",
       "3  Sentencian a 21 años de prisión a sicario vene...   \n",
       "4  Sentencian a 21 años de prisión a sicario vene...   \n",
       "5  Sentencian a 21 años de prisión a sicario vene...   \n",
       "6  Sentencian a 21 años de prisión a sicario vene...   \n",
       "7  Sentencian a 21 años de prisión a sicario vene...   \n",
       "8  Sentencian a 21 años de prisión a sicario vene...   \n",
       "9  Sentencian a 21 años de prisión a sicario vene...   \n",
       "\n",
       "                                         description  \\\n",
       "0  El asesino pudo ser identificado, en parte, gr...   \n",
       "1  El asesino pudo ser identificado, en parte, gr...   \n",
       "2  El asesino pudo ser identificado, en parte, gr...   \n",
       "3  El asesino pudo ser identificado, en parte, gr...   \n",
       "4  El asesino pudo ser identificado, en parte, gr...   \n",
       "5  El asesino pudo ser identificado, en parte, gr...   \n",
       "6  El asesino pudo ser identificado, en parte, gr...   \n",
       "7  El asesino pudo ser identificado, en parte, gr...   \n",
       "8  El asesino pudo ser identificado, en parte, gr...   \n",
       "9  El asesino pudo ser identificado, en parte, gr...   \n",
       "\n",
       "                                                link  \\\n",
       "0  https://rpp.pe/lima/policiales/comas-sentencia...   \n",
       "1  https://rpp.pe/lima/policiales/comas-sentencia...   \n",
       "2  https://rpp.pe/lima/policiales/comas-sentencia...   \n",
       "3  https://rpp.pe/lima/policiales/comas-sentencia...   \n",
       "4  https://rpp.pe/lima/policiales/comas-sentencia...   \n",
       "5  https://rpp.pe/lima/policiales/comas-sentencia...   \n",
       "6  https://rpp.pe/lima/policiales/comas-sentencia...   \n",
       "7  https://rpp.pe/lima/policiales/comas-sentencia...   \n",
       "8  https://rpp.pe/lima/policiales/comas-sentencia...   \n",
       "9  https://rpp.pe/lima/policiales/comas-sentencia...   \n",
       "\n",
       "                    date_published  \n",
       "0  Wed, 22 Oct 2025 14:50:19 -0500  \n",
       "1  Wed, 22 Oct 2025 14:50:19 -0500  \n",
       "2  Wed, 22 Oct 2025 14:50:19 -0500  \n",
       "3  Wed, 22 Oct 2025 14:50:19 -0500  \n",
       "4  Wed, 22 Oct 2025 14:50:19 -0500  \n",
       "5  Wed, 22 Oct 2025 14:50:19 -0500  \n",
       "6  Wed, 22 Oct 2025 14:50:19 -0500  \n",
       "7  Wed, 22 Oct 2025 14:50:19 -0500  \n",
       "8  Wed, 22 Oct 2025 14:50:19 -0500  \n",
       "9  Wed, 22 Oct 2025 14:50:19 -0500  "
      ]
     },
     "metadata": {},
     "output_type": "display_data"
    },
    {
     "name": "stdout",
     "output_type": "stream",
     "text": [
      "\n",
      "✅ Complete pipeline executed successfully!\n"
     ]
    }
   ],
   "source": [
    "# Complete Pipeline Demo\n",
    "print(\"\\n🚀 Running Complete End-to-End Pipeline...\\n\")\n",
    "\n",
    "# Create a new pipeline instance\n",
    "complete_pipeline = NewsRetrievalPipeline(\n",
    "    model_name=\"sentence-transformers/all-MiniLM-L6-v2\",\n",
    "    persist_directory=\"../chroma_db_\"\n",
    ")\n",
    "\n",
    "# Run complete pipeline\n",
    "query_complete = \"Noticias sobre tecnología e innovación\"\n",
    "df_complete = complete_pipeline.run_pipeline(\n",
    "    news_items=fresh_news,\n",
    "    query_text=query_complete,\n",
    "    k=10\n",
    ")\n",
    "\n",
    "print(f\"\\n📊 Complete Pipeline Results for: '{query_complete}'\")\n",
    "display(df_complete)\n",
    "\n",
    "print(\"\\n✅ Complete pipeline executed successfully!\")"
   ]
  }
 ],
 "metadata": {
  "kernelspec": {
   "display_name": "rpp",
   "language": "python",
   "name": "python3"
  },
  "language_info": {
   "codemirror_mode": {
    "name": "ipython",
    "version": 3
   },
   "file_extension": ".py",
   "mimetype": "text/x-python",
   "name": "python",
   "nbconvert_exporter": "python",
   "pygments_lexer": "ipython3",
   "version": "3.11.14"
  }
 },
 "nbformat": 4,
 "nbformat_minor": 4
}
